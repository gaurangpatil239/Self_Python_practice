{
 "cells": [
  {
   "cell_type": "markdown",
   "id": "ca2def70",
   "metadata": {},
   "source": [
    "#### Installation of Pandas"
   ]
  },
  {
   "cell_type": "code",
   "execution_count": 5,
   "id": "ea8bcf2f",
   "metadata": {},
   "outputs": [
    {
     "name": "stdout",
     "output_type": "stream",
     "text": [
      "Requirement already satisfied: pandas in c:\\users\\gaura\\anaconda3\\lib\\site-packages (2.0.3)\n",
      "Requirement already satisfied: python-dateutil>=2.8.2 in c:\\users\\gaura\\anaconda3\\lib\\site-packages (from pandas) (2.8.2)\n",
      "Requirement already satisfied: pytz>=2020.1 in c:\\users\\gaura\\anaconda3\\lib\\site-packages (from pandas) (2023.3.post1)\n",
      "Requirement already satisfied: tzdata>=2022.1 in c:\\users\\gaura\\anaconda3\\lib\\site-packages (from pandas) (2023.3)\n",
      "Requirement already satisfied: numpy>=1.21.0 in c:\\users\\gaura\\anaconda3\\lib\\site-packages (from pandas) (1.24.3)\n",
      "Requirement already satisfied: six>=1.5 in c:\\users\\gaura\\anaconda3\\lib\\site-packages (from python-dateutil>=2.8.2->pandas) (1.16.0)\n",
      "Note: you may need to restart the kernel to use updated packages.\n"
     ]
    }
   ],
   "source": [
    "pip install pandas"
   ]
  },
  {
   "cell_type": "markdown",
   "id": "8781a3c0",
   "metadata": {},
   "source": [
    "#### Import Pandas\n"
   ]
  },
  {
   "cell_type": "code",
   "execution_count": 6,
   "id": "fcee56ea",
   "metadata": {},
   "outputs": [],
   "source": [
    "import pandas as pd"
   ]
  },
  {
   "cell_type": "markdown",
   "id": "fef8df0d",
   "metadata": {},
   "source": [
    "#### Checking Pandas Version"
   ]
  },
  {
   "cell_type": "code",
   "execution_count": 7,
   "id": "f3084043",
   "metadata": {},
   "outputs": [
    {
     "name": "stdout",
     "output_type": "stream",
     "text": [
      "2.0.3\n"
     ]
    }
   ],
   "source": [
    "import pandas as pd\n",
    "\n",
    "print(pd.__version__)"
   ]
  },
  {
   "cell_type": "markdown",
   "id": "7d6928b0",
   "metadata": {},
   "source": [
    "#### Exercise 2 Creating Pandas Series"
   ]
  },
  {
   "cell_type": "code",
   "execution_count": 8,
   "id": "034a6051",
   "metadata": {},
   "outputs": [
    {
     "name": "stdout",
     "output_type": "stream",
     "text": [
      "0    1\n",
      "1    7\n",
      "2    2\n",
      "dtype: int64\n"
     ]
    }
   ],
   "source": [
    "import pandas as pd\n",
    "\n",
    "a = [1, 7, 2]\n",
    "\n",
    "# --- Added the code here ---\n",
    "myvar = pd.Series(a)\n",
    "# ---------------------------\n",
    "\n",
    "print(myvar)"
   ]
  },
  {
   "cell_type": "markdown",
   "id": "5e0be0fb",
   "metadata": {},
   "source": [
    "#### Exercise 3 Creating Labels"
   ]
  },
  {
   "cell_type": "code",
   "execution_count": 9,
   "id": "ec8f7be2",
   "metadata": {},
   "outputs": [
    {
     "name": "stdout",
     "output_type": "stream",
     "text": [
      "1\n"
     ]
    }
   ],
   "source": [
    "print(myvar[0])"
   ]
  },
  {
   "cell_type": "code",
   "execution_count": 13,
   "id": "ec78c73d",
   "metadata": {},
   "outputs": [
    {
     "name": "stdout",
     "output_type": "stream",
     "text": [
      "a    1\n",
      "b    7\n",
      "c    2\n",
      "dtype: int64\n"
     ]
    }
   ],
   "source": [
    "import pandas as pd\n",
    "\n",
    "a = [1, 7, 2]\n",
    "\n",
    "# --- Added the code here ---\n",
    "myvar = pd.Series(a, index = [\"a\", \"b\", \"c\"])\n",
    "# ---------------------------\n",
    "\n",
    "print(myvar)"
   ]
  },
  {
   "cell_type": "code",
   "execution_count": 14,
   "id": "d7f860c8",
   "metadata": {},
   "outputs": [
    {
     "name": "stdout",
     "output_type": "stream",
     "text": [
      "2\n"
     ]
    }
   ],
   "source": [
    "# --- Added the code here ---\n",
    "print(myvar[\"c\"])\n",
    "# ---------------------------"
   ]
  },
  {
   "cell_type": "markdown",
   "id": "ff7b66f2",
   "metadata": {},
   "source": [
    "#### Exercise 4 Key/Value Objects as Series"
   ]
  },
  {
   "cell_type": "code",
   "execution_count": 15,
   "id": "53c94f22",
   "metadata": {},
   "outputs": [
    {
     "name": "stdout",
     "output_type": "stream",
     "text": [
      "day1    420\n",
      "day2    380\n",
      "day3    390\n",
      "dtype: int64\n"
     ]
    }
   ],
   "source": [
    "import pandas as pd\n",
    "\n",
    "calories = {\"day1\": 420, \"day2\": 380, \"day3\": 390}\n",
    "\n",
    "# --- Added the code here ---\n",
    "myvar = pd.Series(calories)\n",
    "# ---------------------------\n",
    "\n",
    "print(myvar)"
   ]
  },
  {
   "cell_type": "code",
   "execution_count": 16,
   "id": "44380121",
   "metadata": {},
   "outputs": [
    {
     "name": "stdout",
     "output_type": "stream",
     "text": [
      "day1    420\n",
      "day2    380\n",
      "dtype: int64\n"
     ]
    }
   ],
   "source": [
    "import pandas as pd\n",
    "\n",
    "calories = {\"day1\": 420, \"day2\": 380, \"day3\": 390}\n",
    "\n",
    "# --- Added the code here ---\n",
    "myvar = pd.Series(calories, index = [\"day1\", \"day2\"])\n",
    "# ---------------------------\n",
    "\n",
    "print(myvar)"
   ]
  },
  {
   "cell_type": "markdown",
   "id": "bc8ef934",
   "metadata": {},
   "source": [
    "#### Exercise 5 Creating a DataFrame From Lists"
   ]
  },
  {
   "cell_type": "markdown",
   "id": "a8fb01dd",
   "metadata": {},
   "source": [
    "#### Pandas - DataFrame"
   ]
  },
  {
   "cell_type": "code",
   "execution_count": 17,
   "id": "3ce2e08a",
   "metadata": {
    "ExecuteTime": {
     "end_time": "2022-09-20T01:45:18.810146Z",
     "start_time": "2022-09-20T01:45:17.192591Z"
    }
   },
   "outputs": [
    {
     "name": "stdout",
     "output_type": "stream",
     "text": [
      "[[50, 'Bell pepper', 'Not even spicy'], [5000, 'Espelette pepper', 'Uncomfortable'], [500000, 'Chocolate habanero', 'Practically ate pepper spray']]\n"
     ]
    }
   ],
   "source": [
    "import pandas as pd\n",
    "\n",
    "pepper_list = [\n",
    "    [50, \"Bell pepper\", \"Not even spicy\"],\n",
    "    [5000, \"Espelette pepper\", \"Uncomfortable\"],\n",
    "    [500000, \"Chocolate habanero\", \"Practically ate pepper spray\"]\n",
    "]\n",
    "\n",
    "print(pepper_list)"
   ]
  },
  {
   "cell_type": "code",
   "execution_count": 18,
   "id": "f04e9906",
   "metadata": {},
   "outputs": [
    {
     "name": "stdout",
     "output_type": "stream",
     "text": [
      "        0                   1                             2\n",
      "0      50         Bell pepper                Not even spicy\n",
      "1    5000    Espelette pepper                 Uncomfortable\n",
      "2  500000  Chocolate habanero  Practically ate pepper spray\n"
     ]
    }
   ],
   "source": [
    "# --- Added the code here ---\n",
    "dataframe = pd.DataFrame(pepper_list)\n",
    "# ---------------------------\n",
    "\n",
    "print(dataframe)"
   ]
  },
  {
   "cell_type": "markdown",
   "id": "d8b79d34",
   "metadata": {},
   "source": [
    "#### Exercise 6 Adding the Column Name"
   ]
  },
  {
   "cell_type": "code",
   "execution_count": 20,
   "id": "181766c6",
   "metadata": {
    "ExecuteTime": {
     "end_time": "2022-09-20T01:52:01.610221Z",
     "start_time": "2022-09-20T01:52:01.604194Z"
    }
   },
   "outputs": [
    {
     "name": "stdout",
     "output_type": "stream",
     "text": [
      "   Scoville                Name                       Feeling\n",
      "0        50         Bell pepper                Not even spicy\n",
      "1      5000    Espelette pepper                 Uncomfortable\n",
      "2    500000  Chocolate habanero  Practically ate pepper spray\n"
     ]
    }
   ],
   "source": [
    "import pandas as pd\n",
    "\n",
    "pepper_list = [\n",
    "    [50, \"Bell pepper\", \"Not even spicy\"],\n",
    "    [5000, \"Espelette pepper\", \"Uncomfortable\"],\n",
    "    [500000, \"Chocolate habanero\", \"Practically ate pepper spray\"]\n",
    "]\n",
    "\n",
    "# --- Added the code here ---\n",
    "dataframe = pd.DataFrame(pepper_list, columns = ['Scoville', 'Name', 'Feeling'])\n",
    "# ---------------------------\n",
    "\n",
    "print(dataframe)"
   ]
  },
  {
   "cell_type": "markdown",
   "id": "af54ecda",
   "metadata": {},
   "source": [
    "#### Exercise 7 Creating a DataFrame From Dictionaries"
   ]
  },
  {
   "cell_type": "code",
   "execution_count": null,
   "id": "bfbf5a88",
   "metadata": {
    "ExecuteTime": {
     "end_time": "2022-09-20T01:55:01.486030Z",
     "start_time": "2022-09-20T01:55:01.480876Z"
    }
   },
   "outputs": [],
   "source": [
    "import pandas as pd\n",
    "\n",
    "pepper_dictionary = {\n",
    "    'Scoville' : [50, 5000, 500000],\n",
    "    'Name' : [\"Bell pepper\", \"Espelette pepper\", \"Chocolate habanero\"],\n",
    "    'Feeling' : [\"Not even spicy\", \"Uncomfortable\", \"Practically ate pepper spray\"]\n",
    "}\n",
    "\n",
    "print(pepper_dictionary)"
   ]
  },
  {
   "cell_type": "code",
   "execution_count": null,
   "id": "107b38a2",
   "metadata": {},
   "outputs": [],
   "source": [
    "# --- Added the code here ---\n",
    "dataframe = pd.DataFrame()\n",
    "# ---------------------------\n",
    "\n",
    "print(dataframe)"
   ]
  },
  {
   "cell_type": "markdown",
   "id": "d278ec0f",
   "metadata": {},
   "source": [
    "#### Additionally, we can use the DataFrame.from_dict ( ) function:"
   ]
  },
  {
   "cell_type": "code",
   "execution_count": 21,
   "id": "97376c90",
   "metadata": {
    "ExecuteTime": {
     "end_time": "2022-09-20T01:56:48.124083Z",
     "start_time": "2022-09-20T01:56:48.118556Z"
    }
   },
   "outputs": [
    {
     "name": "stdout",
     "output_type": "stream",
     "text": [
      "{'Scoville': [50, 5000, 500000], 'Name': ['Bell pepper', 'Espelette pepper', 'Chocolate habanero'], 'Feeling': ['Not even spicy', 'Uncomfortable', 'Practically ate pepper spray']}\n"
     ]
    }
   ],
   "source": [
    "import pandas as pd\n",
    "\n",
    "pepper_dictionary = {\n",
    "    'Scoville' : [50, 5000, 500000],\n",
    "    'Name' : [\"Bell pepper\", \"Espelette pepper\", \"Chocolate habanero\"],\n",
    "    'Feeling' : [\"Not even spicy\", \"Uncomfortable\", \"Practically ate pepper spray\"]\n",
    "}\n",
    "\n",
    "print(pepper_dictionary)"
   ]
  },
  {
   "cell_type": "code",
   "execution_count": 23,
   "id": "ae06e4ee",
   "metadata": {},
   "outputs": [
    {
     "name": "stdout",
     "output_type": "stream",
     "text": [
      "   Scoville                Name                       Feeling\n",
      "0        50         Bell pepper                Not even spicy\n",
      "1      5000    Espelette pepper                 Uncomfortable\n",
      "2    500000  Chocolate habanero  Practically ate pepper spray\n"
     ]
    }
   ],
   "source": [
    "# --- Added the code here ---\n",
    "dataframe = pd.DataFrame.from_dict(pepper_dictionary)\n",
    "# ---------------------------\n",
    "\n",
    "print(dataframe)"
   ]
  },
  {
   "cell_type": "markdown",
   "id": "b5a852b7",
   "metadata": {},
   "source": [
    "#### Exercise 8 Reading a DataFrame From a CSV File"
   ]
  },
  {
   "cell_type": "code",
   "execution_count": 26,
   "id": "436dd8f0",
   "metadata": {
    "ExecuteTime": {
     "end_time": "2022-09-20T02:05:35.612346Z",
     "start_time": "2022-09-20T02:05:35.606272Z"
    }
   },
   "outputs": [
    {
     "name": "stdout",
     "output_type": "stream",
     "text": [
      "   Scoville                Name                       Feeling\n",
      "0        50         Bell pepper                Not even spicy\n",
      "1      5000    Espelette pepper                 Uncomfortable\n",
      "2     10000      Serrano pepper                 I regret this\n",
      "3     60000    Bird's eye chili            4th stage of grief\n",
      "4    500000  Chocolate habanero  Practically ate pepper spray\n",
      "5   2000000     Carolina Reaper     Actually ate pepper spray\n"
     ]
    }
   ],
   "source": [
    "import pandas as pd\n",
    "\n",
    "# --- Added the code here ---\n",
    "dataframe  = pd.read_csv('peppers.csv')\n",
    "# ---------------------------\n",
    "\n",
    "print(dataframe)"
   ]
  },
  {
   "cell_type": "markdown",
   "id": "087cc9ad",
   "metadata": {},
   "source": [
    "#### Exercise 9 Reading a DataFrame From an Excel File"
   ]
  },
  {
   "cell_type": "code",
   "execution_count": null,
   "id": "83bfde8d",
   "metadata": {
    "ExecuteTime": {
     "end_time": "2022-09-20T02:08:54.443807Z",
     "start_time": "2022-09-20T02:08:52.627873Z"
    }
   },
   "outputs": [],
   "source": [
    "# Install a support library - OpenPyXL\n",
    "#!pip install openpyxl"
   ]
  },
  {
   "cell_type": "code",
   "execution_count": null,
   "id": "ceb32e20",
   "metadata": {
    "ExecuteTime": {
     "end_time": "2022-09-20T02:08:57.246650Z",
     "start_time": "2022-09-20T02:08:56.262834Z"
    }
   },
   "outputs": [],
   "source": [
    "import pandas as pd\n",
    "\n",
    "# --- Added the code here ---\n",
    "dataframe  = ('peppers.xlsx')\n",
    "# ---------------------------\n",
    "\n",
    "print(dataframe)"
   ]
  },
  {
   "cell_type": "markdown",
   "id": "a6bb12bb",
   "metadata": {},
   "source": [
    "#### Exercise 10 Accessing a Column"
   ]
  },
  {
   "cell_type": "code",
   "execution_count": 30,
   "id": "94821529",
   "metadata": {
    "ExecuteTime": {
     "end_time": "2022-09-20T02:11:58.716140Z",
     "start_time": "2022-09-20T02:11:58.709787Z"
    }
   },
   "outputs": [
    {
     "name": "stdout",
     "output_type": "stream",
     "text": [
      "   Scoville                Name                       Feeling\n",
      "0        50         Bell pepper                Not even spicy\n",
      "1      5000    Espelette pepper                 Uncomfortable\n",
      "2     10000      Serrano pepper                 I regret this\n",
      "3     60000    Bird's eye chili            4th stage of grief\n",
      "4    500000  Chocolate habanero  Practically ate pepper spray\n",
      "5   2000000     Carolina Reaper     Actually ate pepper spray\n"
     ]
    }
   ],
   "source": [
    "import pandas as pd\n",
    "\n",
    "dataframe  = pd.read_csv('peppers.csv')\n",
    "\n",
    "print(dataframe)"
   ]
  },
  {
   "cell_type": "code",
   "execution_count": 29,
   "id": "c24e8cb2",
   "metadata": {
    "ExecuteTime": {
     "end_time": "2022-09-20T02:12:38.762304Z",
     "start_time": "2022-09-20T02:12:38.759179Z"
    }
   },
   "outputs": [
    {
     "name": "stdout",
     "output_type": "stream",
     "text": [
      "   Scoville                Name                       Feeling\n",
      "0        50         Bell pepper                Not even spicy\n",
      "1      5000    Espelette pepper                 Uncomfortable\n",
      "2     10000      Serrano pepper                 I regret this\n",
      "3     60000    Bird's eye chili            4th stage of grief\n",
      "4    500000  Chocolate habanero  Practically ate pepper spray\n",
      "5   2000000     Carolina Reaper     Actually ate pepper spray\n"
     ]
    }
   ],
   "source": [
    "# Let's select the Name Column:\n",
    "\n",
    "# --- Added the code here ---\n",
    "print(dataframe)\n",
    "# ---------------------------"
   ]
  },
  {
   "cell_type": "code",
   "execution_count": 28,
   "id": "6945adde",
   "metadata": {
    "ExecuteTime": {
     "end_time": "2022-09-20T02:13:17.428290Z",
     "start_time": "2022-09-20T02:13:17.423693Z"
    }
   },
   "outputs": [
    {
     "name": "stdout",
     "output_type": "stream",
     "text": [
      "   Scoville                Name                       Feeling\n",
      "0        50         Bell pepper                Not even spicy\n",
      "1      5000    Espelette pepper                 Uncomfortable\n",
      "2     10000      Serrano pepper                 I regret this\n",
      "3     60000    Bird's eye chili            4th stage of grief\n",
      "4    500000  Chocolate habanero  Practically ate pepper spray\n",
      "5   2000000     Carolina Reaper     Actually ate pepper spray\n"
     ]
    }
   ],
   "source": [
    "# Or, we can use the slightly different notation:\n",
    "\n",
    "# --- Added the code here ---\n",
    "print(dataframe)\n",
    "# ---------------------------"
   ]
  },
  {
   "cell_type": "code",
   "execution_count": 27,
   "id": "cb5c2390",
   "metadata": {
    "ExecuteTime": {
     "end_time": "2022-09-20T02:14:12.249744Z",
     "start_time": "2022-09-20T02:14:12.247337Z"
    }
   },
   "outputs": [
    {
     "name": "stdout",
     "output_type": "stream",
     "text": [
      "0           Bell pepper\n",
      "1      Espelette pepper\n",
      "2        Serrano pepper\n",
      "3      Bird's eye chili\n",
      "4    Chocolate habanero\n",
      "5       Carolina Reaper\n",
      "Name: Name, dtype: object\n"
     ]
    }
   ],
   "source": [
    "# What's the type of the resulting column? Let's check it out:\n",
    "\n",
    "# --- Added the code here ---\n",
    "print((dataframe['Name']))\n",
    "# ---------------------------"
   ]
  },
  {
   "cell_type": "markdown",
   "id": "70c91e76",
   "metadata": {},
   "source": [
    "#### Exercise 11 Accessing two Columns"
   ]
  },
  {
   "cell_type": "code",
   "execution_count": 31,
   "id": "6c43881b",
   "metadata": {
    "ExecuteTime": {
     "end_time": "2022-09-20T02:19:45.759622Z",
     "start_time": "2022-09-20T02:19:45.755072Z"
    }
   },
   "outputs": [
    {
     "name": "stdout",
     "output_type": "stream",
     "text": [
      "   Scoville                Name\n",
      "0        50         Bell pepper\n",
      "1      5000    Espelette pepper\n",
      "2     10000      Serrano pepper\n",
      "3     60000    Bird's eye chili\n",
      "4    500000  Chocolate habanero\n",
      "5   2000000     Carolina Reaper\n"
     ]
    }
   ],
   "source": [
    "# --- Added the code here ---\n",
    "dataframe_truncated = dataframe[['Scoville', 'Name']]\n",
    "# ---------------------------\n",
    "\n",
    "print(dataframe_truncated)"
   ]
  },
  {
   "cell_type": "markdown",
   "id": "3daf437a",
   "metadata": {
    "ExecuteTime": {
     "end_time": "2022-09-20T02:23:45.225192Z",
     "start_time": "2022-09-20T02:23:45.223221Z"
    }
   },
   "source": [
    "#### Accessing/Locating Elements"
   ]
  },
  {
   "cell_type": "markdown",
   "id": "4824a809",
   "metadata": {},
   "source": [
    "#### Exercise 12 Accessing an element using loc[ ]"
   ]
  },
  {
   "cell_type": "code",
   "execution_count": 32,
   "id": "5cec6e14",
   "metadata": {
    "ExecuteTime": {
     "end_time": "2022-09-20T02:28:19.718137Z",
     "start_time": "2022-09-20T02:28:19.712573Z"
    }
   },
   "outputs": [
    {
     "name": "stdout",
     "output_type": "stream",
     "text": [
      "   Scoville                Name                       Feeling\n",
      "0        50         Bell pepper                Not even spicy\n",
      "1      5000    Espelette pepper                 Uncomfortable\n",
      "2     10000      Serrano pepper                 I regret this\n",
      "3     60000    Bird's eye chili            4th stage of grief\n",
      "4    500000  Chocolate habanero  Practically ate pepper spray\n",
      "5   2000000     Carolina Reaper     Actually ate pepper spray\n"
     ]
    }
   ],
   "source": [
    "import pandas as pd\n",
    "\n",
    "dataframe  = pd.read_csv('peppers.csv')\n",
    "\n",
    "print(dataframe)"
   ]
  },
  {
   "cell_type": "code",
   "execution_count": 33,
   "id": "64cff5e8",
   "metadata": {
    "ExecuteTime": {
     "end_time": "2022-09-20T02:27:31.072156Z",
     "start_time": "2022-09-20T02:27:31.068027Z"
    }
   },
   "outputs": [
    {
     "name": "stdout",
     "output_type": "stream",
     "text": [
      "Scoville                      2000000\n",
      "Name                  Carolina Reaper\n",
      "Feeling     Actually ate pepper spray\n",
      "Name: 5, dtype: object\n"
     ]
    }
   ],
   "source": [
    "# --- Added the code here ---\n",
    "print(dataframe.loc[5])\n",
    "# ---------------------------"
   ]
  },
  {
   "cell_type": "markdown",
   "id": "540fa10b",
   "metadata": {},
   "source": [
    "#### Exercise 13 Accessing an element using iloc[ ]"
   ]
  },
  {
   "cell_type": "code",
   "execution_count": 34,
   "id": "79409d78",
   "metadata": {
    "ExecuteTime": {
     "end_time": "2022-09-20T02:30:07.095088Z",
     "start_time": "2022-09-20T02:30:07.087977Z"
    }
   },
   "outputs": [
    {
     "name": "stdout",
     "output_type": "stream",
     "text": [
      "   Scoville                Name                       Feeling\n",
      "0        50         Bell pepper                Not even spicy\n",
      "1      5000    Espelette pepper                 Uncomfortable\n",
      "2     10000      Serrano pepper                 I regret this\n",
      "3     60000    Bird's eye chili            4th stage of grief\n",
      "4    500000  Chocolate habanero  Practically ate pepper spray\n",
      "5   2000000     Carolina Reaper     Actually ate pepper spray\n"
     ]
    }
   ],
   "source": [
    "import pandas as pd\n",
    "\n",
    "dataframe  = pd.read_csv('peppers.csv')\n",
    "\n",
    "print(dataframe)"
   ]
  },
  {
   "cell_type": "code",
   "execution_count": 35,
   "id": "6c7fbd6e",
   "metadata": {
    "ExecuteTime": {
     "end_time": "2022-09-20T02:29:27.519755Z",
     "start_time": "2022-09-20T02:29:27.516490Z"
    }
   },
   "outputs": [
    {
     "name": "stdout",
     "output_type": "stream",
     "text": [
      "Scoville                      2000000\n",
      "Name                  Carolina Reaper\n",
      "Feeling     Actually ate pepper spray\n",
      "Name: 5, dtype: object\n"
     ]
    }
   ],
   "source": [
    "# --- Added the code here ---\n",
    "print(dataframe.iloc[5])\n",
    "# ---------------------------"
   ]
  },
  {
   "cell_type": "markdown",
   "id": "1fb442f3",
   "metadata": {},
   "source": [
    "#### Exercise 14 Accessing Elements by a group of rows"
   ]
  },
  {
   "cell_type": "code",
   "execution_count": 36,
   "id": "9b19b066",
   "metadata": {
    "ExecuteTime": {
     "end_time": "2022-09-20T02:31:10.212695Z",
     "start_time": "2022-09-20T02:31:10.207083Z"
    }
   },
   "outputs": [
    {
     "name": "stdout",
     "output_type": "stream",
     "text": [
      "   Scoville                Name                       Feeling\n",
      "0        50         Bell pepper                Not even spicy\n",
      "1      5000    Espelette pepper                 Uncomfortable\n",
      "2     10000      Serrano pepper                 I regret this\n",
      "3     60000    Bird's eye chili            4th stage of grief\n",
      "4    500000  Chocolate habanero  Practically ate pepper spray\n",
      "5   2000000     Carolina Reaper     Actually ate pepper spray\n"
     ]
    }
   ],
   "source": [
    "import pandas as pd\n",
    "\n",
    "dataframe  = pd.read_csv('peppers.csv')\n",
    "\n",
    "print(dataframe)"
   ]
  },
  {
   "cell_type": "markdown",
   "id": "310ab7cc",
   "metadata": {},
   "source": [
    "#### This also works for a group of rows, using the slice notation, such as from 0 .. n :"
   ]
  },
  {
   "cell_type": "code",
   "execution_count": 37,
   "id": "5cf75d28",
   "metadata": {
    "ExecuteTime": {
     "end_time": "2022-09-20T02:32:34.123897Z",
     "start_time": "2022-09-20T02:32:34.120272Z"
    }
   },
   "outputs": [
    {
     "name": "stdout",
     "output_type": "stream",
     "text": [
      "   Scoville                Name                       Feeling\n",
      "2     10000      Serrano pepper                 I regret this\n",
      "3     60000    Bird's eye chili            4th stage of grief\n",
      "4    500000  Chocolate habanero  Practically ate pepper spray\n",
      "5   2000000     Carolina Reaper     Actually ate pepper spray\n"
     ]
    }
   ],
   "source": [
    "# This will retrieve all rows between 2 and 5\n",
    "\n",
    "# --- Added the code here ---\n",
    "print(dataframe.loc[2:5])\n",
    "# ---------------------------"
   ]
  },
  {
   "cell_type": "code",
   "execution_count": 40,
   "id": "0d79e0e9",
   "metadata": {
    "ExecuteTime": {
     "end_time": "2022-09-20T02:33:49.229749Z",
     "start_time": "2022-09-20T02:33:49.225632Z"
    }
   },
   "outputs": [
    {
     "name": "stdout",
     "output_type": "stream",
     "text": [
      "   Scoville              Name             Feeling\n",
      "0        50       Bell pepper      Not even spicy\n",
      "1      5000  Espelette pepper       Uncomfortable\n",
      "2     10000    Serrano pepper       I regret this\n",
      "3     60000  Bird's eye chili  4th stage of grief\n"
     ]
    }
   ],
   "source": [
    "# This will retrieve all rows between the start of the DataFrame and 3\n",
    "\n",
    "# --- Added the code here ---\n",
    "print(dataframe.loc[:3])\n",
    "# ---------------------------"
   ]
  },
  {
   "cell_type": "markdown",
   "id": "995f08d3",
   "metadata": {},
   "source": [
    "#### Exercise 15 Accessing a specific values of rows"
   ]
  },
  {
   "cell_type": "code",
   "execution_count": 41,
   "id": "0b19e344",
   "metadata": {
    "ExecuteTime": {
     "end_time": "2022-09-20T02:37:03.645725Z",
     "start_time": "2022-09-20T02:37:03.639671Z"
    }
   },
   "outputs": [
    {
     "name": "stdout",
     "output_type": "stream",
     "text": [
      "   Scoville                Name                       Feeling\n",
      "0        50         Bell pepper                Not even spicy\n",
      "1      5000    Espelette pepper                 Uncomfortable\n",
      "2     10000      Serrano pepper                 I regret this\n",
      "3     60000    Bird's eye chili            4th stage of grief\n",
      "4    500000  Chocolate habanero  Practically ate pepper spray\n",
      "5   2000000     Carolina Reaper     Actually ate pepper spray\n"
     ]
    }
   ],
   "source": [
    "import pandas as pd\n",
    "\n",
    "dataframe  = pd.read_csv('peppers.csv')\n",
    "\n",
    "print(dataframe)"
   ]
  },
  {
   "cell_type": "code",
   "execution_count": 42,
   "id": "11d51eca",
   "metadata": {
    "ExecuteTime": {
     "end_time": "2022-09-20T02:37:22.465768Z",
     "start_time": "2022-09-20T02:37:22.462986Z"
    }
   },
   "outputs": [
    {
     "name": "stdout",
     "output_type": "stream",
     "text": [
      "Serrano pepper\n"
     ]
    }
   ],
   "source": [
    "# --- Added the code here ---\n",
    "print(dataframe.loc[2, 'Name'])\n",
    "# ---------------------------"
   ]
  },
  {
   "cell_type": "markdown",
   "id": "90349021",
   "metadata": {},
   "source": [
    "#### Exercise 16 Accessing the columns by using loc [ ] and iloc [ ]"
   ]
  },
  {
   "cell_type": "code",
   "execution_count": 43,
   "id": "c85ada70",
   "metadata": {
    "ExecuteTime": {
     "end_time": "2022-09-20T02:39:28.167372Z",
     "start_time": "2022-09-20T02:39:28.161658Z"
    }
   },
   "outputs": [
    {
     "name": "stdout",
     "output_type": "stream",
     "text": [
      "   Scoville                Name                       Feeling\n",
      "0        50         Bell pepper                Not even spicy\n",
      "1      5000    Espelette pepper                 Uncomfortable\n",
      "2     10000      Serrano pepper                 I regret this\n",
      "3     60000    Bird's eye chili            4th stage of grief\n",
      "4    500000  Chocolate habanero  Practically ate pepper spray\n",
      "5   2000000     Carolina Reaper     Actually ate pepper spray\n"
     ]
    }
   ],
   "source": [
    "import pandas as pd\n",
    "\n",
    "dataframe  = pd.read_csv('peppers.csv')\n",
    "\n",
    "print(dataframe)"
   ]
  },
  {
   "cell_type": "code",
   "execution_count": 46,
   "id": "58843c20",
   "metadata": {
    "ExecuteTime": {
     "end_time": "2022-09-20T02:39:49.055225Z",
     "start_time": "2022-09-20T02:39:49.052363Z"
    }
   },
   "outputs": [
    {
     "name": "stdout",
     "output_type": "stream",
     "text": [
      "   Scoville                Name\n",
      "0        50         Bell pepper\n",
      "1      5000    Espelette pepper\n",
      "2     10000      Serrano pepper\n",
      "3     60000    Bird's eye chili\n",
      "4    500000  Chocolate habanero\n",
      "5   2000000     Carolina Reaper\n"
     ]
    }
   ],
   "source": [
    "# Column Number\n",
    "\n",
    "# --- Added the code here ---\n",
    "print(dataframe.iloc[:, 0:2])\n",
    "# ---------------------------"
   ]
  },
  {
   "cell_type": "code",
   "execution_count": 47,
   "id": "8c239730",
   "metadata": {
    "ExecuteTime": {
     "end_time": "2022-09-20T02:40:20.394613Z",
     "start_time": "2022-09-20T02:40:20.390348Z"
    }
   },
   "outputs": [
    {
     "name": "stdout",
     "output_type": "stream",
     "text": [
      "0           Bell pepper\n",
      "1      Espelette pepper\n",
      "2        Serrano pepper\n",
      "3      Bird's eye chili\n",
      "4    Chocolate habanero\n",
      "5       Carolina Reaper\n",
      "Name: Name, dtype: object\n"
     ]
    }
   ],
   "source": [
    "# Column Name\n",
    "\n",
    "# --- Added the code here ---\n",
    "print(dataframe.loc[:, 'Name'])\n",
    "# ---------------------------"
   ]
  },
  {
   "cell_type": "markdown",
   "id": "7d6f4b36",
   "metadata": {},
   "source": [
    "#### Manipulating Indices"
   ]
  },
  {
   "cell_type": "markdown",
   "id": "7e22283c",
   "metadata": {},
   "source": [
    "#### Exercise 17 Change the indexing of the DataFrame using the set_index( )"
   ]
  },
  {
   "cell_type": "code",
   "execution_count": 40,
   "id": "3a32b93b",
   "metadata": {
    "ExecuteTime": {
     "end_time": "2022-09-20T02:51:40.622490Z",
     "start_time": "2022-09-20T02:51:40.616893Z"
    }
   },
   "outputs": [
    {
     "name": "stdout",
     "output_type": "stream",
     "text": [
      "   Scoville                Name                       Feeling\n",
      "0        50         Bell pepper                Not even spicy\n",
      "1      5000    Espelette pepper                 Uncomfortable\n",
      "2     10000      Serrano pepper                 I regret this\n",
      "3     60000    Bird's eye chili            4th stage of grief\n",
      "4    500000  Chocolate habanero  Practically ate pepper spray\n",
      "5   2000000     Carolina Reaper     Actually ate pepper spray\n"
     ]
    }
   ],
   "source": [
    "import pandas as pd\n",
    "\n",
    "dataframe  = pd.read_csv('peppers.csv')\n",
    "\n",
    "print(dataframe)"
   ]
  },
  {
   "cell_type": "code",
   "execution_count": 41,
   "id": "a54e1d0f",
   "metadata": {
    "ExecuteTime": {
     "end_time": "2022-09-20T02:52:27.577546Z",
     "start_time": "2022-09-20T02:52:27.573224Z"
    }
   },
   "outputs": [
    {
     "name": "stdout",
     "output_type": "stream",
     "text": [
      "                        Name                       Feeling\n",
      "Scoville                                                  \n",
      "50               Bell pepper                Not even spicy\n",
      "5000        Espelette pepper                 Uncomfortable\n",
      "10000         Serrano pepper                 I regret this\n",
      "60000       Bird's eye chili            4th stage of grief\n",
      "500000    Chocolate habanero  Practically ate pepper spray\n",
      "2000000      Carolina Reaper     Actually ate pepper spray\n"
     ]
    }
   ],
   "source": [
    "dataframe = dataframe.set_index('Scoville')\n",
    "\n",
    "print(dataframe)"
   ]
  },
  {
   "cell_type": "markdown",
   "id": "b3751c42",
   "metadata": {},
   "source": [
    "#### Exercise 18 Resetting Index"
   ]
  },
  {
   "cell_type": "code",
   "execution_count": 42,
   "id": "029791f3",
   "metadata": {
    "ExecuteTime": {
     "end_time": "2022-09-20T03:26:44.370412Z",
     "start_time": "2022-09-20T03:26:44.365943Z"
    }
   },
   "outputs": [
    {
     "name": "stdout",
     "output_type": "stream",
     "text": [
      "   Scoville                Name                       Feeling\n",
      "0        50         Bell pepper                Not even spicy\n",
      "1      5000    Espelette pepper                 Uncomfortable\n",
      "2     10000      Serrano pepper                 I regret this\n",
      "3     60000    Bird's eye chili            4th stage of grief\n",
      "4    500000  Chocolate habanero  Practically ate pepper spray\n",
      "5   2000000     Carolina Reaper     Actually ate pepper spray\n"
     ]
    }
   ],
   "source": [
    "# --- Added the code here ---\n",
    "dataframe.reset_index(inplace=True)\n",
    "# ---------------------------\n",
    "\n",
    "print(dataframe)"
   ]
  },
  {
   "cell_type": "markdown",
   "id": "72a49083",
   "metadata": {
    "ExecuteTime": {
     "end_time": "2022-09-20T03:29:23.737349Z",
     "start_time": "2022-09-20T03:29:23.735403Z"
    }
   },
   "source": [
    "#### Manipulating Rows"
   ]
  },
  {
   "cell_type": "markdown",
   "id": "bb6681e2",
   "metadata": {},
   "source": [
    "#### Exercise 19 Adding New Rows"
   ]
  },
  {
   "cell_type": "code",
   "execution_count": 51,
   "id": "05f19f75",
   "metadata": {
    "ExecuteTime": {
     "end_time": "2022-09-20T03:31:13.745983Z",
     "start_time": "2022-09-20T03:31:13.739438Z"
    }
   },
   "outputs": [
    {
     "name": "stdout",
     "output_type": "stream",
     "text": [
      "   Scoville                Name                       Feeling\n",
      "0        50         Bell pepper                Not even spicy\n",
      "1      5000    Espelette pepper                 Uncomfortable\n",
      "2     10000      Serrano pepper                 I regret this\n",
      "3     60000    Bird's eye chili            4th stage of grief\n",
      "4    500000  Chocolate habanero  Practically ate pepper spray\n",
      "5   2000000     Carolina Reaper     Actually ate pepper spray\n"
     ]
    }
   ],
   "source": [
    "import pandas as pd\n",
    "\n",
    "dataframe  = pd.read_csv('peppers.csv')\n",
    "\n",
    "print(dataframe)"
   ]
  },
  {
   "cell_type": "code",
   "execution_count": 52,
   "id": "7c53bf64",
   "metadata": {
    "ExecuteTime": {
     "end_time": "2022-09-20T03:35:12.991359Z",
     "start_time": "2022-09-20T03:35:12.985093Z"
    }
   },
   "outputs": [
    {
     "name": "stdout",
     "output_type": "stream",
     "text": [
      "    Scoville                Name                       Feeling\n",
      "0         50         Bell pepper                Not even spicy\n",
      "1       5000    Espelette pepper                 Uncomfortable\n",
      "2      10000      Serrano pepper                 I regret this\n",
      "3      60000    Bird's eye chili            4th stage of grief\n",
      "4     500000  Chocolate habanero  Practically ate pepper spray\n",
      "5    2000000     Carolina Reaper     Actually ate pepper spray\n",
      "50   2000000     Carolina Reaper     Actually ate pepper spray\n"
     ]
    }
   ],
   "source": [
    "# --- Added the code here ---\n",
    "dataframe.loc[50] = [2000000, 'Carolina Reaper', 'Actually ate pepper spray']\n",
    "# ---------------------------\n",
    "\n",
    "print(dataframe)"
   ]
  },
  {
   "cell_type": "markdown",
   "id": "63d54221",
   "metadata": {},
   "source": [
    "#### Exercise 20 Removing Rows"
   ]
  },
  {
   "cell_type": "code",
   "execution_count": 53,
   "id": "b037b8f4",
   "metadata": {
    "ExecuteTime": {
     "end_time": "2022-09-20T03:41:11.890938Z",
     "start_time": "2022-09-20T03:41:11.885033Z"
    }
   },
   "outputs": [
    {
     "name": "stdout",
     "output_type": "stream",
     "text": [
      "   Scoville                Name                       Feeling\n",
      "0        50         Bell pepper                Not even spicy\n",
      "1      5000    Espelette pepper                 Uncomfortable\n",
      "2     10000      Serrano pepper                 I regret this\n",
      "3     60000    Bird's eye chili            4th stage of grief\n",
      "4    500000  Chocolate habanero  Practically ate pepper spray\n",
      "5   2000000     Carolina Reaper     Actually ate pepper spray\n"
     ]
    }
   ],
   "source": [
    "import pandas as pd\n",
    "\n",
    "dataframe  = pd.read_csv('peppers.csv')\n",
    "\n",
    "print(dataframe)"
   ]
  },
  {
   "cell_type": "code",
   "execution_count": 54,
   "id": "c73faf20",
   "metadata": {
    "ExecuteTime": {
     "end_time": "2022-09-20T03:41:13.171742Z",
     "start_time": "2022-09-20T03:41:13.167583Z"
    }
   },
   "outputs": [
    {
     "name": "stdout",
     "output_type": "stream",
     "text": [
      "   Scoville                Name                       Feeling\n",
      "0        50         Bell pepper                Not even spicy\n",
      "2     10000      Serrano pepper                 I regret this\n",
      "3     60000    Bird's eye chili            4th stage of grief\n",
      "4    500000  Chocolate habanero  Practically ate pepper spray\n",
      "5   2000000     Carolina Reaper     Actually ate pepper spray\n"
     ]
    }
   ],
   "source": [
    "# --- Added the code here ---\n",
    "dataframe.drop(1, inplace=True)\n",
    "# ---------------------------\n",
    "\n",
    "print(dataframe)"
   ]
  },
  {
   "cell_type": "markdown",
   "id": "f0dc396b",
   "metadata": {},
   "source": [
    "#### Exercise 21 Renaming Rows (Index Labeled)"
   ]
  },
  {
   "cell_type": "code",
   "execution_count": 55,
   "id": "2dc4f2fc",
   "metadata": {
    "ExecuteTime": {
     "end_time": "2022-09-20T03:41:22.037351Z",
     "start_time": "2022-09-20T03:41:22.031715Z"
    }
   },
   "outputs": [
    {
     "name": "stdout",
     "output_type": "stream",
     "text": [
      "   Scoville                Name                       Feeling\n",
      "0        50         Bell pepper                Not even spicy\n",
      "1      5000    Espelette pepper                 Uncomfortable\n",
      "2     10000      Serrano pepper                 I regret this\n",
      "3     60000    Bird's eye chili            4th stage of grief\n",
      "4    500000  Chocolate habanero  Practically ate pepper spray\n",
      "5   2000000     Carolina Reaper     Actually ate pepper spray\n"
     ]
    }
   ],
   "source": [
    "import pandas as pd\n",
    "\n",
    "dataframe  = pd.read_csv('peppers.csv')\n",
    "\n",
    "print(dataframe)"
   ]
  },
  {
   "cell_type": "code",
   "execution_count": 57,
   "id": "3ceda38e",
   "metadata": {
    "ExecuteTime": {
     "end_time": "2022-09-20T03:41:57.059485Z",
     "start_time": "2022-09-20T03:41:57.054645Z"
    }
   },
   "outputs": [
    {
     "name": "stdout",
     "output_type": "stream",
     "text": [
      "        Scoville                Name                       Feeling\n",
      "First         50         Bell pepper                Not even spicy\n",
      "Second      5000    Espelette pepper                 Uncomfortable\n",
      "2          10000      Serrano pepper                 I regret this\n",
      "3          60000    Bird's eye chili            4th stage of grief\n",
      "4         500000  Chocolate habanero  Practically ate pepper spray\n",
      "5        2000000     Carolina Reaper     Actually ate pepper spray\n"
     ]
    }
   ],
   "source": [
    "# --- Added the code here ---\n",
    "dataframe.rename({0:\"First\", 1:\"Second\"}, inplace=True)\n",
    "# ---------------------------\n",
    "\n",
    "print(dataframe)"
   ]
  },
  {
   "cell_type": "markdown",
   "id": "ef6985ce",
   "metadata": {},
   "source": [
    "#### Exercise 22 Dropping Duplicate Rows"
   ]
  },
  {
   "cell_type": "code",
   "execution_count": 58,
   "id": "6607441c",
   "metadata": {
    "ExecuteTime": {
     "end_time": "2022-09-20T03:48:58.253932Z",
     "start_time": "2022-09-20T03:48:58.247915Z"
    }
   },
   "outputs": [
    {
     "name": "stdout",
     "output_type": "stream",
     "text": [
      "   Scoville                Name                       Feeling\n",
      "0        50         Bell pepper                Not even spicy\n",
      "1      5000    Espelette pepper                 Uncomfortable\n",
      "2     10000      Serrano pepper                 I regret this\n",
      "3     60000    Bird's eye chili            4th stage of grief\n",
      "4    500000  Chocolate habanero  Practically ate pepper spray\n",
      "5   2000000     Carolina Reaper     Actually ate pepper spray\n"
     ]
    }
   ],
   "source": [
    "import pandas as pd\n",
    "\n",
    "dataframe  = pd.read_csv('peppers.csv')\n",
    "\n",
    "print(dataframe)"
   ]
  },
  {
   "cell_type": "code",
   "execution_count": 59,
   "id": "d0a94b73",
   "metadata": {
    "ExecuteTime": {
     "end_time": "2022-09-20T03:51:12.061620Z",
     "start_time": "2022-09-20T03:51:12.055562Z"
    }
   },
   "outputs": [
    {
     "name": "stdout",
     "output_type": "stream",
     "text": [
      "   Scoville                Name                       Feeling\n",
      "0        50         Bell pepper                Not even spicy\n",
      "1      5000    Espelette pepper                 Uncomfortable\n",
      "2     10000      Serrano pepper                 I regret this\n",
      "3     60000    Bird's eye chili            4th stage of grief\n",
      "4    500000  Chocolate habanero  Practically ate pepper spray\n",
      "5   2000000     Carolina Reaper     Actually ate pepper spray\n",
      "6   2000000     Carolina Reaper     Actually ate pepper spray\n"
     ]
    }
   ],
   "source": [
    "dataframe.loc[6] = [2000000, 'Carolina Reaper', 'Actually ate pepper spray']\n",
    "\n",
    "print(dataframe)"
   ]
  },
  {
   "cell_type": "code",
   "execution_count": 61,
   "id": "cb88587b",
   "metadata": {
    "ExecuteTime": {
     "end_time": "2022-09-20T03:52:48.912864Z",
     "start_time": "2022-09-20T03:52:48.907713Z"
    }
   },
   "outputs": [
    {
     "name": "stdout",
     "output_type": "stream",
     "text": [
      "   Scoville                Name                       Feeling\n",
      "0        50         Bell pepper                Not even spicy\n",
      "1      5000    Espelette pepper                 Uncomfortable\n",
      "2     10000      Serrano pepper                 I regret this\n",
      "3     60000    Bird's eye chili            4th stage of grief\n",
      "4    500000  Chocolate habanero  Practically ate pepper spray\n",
      "5   2000000     Carolina Reaper     Actually ate pepper spray\n"
     ]
    }
   ],
   "source": [
    "# --- Added the code here ---\n",
    "dataframe.drop_duplicates(inplace=True)\n",
    "# ---------------------------\n",
    "\n",
    "print(dataframe)"
   ]
  },
  {
   "cell_type": "markdown",
   "id": "72970912",
   "metadata": {},
   "source": [
    "#### Exercise 23 Renaming Columns"
   ]
  },
  {
   "cell_type": "code",
   "execution_count": 63,
   "id": "14659d0d",
   "metadata": {
    "ExecuteTime": {
     "end_time": "2022-09-20T18:49:50.132793Z",
     "start_time": "2022-09-20T18:49:49.661839Z"
    }
   },
   "outputs": [
    {
     "name": "stdout",
     "output_type": "stream",
     "text": [
      "   Scoville                Name                       Feeling\n",
      "0        50         Bell pepper                Not even spicy\n",
      "1      5000    Espelette pepper                 Uncomfortable\n",
      "2     10000      Serrano pepper                 I regret this\n",
      "3     60000    Bird's eye chili            4th stage of grief\n",
      "4    500000  Chocolate habanero  Practically ate pepper spray\n",
      "5   2000000     Carolina Reaper     Actually ate pepper spray\n"
     ]
    }
   ],
   "source": [
    "import pandas as pd\n",
    "\n",
    "dataframe  = pd.read_csv('peppers.csv')\n",
    "\n",
    "print(dataframe)"
   ]
  },
  {
   "cell_type": "code",
   "execution_count": 64,
   "id": "7d67ee48",
   "metadata": {
    "ExecuteTime": {
     "end_time": "2022-09-20T18:50:53.986837Z",
     "start_time": "2022-09-20T18:50:53.979927Z"
    }
   },
   "outputs": [
    {
     "name": "stdout",
     "output_type": "stream",
     "text": [
      "   Scoville                Name                       Feeling\n",
      "0        50         Bell pepper                Not even spicy\n",
      "1      5000    Espelette pepper                 Uncomfortable\n",
      "2     10000      Serrano pepper                 I regret this\n",
      "3     60000    Bird's eye chili            4th stage of grief\n",
      "4    500000  Chocolate habanero  Practically ate pepper spray\n",
      "5   2000000     Carolina Reaper     Actually ate pepper spray\n"
     ]
    }
   ],
   "source": [
    "# --- Added the code here ---\n",
    "dataframe.rename({\"Feeling\":\"Measure of Pain\"}, inplace=True)\n",
    "# ---------------------------\n",
    "\n",
    "print(dataframe)"
   ]
  },
  {
   "cell_type": "markdown",
   "id": "efaecd30",
   "metadata": {},
   "source": [
    "#### Exercise 24 DataFrame Shapes"
   ]
  },
  {
   "cell_type": "code",
   "execution_count": 65,
   "id": "db53070e",
   "metadata": {
    "ExecuteTime": {
     "end_time": "2022-09-20T18:53:05.471468Z",
     "start_time": "2022-09-20T18:53:05.464845Z"
    }
   },
   "outputs": [
    {
     "name": "stdout",
     "output_type": "stream",
     "text": [
      "   Scoville                Name                       Feeling\n",
      "0        50         Bell pepper                Not even spicy\n",
      "1      5000    Espelette pepper                 Uncomfortable\n",
      "2     10000      Serrano pepper                 I regret this\n",
      "3     60000    Bird's eye chili            4th stage of grief\n",
      "4    500000  Chocolate habanero  Practically ate pepper spray\n",
      "5   2000000     Carolina Reaper     Actually ate pepper spray\n"
     ]
    }
   ],
   "source": [
    "import pandas as pd\n",
    "\n",
    "dataframe  = pd.read_csv('peppers.csv')\n",
    "\n",
    "print(dataframe)"
   ]
  },
  {
   "cell_type": "code",
   "execution_count": 66,
   "id": "994617e3",
   "metadata": {
    "ExecuteTime": {
     "end_time": "2022-09-20T18:53:34.455115Z",
     "start_time": "2022-09-20T18:53:34.452460Z"
    }
   },
   "outputs": [
    {
     "name": "stdout",
     "output_type": "stream",
     "text": [
      "(6, 3)\n"
     ]
    }
   ],
   "source": [
    "# --- Added the code here ---\n",
    "print(dataframe.shape)\n",
    "# ---------------------------"
   ]
  },
  {
   "cell_type": "code",
   "execution_count": 67,
   "id": "e22108ab",
   "metadata": {
    "ExecuteTime": {
     "end_time": "2022-09-20T18:55:03.003066Z",
     "start_time": "2022-09-20T18:55:03.000295Z"
    }
   },
   "outputs": [
    {
     "name": "stdout",
     "output_type": "stream",
     "text": [
      "Rows:  6\n",
      "Columns:  3\n"
     ]
    }
   ],
   "source": [
    "print(\"Rows: \", dataframe.shape[0])\n",
    "print(\"Columns: \", dataframe.shape[1])"
   ]
  },
  {
   "cell_type": "markdown",
   "id": "48df1e72",
   "metadata": {},
   "source": [
    "#### Exercise 25 Grouping Data in DataFrames"
   ]
  },
  {
   "cell_type": "code",
   "execution_count": 44,
   "id": "ac4e0879",
   "metadata": {
    "ExecuteTime": {
     "end_time": "2022-09-20T19:06:13.325069Z",
     "start_time": "2022-09-20T19:06:13.319185Z"
    }
   },
   "outputs": [
    {
     "name": "stdout",
     "output_type": "stream",
     "text": [
      "        Name  Position  Year  Marks\n",
      "0       John         2  2009    408\n",
      "1       John         1  2010    398\n",
      "2      Grace         1  2009    422\n",
      "3      Grace         4  2010    376\n",
      "4   Benjamin         2  2010    401\n",
      "5   Benjamin         4  2010    380\n",
      "6   Benjamin         3  2011    396\n",
      "7   Benjamin         1  2012    388\n",
      "8       John         3  2011    356\n",
      "9       Alex         2  2013    402\n",
      "10      Alex         4  2013    368\n",
      "11      Alex         3  2012    378\n"
     ]
    }
   ],
   "source": [
    "import pandas as pd\n",
    "\n",
    "students = {\n",
    "    'Name' : ['John', 'John', 'Grace', 'Grace', 'Benjamin', 'Benjamin', 'Benjamin', \n",
    "              'Benjamin', 'John', 'Alex', 'Alex', 'Alex'],\n",
    "    'Position' : [2, 1, 1, 4, 2, 4, 3, 1, 3, 2, 4, 3],\n",
    "    'Year' : [2009, 2010, 2009, 2010, 2010, 2010, 2011, 2012, 2011, 2013, 2013, 2012],\n",
    "    'Marks' : [408, 398, 422, 376, 401, 380, 396, 388, 356, 402, 368, 378]  \n",
    "}\n",
    "\n",
    "dataframe = pd.DataFrame(students)\n",
    "\n",
    "print(dataframe)"
   ]
  },
  {
   "cell_type": "code",
   "execution_count": 45,
   "id": "659a21f1",
   "metadata": {
    "ExecuteTime": {
     "end_time": "2022-09-20T19:07:55.589657Z",
     "start_time": "2022-09-20T19:07:55.587383Z"
    }
   },
   "outputs": [],
   "source": [
    "# --- Added the code here ---\n",
    "group = dataframe.groupby('Year')\n",
    "# ---------------------------"
   ]
  },
  {
   "cell_type": "code",
   "execution_count": 46,
   "id": "50e0f0d2",
   "metadata": {
    "ExecuteTime": {
     "end_time": "2022-09-20T19:08:09.642589Z",
     "start_time": "2022-09-20T19:08:09.639836Z"
    }
   },
   "outputs": [
    {
     "name": "stdout",
     "output_type": "stream",
     "text": [
      "<class 'pandas.io.formats.printing.PrettyDict'>\n"
     ]
    }
   ],
   "source": [
    "print(type(group.groups))"
   ]
  },
  {
   "cell_type": "code",
   "execution_count": 47,
   "id": "8bcc971e",
   "metadata": {},
   "outputs": [
    {
     "data": {
      "text/plain": [
       "<pandas.core.groupby.generic.DataFrameGroupBy object at 0x0000020B4C31F3D0>"
      ]
     },
     "execution_count": 47,
     "metadata": {},
     "output_type": "execute_result"
    }
   ],
   "source": [
    "group"
   ]
  },
  {
   "cell_type": "code",
   "execution_count": 48,
   "id": "b12f7959",
   "metadata": {
    "ExecuteTime": {
     "end_time": "2022-09-20T19:08:22.686497Z",
     "start_time": "2022-09-20T19:08:22.678126Z"
    }
   },
   "outputs": [
    {
     "name": "stdout",
     "output_type": "stream",
     "text": [
      "{2009: [0, 2], 2010: [1, 3, 4, 5], 2011: [6, 8], 2012: [7, 11], 2013: [9, 10]}\n"
     ]
    }
   ],
   "source": [
    "# --- Added the code here ---\n",
    "print(group.groups)\n",
    "# ---------------------------"
   ]
  },
  {
   "cell_type": "code",
   "execution_count": 49,
   "id": "558dcdb7",
   "metadata": {
    "ExecuteTime": {
     "end_time": "2022-09-20T19:23:25.404072Z",
     "start_time": "2022-09-20T19:23:25.397534Z"
    }
   },
   "outputs": [
    {
     "name": "stdout",
     "output_type": "stream",
     "text": [
      "       Name  Position  Year  Marks\n",
      "6  Benjamin         3  2011    396\n",
      "8      John         3  2011    356\n"
     ]
    }
   ],
   "source": [
    "# --- Added the code here ---\n",
    "result = group.get_group(2011)\n",
    "# ---------------------------\n",
    "\n",
    "print(result)"
   ]
  },
  {
   "cell_type": "markdown",
   "id": "1429d6f1",
   "metadata": {},
   "source": [
    "#### Exercise 26 Descriptive Statistics"
   ]
  },
  {
   "cell_type": "code",
   "execution_count": 75,
   "id": "b3a5dd2b",
   "metadata": {
    "ExecuteTime": {
     "end_time": "2022-09-20T19:54:15.683678Z",
     "start_time": "2022-09-20T19:54:15.678870Z"
    }
   },
   "outputs": [
    {
     "name": "stdout",
     "output_type": "stream",
     "text": [
      "     Name  English  Math\n",
      "0    John       64    76\n",
      "1   Alice       78    54\n",
      "2  Joseph       68    72\n",
      "3    Alex       58    64\n"
     ]
    }
   ],
   "source": [
    "import pandas as pd\n",
    "\n",
    "students = {\n",
    "    'Name' : ['John', 'Alice', 'Joseph', 'Alex'],\n",
    "    'English' : [64, 78, 68, 58],\n",
    "    'Math' : [76, 54, 72, 64]\n",
    "}\n",
    "\n",
    "dataframe = pd.DataFrame(students)\n",
    "\n",
    "print(dataframe)"
   ]
  },
  {
   "cell_type": "code",
   "execution_count": 77,
   "id": "318f4d2c",
   "metadata": {
    "ExecuteTime": {
     "end_time": "2022-09-20T19:55:52.117488Z",
     "start_time": "2022-09-20T19:55:52.092396Z"
    }
   },
   "outputs": [
    {
     "data": {
      "text/html": [
       "<div>\n",
       "<style scoped>\n",
       "    .dataframe tbody tr th:only-of-type {\n",
       "        vertical-align: middle;\n",
       "    }\n",
       "\n",
       "    .dataframe tbody tr th {\n",
       "        vertical-align: top;\n",
       "    }\n",
       "\n",
       "    .dataframe thead th {\n",
       "        text-align: right;\n",
       "    }\n",
       "</style>\n",
       "<table border=\"1\" class=\"dataframe\">\n",
       "  <thead>\n",
       "    <tr style=\"text-align: right;\">\n",
       "      <th></th>\n",
       "      <th>English</th>\n",
       "      <th>Math</th>\n",
       "    </tr>\n",
       "  </thead>\n",
       "  <tbody>\n",
       "    <tr>\n",
       "      <th>count</th>\n",
       "      <td>4.000000</td>\n",
       "      <td>4.000000</td>\n",
       "    </tr>\n",
       "    <tr>\n",
       "      <th>mean</th>\n",
       "      <td>67.000000</td>\n",
       "      <td>66.500000</td>\n",
       "    </tr>\n",
       "    <tr>\n",
       "      <th>std</th>\n",
       "      <td>8.406347</td>\n",
       "      <td>9.712535</td>\n",
       "    </tr>\n",
       "    <tr>\n",
       "      <th>min</th>\n",
       "      <td>58.000000</td>\n",
       "      <td>54.000000</td>\n",
       "    </tr>\n",
       "    <tr>\n",
       "      <th>25%</th>\n",
       "      <td>62.500000</td>\n",
       "      <td>61.500000</td>\n",
       "    </tr>\n",
       "    <tr>\n",
       "      <th>50%</th>\n",
       "      <td>66.000000</td>\n",
       "      <td>68.000000</td>\n",
       "    </tr>\n",
       "    <tr>\n",
       "      <th>75%</th>\n",
       "      <td>70.500000</td>\n",
       "      <td>73.000000</td>\n",
       "    </tr>\n",
       "    <tr>\n",
       "      <th>max</th>\n",
       "      <td>78.000000</td>\n",
       "      <td>76.000000</td>\n",
       "    </tr>\n",
       "  </tbody>\n",
       "</table>\n",
       "</div>"
      ],
      "text/plain": [
       "         English       Math\n",
       "count   4.000000   4.000000\n",
       "mean   67.000000  66.500000\n",
       "std     8.406347   9.712535\n",
       "min    58.000000  54.000000\n",
       "25%    62.500000  61.500000\n",
       "50%    66.000000  68.000000\n",
       "75%    70.500000  73.000000\n",
       "max    78.000000  76.000000"
      ]
     },
     "execution_count": 77,
     "metadata": {},
     "output_type": "execute_result"
    }
   ],
   "source": [
    "# --- Added the code here ---\n",
    "dataframe.describe()\n",
    "# ---------------------------"
   ]
  },
  {
   "cell_type": "markdown",
   "id": "d4fa8a93",
   "metadata": {},
   "source": [
    "#### Exercise 27 DataFrame.head( ) and DataFrame.tail( )"
   ]
  },
  {
   "cell_type": "code",
   "execution_count": 78,
   "id": "b9087d9c",
   "metadata": {
    "ExecuteTime": {
     "end_time": "2022-09-20T20:01:08.208320Z",
     "start_time": "2022-09-20T20:01:08.202758Z"
    }
   },
   "outputs": [
    {
     "name": "stdout",
     "output_type": "stream",
     "text": [
      "   Scoville                Name                       Feeling\n",
      "0        50         Bell pepper                Not even spicy\n",
      "1      5000    Espelette pepper                 Uncomfortable\n",
      "2     10000      Serrano pepper                 I regret this\n",
      "3     60000    Bird's eye chili            4th stage of grief\n",
      "4    500000  Chocolate habanero  Practically ate pepper spray\n",
      "5   2000000     Carolina Reaper     Actually ate pepper spray\n"
     ]
    }
   ],
   "source": [
    "import pandas as pd\n",
    "\n",
    "dataframe  = pd.read_csv('peppers.csv')\n",
    "\n",
    "print(dataframe)"
   ]
  },
  {
   "cell_type": "code",
   "execution_count": 80,
   "id": "514e50bc",
   "metadata": {
    "ExecuteTime": {
     "end_time": "2022-09-20T20:01:31.270106Z",
     "start_time": "2022-09-20T20:01:31.265316Z"
    }
   },
   "outputs": [
    {
     "name": "stdout",
     "output_type": "stream",
     "text": [
      "   Scoville              Name         Feeling\n",
      "0        50       Bell pepper  Not even spicy\n",
      "1      5000  Espelette pepper   Uncomfortable\n",
      "2     10000    Serrano pepper   I regret this\n"
     ]
    }
   ],
   "source": [
    "# --- Added the code here ---\n",
    "print(dataframe.head(3))\n",
    "# ---------------------------"
   ]
  },
  {
   "cell_type": "code",
   "execution_count": 81,
   "id": "bd5b0613",
   "metadata": {
    "ExecuteTime": {
     "end_time": "2022-09-20T20:01:45.603017Z",
     "start_time": "2022-09-20T20:01:45.599271Z"
    }
   },
   "outputs": [
    {
     "name": "stdout",
     "output_type": "stream",
     "text": [
      "   Scoville                Name                       Feeling\n",
      "3     60000    Bird's eye chili            4th stage of grief\n",
      "4    500000  Chocolate habanero  Practically ate pepper spray\n",
      "5   2000000     Carolina Reaper     Actually ate pepper spray\n"
     ]
    }
   ],
   "source": [
    "# --- Added the code here ---\n",
    "print(dataframe.tail(3))\n",
    "# ---------------------------"
   ]
  },
  {
   "cell_type": "markdown",
   "id": "ac3b4bdb",
   "metadata": {},
   "source": [
    "#### Reshaping DataFrames"
   ]
  },
  {
   "cell_type": "markdown",
   "id": "4187a5bd",
   "metadata": {},
   "source": [
    "- Transpose\n",
    "- Stack\n",
    "- Unstack\n",
    "- Melt\n",
    "- Pivot"
   ]
  },
  {
   "cell_type": "code",
   "execution_count": 82,
   "id": "7a39f322",
   "metadata": {
    "ExecuteTime": {
     "end_time": "2022-09-20T20:10:39.147293Z",
     "start_time": "2022-09-20T20:10:39.141643Z"
    }
   },
   "outputs": [
    {
     "name": "stdout",
     "output_type": "stream",
     "text": [
      "        Name  Position  Year  Marks\n",
      "0       John         2  2009    408\n",
      "1       John         1  2010    398\n",
      "2      Grace         1  2009    422\n",
      "3      Grace         4  2010    376\n",
      "4   Benjamin         2  2010    401\n",
      "5   Benjamin         4  2010    380\n",
      "6   Benjamin         3  2011    396\n",
      "7   Benjamin         1  2012    388\n",
      "8       John         3  2011    356\n",
      "9       Alex         2  2013    402\n",
      "10      Alex         4  2013    368\n",
      "11      Alex         3  2012    378\n"
     ]
    }
   ],
   "source": [
    "import pandas as pd\n",
    "\n",
    "students = {\n",
    "    'Name' : ['John', 'John', 'Grace', 'Grace', 'Benjamin', 'Benjamin', 'Benjamin', \n",
    "              'Benjamin', 'John', 'Alex', 'Alex', 'Alex'],\n",
    "    'Position' : [2, 1, 1, 4, 2, 4, 3, 1, 3, 2, 4, 3],\n",
    "    'Year' : [2009, 2010, 2009, 2010, 2010, 2010, 2011, 2012, 2011, 2013, 2013, 2012],\n",
    "    'Marks' : [408, 398, 422, 376, 401, 380, 396, 388, 356, 402, 368, 378]  \n",
    "}\n",
    "\n",
    "df = pd.DataFrame(students)\n",
    "\n",
    "print(df)"
   ]
  },
  {
   "cell_type": "markdown",
   "id": "9816ee95",
   "metadata": {},
   "source": [
    "#### Exercise 28 Transposing a DataFrame"
   ]
  },
  {
   "cell_type": "code",
   "execution_count": 83,
   "id": "78e4fc99",
   "metadata": {
    "ExecuteTime": {
     "end_time": "2022-09-20T20:15:13.196823Z",
     "start_time": "2022-09-20T20:15:13.189319Z"
    }
   },
   "outputs": [
    {
     "name": "stdout",
     "output_type": "stream",
     "text": [
      "            0     1      2      3         4         5         6         7   \\\n",
      "Name      John  John  Grace  Grace  Benjamin  Benjamin  Benjamin  Benjamin   \n",
      "Position     2     1      1      4         2         4         3         1   \n",
      "Year      2009  2010   2009   2010      2010      2010      2011      2012   \n",
      "Marks      408   398    422    376       401       380       396       388   \n",
      "\n",
      "            8     9     10    11  \n",
      "Name      John  Alex  Alex  Alex  \n",
      "Position     3     2     4     3  \n",
      "Year      2011  2013  2013  2012  \n",
      "Marks      356   402   368   378  \n"
     ]
    }
   ],
   "source": [
    "# --- Added the code here ---\n",
    "df_transposed = df.transpose()\n",
    "# ---------------------------\n",
    "\n",
    "print(df_transposed)"
   ]
  },
  {
   "cell_type": "code",
   "execution_count": 84,
   "id": "1cb1fa6b",
   "metadata": {
    "ExecuteTime": {
     "end_time": "2022-09-20T20:17:23.980014Z",
     "start_time": "2022-09-20T20:17:23.973641Z"
    }
   },
   "outputs": [
    {
     "name": "stdout",
     "output_type": "stream",
     "text": [
      "            0     1      2      3         4         5         6         7   \\\n",
      "Name      John  John  Grace  Grace  Benjamin  Benjamin  Benjamin  Benjamin   \n",
      "Position     2     1      1      4         2         4         3         1   \n",
      "Year      2009  2010   2009   2010      2010      2010      2011      2012   \n",
      "Marks      408   398    422    376       401       380       396       388   \n",
      "\n",
      "            8     9     10    11  \n",
      "Name      John  Alex  Alex  Alex  \n",
      "Position     3     2     4     3  \n",
      "Year      2011  2013  2013  2012  \n",
      "Marks      356   402   368   378  \n"
     ]
    }
   ],
   "source": [
    "# --- Added the code here ---\n",
    "df_T = df.T\n",
    "# ---------------------------\n",
    "\n",
    "print(df_T)"
   ]
  },
  {
   "cell_type": "markdown",
   "id": "858f1e1e",
   "metadata": {},
   "source": [
    "#### Exercise 29 Stacking a DataFrame"
   ]
  },
  {
   "cell_type": "code",
   "execution_count": 85,
   "id": "c9f0cd6e",
   "metadata": {
    "ExecuteTime": {
     "end_time": "2022-09-20T20:27:08.854270Z",
     "start_time": "2022-09-20T20:27:08.848044Z"
    }
   },
   "outputs": [
    {
     "name": "stdout",
     "output_type": "stream",
     "text": [
      "0   Name            John\n",
      "    Position           2\n",
      "    Year            2009\n",
      "    Marks            408\n",
      "1   Name            John\n",
      "    Position           1\n",
      "    Year            2010\n",
      "    Marks            398\n",
      "2   Name           Grace\n",
      "    Position           1\n",
      "    Year            2009\n",
      "    Marks            422\n",
      "3   Name           Grace\n",
      "    Position           4\n",
      "    Year            2010\n",
      "    Marks            376\n",
      "4   Name        Benjamin\n",
      "    Position           2\n",
      "    Year            2010\n",
      "    Marks            401\n",
      "5   Name        Benjamin\n",
      "    Position           4\n",
      "    Year            2010\n",
      "    Marks            380\n",
      "6   Name        Benjamin\n",
      "    Position           3\n",
      "    Year            2011\n",
      "    Marks            396\n",
      "7   Name        Benjamin\n",
      "    Position           1\n",
      "    Year            2012\n",
      "    Marks            388\n",
      "8   Name            John\n",
      "    Position           3\n",
      "    Year            2011\n",
      "    Marks            356\n",
      "9   Name            Alex\n",
      "    Position           2\n",
      "    Year            2013\n",
      "    Marks            402\n",
      "10  Name            Alex\n",
      "    Position           4\n",
      "    Year            2013\n",
      "    Marks            368\n",
      "11  Name            Alex\n",
      "    Position           3\n",
      "    Year            2012\n",
      "    Marks            378\n",
      "dtype: object\n"
     ]
    }
   ],
   "source": [
    "# --- Added the code here ---\n",
    "df_stacked = df.stack()\n",
    "# ---------------------------\n",
    "\n",
    "print(df_stacked)"
   ]
  },
  {
   "cell_type": "code",
   "execution_count": 86,
   "id": "beb33ec9",
   "metadata": {
    "ExecuteTime": {
     "end_time": "2022-09-20T20:29:45.971784Z",
     "start_time": "2022-09-20T20:29:45.966236Z"
    }
   },
   "outputs": [
    {
     "name": "stdout",
     "output_type": "stream",
     "text": [
      "Name        John\n",
      "Position       1\n",
      "Year        2010\n",
      "Marks        398\n",
      "dtype: object\n"
     ]
    }
   ],
   "source": [
    "# --- Added the code here ---\n",
    "student = df_stacked.loc[1]\n",
    "# ---------------------------\n",
    "\n",
    "print(student)"
   ]
  },
  {
   "cell_type": "code",
   "execution_count": 87,
   "id": "a87ce839",
   "metadata": {
    "ExecuteTime": {
     "end_time": "2022-09-20T20:32:35.154084Z",
     "start_time": "2022-09-20T20:32:35.151725Z"
    }
   },
   "outputs": [
    {
     "name": "stdout",
     "output_type": "stream",
     "text": [
      "398\n"
     ]
    }
   ],
   "source": [
    "# --- Added the code here ---\n",
    "print(student.Marks)\n",
    "# ---------------------------"
   ]
  },
  {
   "cell_type": "markdown",
   "id": "38b30985",
   "metadata": {},
   "source": [
    "#### Exercise 30 Unstacking a DataFrame"
   ]
  },
  {
   "cell_type": "code",
   "execution_count": 88,
   "id": "b7dafea7",
   "metadata": {
    "ExecuteTime": {
     "end_time": "2022-09-20T20:37:26.295470Z",
     "start_time": "2022-09-20T20:37:26.291613Z"
    }
   },
   "outputs": [
    {
     "name": "stdout",
     "output_type": "stream",
     "text": [
      "0   Name            John\n",
      "    Position           2\n",
      "    Year            2009\n",
      "    Marks            408\n",
      "1   Name            John\n",
      "    Position           1\n",
      "    Year            2010\n",
      "    Marks            398\n",
      "2   Name           Grace\n",
      "    Position           1\n",
      "    Year            2009\n",
      "    Marks            422\n",
      "3   Name           Grace\n",
      "    Position           4\n",
      "    Year            2010\n",
      "    Marks            376\n",
      "4   Name        Benjamin\n",
      "    Position           2\n",
      "    Year            2010\n",
      "    Marks            401\n",
      "5   Name        Benjamin\n",
      "    Position           4\n",
      "    Year            2010\n",
      "    Marks            380\n",
      "6   Name        Benjamin\n",
      "    Position           3\n",
      "    Year            2011\n",
      "    Marks            396\n",
      "7   Name        Benjamin\n",
      "    Position           1\n",
      "    Year            2012\n",
      "    Marks            388\n",
      "8   Name            John\n",
      "    Position           3\n",
      "    Year            2011\n",
      "    Marks            356\n",
      "9   Name            Alex\n",
      "    Position           2\n",
      "    Year            2013\n",
      "    Marks            402\n",
      "10  Name            Alex\n",
      "    Position           4\n",
      "    Year            2013\n",
      "    Marks            368\n",
      "11  Name            Alex\n",
      "    Position           3\n",
      "    Year            2012\n",
      "    Marks            378\n",
      "dtype: object\n"
     ]
    }
   ],
   "source": [
    "print(df_stacked)"
   ]
  },
  {
   "cell_type": "code",
   "execution_count": 89,
   "id": "fa515dcc",
   "metadata": {
    "ExecuteTime": {
     "end_time": "2022-09-20T20:37:33.065103Z",
     "start_time": "2022-09-20T20:37:33.055436Z"
    }
   },
   "outputs": [
    {
     "name": "stdout",
     "output_type": "stream",
     "text": [
      "        Name Position  Year Marks\n",
      "0       John        2  2009   408\n",
      "1       John        1  2010   398\n",
      "2      Grace        1  2009   422\n",
      "3      Grace        4  2010   376\n",
      "4   Benjamin        2  2010   401\n",
      "5   Benjamin        4  2010   380\n",
      "6   Benjamin        3  2011   396\n",
      "7   Benjamin        1  2012   388\n",
      "8       John        3  2011   356\n",
      "9       Alex        2  2013   402\n",
      "10      Alex        4  2013   368\n",
      "11      Alex        3  2012   378\n"
     ]
    }
   ],
   "source": [
    "# --- Added the code here ---\n",
    "df_unstacked = df_stacked.unstack()\n",
    "# ---------------------------\n",
    "\n",
    "print(df_unstacked)"
   ]
  },
  {
   "cell_type": "markdown",
   "id": "e9842c7f",
   "metadata": {},
   "source": [
    "#### Exercise 31 Pivoting a DataFrame"
   ]
  },
  {
   "cell_type": "code",
   "execution_count": 91,
   "id": "79a9b1a1",
   "metadata": {},
   "outputs": [
    {
     "name": "stdout",
     "output_type": "stream",
     "text": [
      "       Name  Year  Marks\n",
      "0      John  2009    400\n",
      "1      John  2010    600\n",
      "2  Victoria  2009    700\n",
      "3  Victoria  2010    300\n"
     ]
    }
   ],
   "source": [
    "import pandas as pd\n",
    "\n",
    "students = {\n",
    "    'Name' : ['John', 'John', 'Victoria', 'Victoria'],\n",
    "    'Year' : [2009, 2010, 2009, 2010],\n",
    "    'Marks' : [400, 600, 700, 300]\n",
    "}\n",
    "\n",
    "df = pd.DataFrame(students)\n",
    "\n",
    "print(df)"
   ]
  },
  {
   "cell_type": "code",
   "execution_count": 92,
   "id": "b9a5026f",
   "metadata": {},
   "outputs": [
    {
     "name": "stdout",
     "output_type": "stream",
     "text": [
      "Year      2009  2010\n",
      "Name                \n",
      "John       400   600\n",
      "Victoria   700   300\n"
     ]
    }
   ],
   "source": [
    "# --- Added the code here ---\n",
    "df_pivoted = df.pivot(index='Name', columns='Year', values='Marks')\n",
    "# ---------------------------\n",
    "\n",
    "print(df_pivoted)"
   ]
  },
  {
   "cell_type": "markdown",
   "id": "5d7ce4ca",
   "metadata": {},
   "source": [
    "#### Exercise 32 Melting a DataFrame"
   ]
  },
  {
   "cell_type": "code",
   "execution_count": 93,
   "id": "9bdff179",
   "metadata": {},
   "outputs": [
    {
     "name": "stdout",
     "output_type": "stream",
     "text": [
      "       Name  Year  Marks\n",
      "0      John  2009    400\n",
      "1      John  2010    600\n",
      "2  Victoria  2009    700\n",
      "3  Victoria  2010    300\n"
     ]
    }
   ],
   "source": [
    "import pandas as pd\n",
    "\n",
    "students = {\n",
    "    'Name' : ['John', 'John', 'Victoria', 'Victoria'],\n",
    "    'Year' : [2009, 2010, 2009, 2010],\n",
    "    'Marks' : [400, 600, 700, 300]\n",
    "}\n",
    "\n",
    "df = pd.DataFrame(students)\n",
    "\n",
    "# Check original DataFrame\n",
    "print(df)"
   ]
  },
  {
   "cell_type": "code",
   "execution_count": 94,
   "id": "d69adda3",
   "metadata": {},
   "outputs": [
    {
     "name": "stdout",
     "output_type": "stream",
     "text": [
      "   variable     value\n",
      "0      Name      John\n",
      "1      Name      John\n",
      "2      Name  Victoria\n",
      "3      Name  Victoria\n",
      "4      Year      2009\n",
      "5      Year      2010\n",
      "6      Year      2009\n",
      "7      Year      2010\n",
      "8     Marks       400\n",
      "9     Marks       600\n",
      "10    Marks       700\n",
      "11    Marks       300\n"
     ]
    }
   ],
   "source": [
    "# Melt DataFrame with default settings\n",
    "\n",
    "# --- Added the code here ---\n",
    "df_melted = df.melt()\n",
    "# ---------------------------\n",
    "\n",
    "# Check melted DataFrame\n",
    "print(df_melted)"
   ]
  },
  {
   "cell_type": "code",
   "execution_count": 96,
   "id": "7935a444",
   "metadata": {},
   "outputs": [
    {
     "name": "stdout",
     "output_type": "stream",
     "text": [
      "   Variables    Values\n",
      "0       Name      John\n",
      "1       Name      John\n",
      "2       Name  Victoria\n",
      "3       Name  Victoria\n",
      "4       Year      2009\n",
      "5       Year      2010\n",
      "6       Year      2009\n",
      "7       Year      2010\n",
      "8      Marks       400\n",
      "9      Marks       600\n",
      "10     Marks       700\n",
      "11     Marks       300\n"
     ]
    }
   ],
   "source": [
    "# --- Added the code here ---\n",
    "df_melted = df.melt(var_name='Variables', value_name='Values')\n",
    "# ---------------------------\n",
    "\n",
    "print(df_melted)"
   ]
  },
  {
   "cell_type": "code",
   "execution_count": 97,
   "id": "709eea61",
   "metadata": {},
   "outputs": [
    {
     "name": "stdout",
     "output_type": "stream",
     "text": [
      "       Name variable  value\n",
      "0      John    Marks    400\n",
      "1      John    Marks    600\n",
      "2  Victoria    Marks    700\n",
      "3  Victoria    Marks    300\n"
     ]
    }
   ],
   "source": [
    "# --- Added the code here ---\n",
    "df_melted = df.melt(id_vars='Name', value_vars='Marks')\n",
    "# ---------------------------\n",
    "\n",
    "print(df_melted)"
   ]
  },
  {
   "cell_type": "markdown",
   "id": "8200940c",
   "metadata": {},
   "source": [
    "#### Exercise 33 Melting and Unmelting a DataFrame"
   ]
  },
  {
   "cell_type": "code",
   "execution_count": 98,
   "id": "cdbb9640",
   "metadata": {},
   "outputs": [
    {
     "name": "stdout",
     "output_type": "stream",
     "text": [
      "Original DataFrame:\n",
      "       Name  Year  Marks\n",
      "0      John  2009    400\n",
      "1  Victoria  2010    300\n"
     ]
    }
   ],
   "source": [
    "import pandas as pd\n",
    "\n",
    "students = {\n",
    "    'Name' : ['John', 'Victoria'],\n",
    "    'Year' : [2009, 2010],\n",
    "    'Marks' : [400, 300]\n",
    "}\n",
    "\n",
    "df = pd.DataFrame(students)\n",
    "print(\"Original DataFrame:\")\n",
    "print(df)"
   ]
  },
  {
   "cell_type": "code",
   "execution_count": 99,
   "id": "dda73d6c",
   "metadata": {},
   "outputs": [
    {
     "name": "stdout",
     "output_type": "stream",
     "text": [
      "Melted DataFrame:\n",
      "       Name Variable  Value\n",
      "0      John     Year   2009\n",
      "1  Victoria     Year   2010\n",
      "2      John    Marks    400\n",
      "3  Victoria    Marks    300\n"
     ]
    }
   ],
   "source": [
    "# Melted DataFrame\n",
    "melted_df = df.melt(id_vars='Name', var_name='Variable', value_name='Value')\n",
    "print(\"Melted DataFrame:\")\n",
    "print(melted_df)"
   ]
  },
  {
   "cell_type": "code",
   "execution_count": 100,
   "id": "fabba843",
   "metadata": {},
   "outputs": [
    {
     "name": "stdout",
     "output_type": "stream",
     "text": [
      "Unmelted DataFrame:\n",
      "Variable  Marks  Year\n",
      "Name                 \n",
      "John        400  2009\n",
      "Victoria    300  2010\n"
     ]
    }
   ],
   "source": [
    "# Unmelted DataFrame\n",
    "\n",
    "# --- Added the code here ---\n",
    "unmelted_df = melted_df.pivot(index='Name', columns='Variable')['Value']\n",
    "unmelted_df\n",
    "# ---------------------------\n",
    "\n",
    "print(\"Unmelted DataFrame:\")\n",
    "print(unmelted_df)"
   ]
  },
  {
   "cell_type": "markdown",
   "id": "94955a8c",
   "metadata": {},
   "source": [
    "#### Exercise 34 Filtering the DataFrame"
   ]
  },
  {
   "cell_type": "code",
   "execution_count": 101,
   "id": "659dfb76",
   "metadata": {},
   "outputs": [
    {
     "name": "stdout",
     "output_type": "stream",
     "text": [
      "   Scoville                Name                       Feeling\n",
      "0        50         Bell pepper                Not even spicy\n",
      "1      5000    Espelette pepper                 Uncomfortable\n",
      "2     10000      Serrano pepper                 I regret this\n",
      "3     60000    Bird's eye chili            4th stage of grief\n",
      "4    500000  Chocolate habanero  Practically ate pepper spray\n",
      "5   2000000     Carolina Reaper     Actually ate pepper spray\n"
     ]
    }
   ],
   "source": [
    "import pandas as pd\n",
    "\n",
    "df  = pd.read_csv('peppers.csv')\n",
    "\n",
    "print(df)"
   ]
  },
  {
   "cell_type": "code",
   "execution_count": 102,
   "id": "51991951",
   "metadata": {},
   "outputs": [
    {
     "data": {
      "text/plain": [
       "0    False\n",
       "1    False\n",
       "2    False\n",
       "3     True\n",
       "4     True\n",
       "5     True\n",
       "Name: Scoville, dtype: bool"
      ]
     },
     "execution_count": 102,
     "metadata": {},
     "output_type": "execute_result"
    }
   ],
   "source": [
    "# --- Added the code here ---\n",
    "df.Scoville > 50000\n",
    "# ---------------------------"
   ]
  },
  {
   "cell_type": "code",
   "execution_count": 103,
   "id": "e40b6297",
   "metadata": {},
   "outputs": [
    {
     "data": {
      "text/html": [
       "<div>\n",
       "<style scoped>\n",
       "    .dataframe tbody tr th:only-of-type {\n",
       "        vertical-align: middle;\n",
       "    }\n",
       "\n",
       "    .dataframe tbody tr th {\n",
       "        vertical-align: top;\n",
       "    }\n",
       "\n",
       "    .dataframe thead th {\n",
       "        text-align: right;\n",
       "    }\n",
       "</style>\n",
       "<table border=\"1\" class=\"dataframe\">\n",
       "  <thead>\n",
       "    <tr style=\"text-align: right;\">\n",
       "      <th></th>\n",
       "      <th>Scoville</th>\n",
       "      <th>Name</th>\n",
       "      <th>Feeling</th>\n",
       "    </tr>\n",
       "  </thead>\n",
       "  <tbody>\n",
       "    <tr>\n",
       "      <th>3</th>\n",
       "      <td>60000</td>\n",
       "      <td>Bird's eye chili</td>\n",
       "      <td>4th stage of grief</td>\n",
       "    </tr>\n",
       "    <tr>\n",
       "      <th>4</th>\n",
       "      <td>500000</td>\n",
       "      <td>Chocolate habanero</td>\n",
       "      <td>Practically ate pepper spray</td>\n",
       "    </tr>\n",
       "    <tr>\n",
       "      <th>5</th>\n",
       "      <td>2000000</td>\n",
       "      <td>Carolina Reaper</td>\n",
       "      <td>Actually ate pepper spray</td>\n",
       "    </tr>\n",
       "  </tbody>\n",
       "</table>\n",
       "</div>"
      ],
      "text/plain": [
       "   Scoville                Name                       Feeling\n",
       "3     60000    Bird's eye chili            4th stage of grief\n",
       "4    500000  Chocolate habanero  Practically ate pepper spray\n",
       "5   2000000     Carolina Reaper     Actually ate pepper spray"
      ]
     },
     "execution_count": 103,
     "metadata": {},
     "output_type": "execute_result"
    }
   ],
   "source": [
    "# --- Added the code here ---\n",
    "df[df.Scoville >= 50000]\n",
    "# ---------------------------"
   ]
  },
  {
   "cell_type": "code",
   "execution_count": 104,
   "id": "d3d90801",
   "metadata": {},
   "outputs": [
    {
     "data": {
      "text/html": [
       "<div>\n",
       "<style scoped>\n",
       "    .dataframe tbody tr th:only-of-type {\n",
       "        vertical-align: middle;\n",
       "    }\n",
       "\n",
       "    .dataframe tbody tr th {\n",
       "        vertical-align: top;\n",
       "    }\n",
       "\n",
       "    .dataframe thead th {\n",
       "        text-align: right;\n",
       "    }\n",
       "</style>\n",
       "<table border=\"1\" class=\"dataframe\">\n",
       "  <thead>\n",
       "    <tr style=\"text-align: right;\">\n",
       "      <th></th>\n",
       "      <th>Scoville</th>\n",
       "      <th>Name</th>\n",
       "    </tr>\n",
       "  </thead>\n",
       "  <tbody>\n",
       "    <tr>\n",
       "      <th>3</th>\n",
       "      <td>60000</td>\n",
       "      <td>Bird's eye chili</td>\n",
       "    </tr>\n",
       "    <tr>\n",
       "      <th>4</th>\n",
       "      <td>500000</td>\n",
       "      <td>Chocolate habanero</td>\n",
       "    </tr>\n",
       "    <tr>\n",
       "      <th>5</th>\n",
       "      <td>2000000</td>\n",
       "      <td>Carolina Reaper</td>\n",
       "    </tr>\n",
       "  </tbody>\n",
       "</table>\n",
       "</div>"
      ],
      "text/plain": [
       "   Scoville                Name\n",
       "3     60000    Bird's eye chili\n",
       "4    500000  Chocolate habanero\n",
       "5   2000000     Carolina Reaper"
      ]
     },
     "execution_count": 104,
     "metadata": {},
     "output_type": "execute_result"
    }
   ],
   "source": [
    "# --- Added the code here ---\n",
    "df.loc[df.Scoville >= 50000,['Scoville','Name']]\n",
    "# ---------------------------"
   ]
  },
  {
   "cell_type": "markdown",
   "id": "e5a1e6be",
   "metadata": {},
   "source": [
    "-----"
   ]
  },
  {
   "cell_type": "markdown",
   "id": "2908a842",
   "metadata": {},
   "source": [
    "#### Revised Date: July 18, 2024"
   ]
  }
 ],
 "metadata": {
  "kernelspec": {
   "display_name": "Python 3 (ipykernel)",
   "language": "python",
   "name": "python3"
  },
  "language_info": {
   "codemirror_mode": {
    "name": "ipython",
    "version": 3
   },
   "file_extension": ".py",
   "mimetype": "text/x-python",
   "name": "python",
   "nbconvert_exporter": "python",
   "pygments_lexer": "ipython3",
   "version": "3.11.5"
  },
  "varInspector": {
   "cols": {
    "lenName": 16,
    "lenType": 16,
    "lenVar": 40
   },
   "kernels_config": {
    "python": {
     "delete_cmd_postfix": "",
     "delete_cmd_prefix": "del ",
     "library": "var_list.py",
     "varRefreshCmd": "print(var_dic_list())"
    },
    "r": {
     "delete_cmd_postfix": ") ",
     "delete_cmd_prefix": "rm(",
     "library": "var_list.r",
     "varRefreshCmd": "cat(var_dic_list()) "
    }
   },
   "types_to_exclude": [
    "module",
    "function",
    "builtin_function_or_method",
    "instance",
    "_Feature"
   ],
   "window_display": false
  }
 },
 "nbformat": 4,
 "nbformat_minor": 5
}
