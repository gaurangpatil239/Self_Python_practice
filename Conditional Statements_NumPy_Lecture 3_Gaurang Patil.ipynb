{
 "cells": [
  {
   "cell_type": "markdown",
   "id": "d4f0956a",
   "metadata": {
    "id": "d4f0956a"
   },
   "source": [
    "### Python Conditions and If statements"
   ]
  },
  {
   "cell_type": "markdown",
   "id": "3c743aba",
   "metadata": {
    "id": "3c743aba"
   },
   "source": [
    "- Equals: a == b\n",
    "- Not Equals: a != b\n",
    "- Less than: a < b\n",
    "- Less than or equal to: a <= b\n",
    "- Greater than: a > b\n",
    "- Greater than or equal to: a >= b"
   ]
  },
  {
   "cell_type": "markdown",
   "id": "f4a1167b",
   "metadata": {
    "id": "f4a1167b"
   },
   "source": [
    "#### Exercise 1 Creating the If statement"
   ]
  },
  {
   "cell_type": "code",
   "execution_count": 10,
   "id": "f21bf988",
   "metadata": {
    "colab": {
     "base_uri": "https://localhost:8080/"
    },
    "id": "f21bf988",
    "outputId": "11fe6f7d-8cec-495a-c386-00e112e5412f"
   },
   "outputs": [
    {
     "name": "stdout",
     "output_type": "stream",
     "text": [
      "b is greater than a\n"
     ]
    }
   ],
   "source": [
    "a = 33\n",
    "b = 200\n",
    "\n",
    "# --- Added the code here ---\n",
    "if b > a :\n",
    "# ---------------------------\n",
    "    print(\"b is greater than a\")"
   ]
  },
  {
   "cell_type": "markdown",
   "id": "183a5b0f",
   "metadata": {
    "id": "183a5b0f"
   },
   "source": [
    "#### Exercise 2 Creating the Elif statement"
   ]
  },
  {
   "cell_type": "code",
   "execution_count": 7,
   "id": "566c47be",
   "metadata": {
    "colab": {
     "base_uri": "https://localhost:8080/"
    },
    "id": "566c47be",
    "outputId": "1b809cac-d8fc-47a6-a03e-3e9bec82d2c8"
   },
   "outputs": [
    {
     "name": "stdout",
     "output_type": "stream",
     "text": [
      "a and b are equal\n"
     ]
    }
   ],
   "source": [
    "a = 33\n",
    "b = 33\n",
    "\n",
    "if b > a:\n",
    "    print(\"b is greater than a\")\n",
    "# --- Added the code here ---\n",
    "elif a == b: \n",
    "# ---------------------------\n",
    "    print(\"a and b are equal\")"
   ]
  },
  {
   "cell_type": "markdown",
   "id": "54d94473",
   "metadata": {
    "id": "54d94473"
   },
   "source": [
    "#### Exercise 3 Creating the Else statement"
   ]
  },
  {
   "cell_type": "markdown",
   "id": "b9b84a4e",
   "metadata": {
    "id": "b9b84a4e"
   },
   "source": [
    "The else keyword catches anything which isn't caught by the preceding conditions."
   ]
  },
  {
   "cell_type": "code",
   "execution_count": 13,
   "id": "68b12257",
   "metadata": {
    "colab": {
     "base_uri": "https://localhost:8080/"
    },
    "id": "68b12257",
    "outputId": "ec8d19dd-0d30-4b9c-ec77-3a79cb7d3867"
   },
   "outputs": [
    {
     "name": "stdout",
     "output_type": "stream",
     "text": [
      "a is greater than b\n"
     ]
    }
   ],
   "source": [
    "a = 200\n",
    "b = 33\n",
    "\n",
    "if b > a:\n",
    "    print(\"b is greater than a\")\n",
    "elif a == b:\n",
    "    print(\"a and b are equal\")\n",
    "# --- Added the code here ---\n",
    "else:\n",
    "# ---------------------------   \n",
    "    print(\"a is greater than b\")"
   ]
  },
  {
   "cell_type": "code",
   "execution_count": 14,
   "id": "323c01f2",
   "metadata": {
    "colab": {
     "base_uri": "https://localhost:8080/"
    },
    "id": "323c01f2",
    "outputId": "38941c54-7063-472d-d1a9-477a34936ec7"
   },
   "outputs": [
    {
     "name": "stdout",
     "output_type": "stream",
     "text": [
      "b is not greater than a\n"
     ]
    }
   ],
   "source": [
    "a = 200\n",
    "b = 33\n",
    "\n",
    "if b > a:\n",
    "    print(\"b is greater than a\")\n",
    "else:\n",
    "    print(\"b is not greater than a\")"
   ]
  },
  {
   "cell_type": "markdown",
   "id": "102d4eea",
   "metadata": {
    "id": "102d4eea"
   },
   "source": [
    "#### Exercise 4 Short Hand If"
   ]
  },
  {
   "cell_type": "code",
   "execution_count": 15,
   "id": "e48780eb",
   "metadata": {
    "colab": {
     "base_uri": "https://localhost:8080/"
    },
    "id": "e48780eb",
    "outputId": "d31ea263-3566-4b0c-c43e-358aa83ffd79"
   },
   "outputs": [
    {
     "name": "stdout",
     "output_type": "stream",
     "text": [
      "a is greater than b\n"
     ]
    }
   ],
   "source": [
    "a = 200\n",
    "b = 33\n",
    "  \n",
    "# --- Added the code here ---\n",
    "if a > b :print(\"a is greater than b\")\n",
    "# ---------------------------  "
   ]
  },
  {
   "cell_type": "markdown",
   "id": "94937bed",
   "metadata": {
    "id": "94937bed"
   },
   "source": [
    "#### Exercise 5 Short Hand If ... Else"
   ]
  },
  {
   "cell_type": "code",
   "execution_count": 16,
   "id": "4a111dc5",
   "metadata": {
    "colab": {
     "base_uri": "https://localhost:8080/"
    },
    "id": "4a111dc5",
    "outputId": "0373b403-5ece-4294-929b-21f03febb10d"
   },
   "outputs": [
    {
     "name": "stdout",
     "output_type": "stream",
     "text": [
      "B\n"
     ]
    }
   ],
   "source": [
    "a = 2\n",
    "b = 330\n",
    "\n",
    "# --- Added the code here ---\n",
    "print(\"A\") if a > b else  print(\"B\")\n",
    "# ---------------------------"
   ]
  },
  {
   "cell_type": "code",
   "execution_count": 17,
   "id": "d6a20459",
   "metadata": {
    "colab": {
     "base_uri": "https://localhost:8080/"
    },
    "id": "d6a20459",
    "outputId": "f4e549ec-8266-46c1-f776-43a446e1c08d"
   },
   "outputs": [
    {
     "ename": "SyntaxError",
     "evalue": "expected 'else' after 'if' expression (917726251.py, line 5)",
     "output_type": "error",
     "traceback": [
      "\u001b[1;36m  Cell \u001b[1;32mIn[17], line 5\u001b[1;36m\u001b[0m\n\u001b[1;33m    print(\"A\") if a > b else print(\"=\") if a == b if else print(\"B\")\u001b[0m\n\u001b[1;37m                             ^\u001b[0m\n\u001b[1;31mSyntaxError\u001b[0m\u001b[1;31m:\u001b[0m expected 'else' after 'if' expression\n"
     ]
    }
   ],
   "source": [
    "a = 330\n",
    "b = 330\n",
    "\n",
    "# --- Added the code here ---\n",
    "print(\"A\") if a > b else print(\"=\") if a == b if else print(\"B\")\n",
    "# ---------------------------"
   ]
  },
  {
   "cell_type": "markdown",
   "id": "a15fa60d",
   "metadata": {
    "id": "a15fa60d"
   },
   "source": [
    "#### Exercise 6 Logical Operators"
   ]
  },
  {
   "cell_type": "markdown",
   "id": "a1030577",
   "metadata": {
    "id": "a1030577"
   },
   "source": [
    "#### And operator"
   ]
  },
  {
   "cell_type": "code",
   "execution_count": 19,
   "id": "e61980f6",
   "metadata": {
    "colab": {
     "base_uri": "https://localhost:8080/"
    },
    "id": "e61980f6",
    "outputId": "598375e4-15c6-4814-ac07-183369d11116"
   },
   "outputs": [
    {
     "name": "stdout",
     "output_type": "stream",
     "text": [
      "Both conditions are True\n"
     ]
    }
   ],
   "source": [
    "a = 200\n",
    "b = 33\n",
    "c = 500\n",
    "\n",
    "# --- Added the code here ---\n",
    "if a > b and c > a:\n",
    "# ---------------------------\n",
    "    print(\"Both conditions are True\")"
   ]
  },
  {
   "cell_type": "markdown",
   "id": "a3b53fa7",
   "metadata": {
    "id": "a3b53fa7"
   },
   "source": [
    "#### OR operator"
   ]
  },
  {
   "cell_type": "code",
   "execution_count": 20,
   "id": "e4d21c80",
   "metadata": {
    "id": "e4d21c80",
    "outputId": "9afae007-468c-41a0-9ffc-ccfbef0d07a3"
   },
   "outputs": [
    {
     "name": "stdout",
     "output_type": "stream",
     "text": [
      "At least one of the conditions is True\n"
     ]
    }
   ],
   "source": [
    "a = 200\n",
    "b = 33\n",
    "c = 500\n",
    "\n",
    "# --- Added the code here ---\n",
    "if a > b or a > c:\n",
    "# ---------------------------    \n",
    "    print(\"At least one of the conditions is True\")"
   ]
  },
  {
   "cell_type": "markdown",
   "id": "cd21c101",
   "metadata": {
    "id": "cd21c101"
   },
   "source": [
    "#### Not operator"
   ]
  },
  {
   "cell_type": "code",
   "execution_count": 22,
   "id": "cc1ec6f2",
   "metadata": {
    "colab": {
     "base_uri": "https://localhost:8080/"
    },
    "id": "cc1ec6f2",
    "outputId": "63cc1d55-1e4a-439a-ab42-327c07f016bc"
   },
   "outputs": [
    {
     "name": "stdout",
     "output_type": "stream",
     "text": [
      "a is NOT greater than b\n"
     ]
    }
   ],
   "source": [
    "a = 33\n",
    "b = 200\n",
    "\n",
    "# --- Added the code here ---\n",
    "if not a > b:\n",
    "# ---------------------------   \n",
    "    print(\"a is NOT greater than b\")"
   ]
  },
  {
   "cell_type": "markdown",
   "id": "65d887af",
   "metadata": {
    "id": "65d887af"
   },
   "source": [
    "#### Exercise 7 Nested If"
   ]
  },
  {
   "cell_type": "code",
   "execution_count": 23,
   "id": "c10f8524",
   "metadata": {
    "colab": {
     "base_uri": "https://localhost:8080/"
    },
    "id": "c10f8524",
    "outputId": "34bb6932-bb42-4a17-8ab1-8f7d332ba045"
   },
   "outputs": [
    {
     "name": "stdout",
     "output_type": "stream",
     "text": [
      "Above ten,\n",
      "and also above 20!\n"
     ]
    }
   ],
   "source": [
    "x = 41\n",
    "\n",
    "if x > 10:\n",
    "    print(\"Above ten,\")\n",
    "\n",
    "    # --- Added the code here ---\n",
    "    if x > 20 :\n",
    "    # --------------------------- \n",
    "        print(\"and also above 20!\")\n",
    "    else:\n",
    "        print(\"but not above 20.\")"
   ]
  },
  {
   "cell_type": "markdown",
   "id": "85bae958",
   "metadata": {
    "id": "85bae958"
   },
   "source": [
    "#### Exercise 8 The pass Statement"
   ]
  },
  {
   "cell_type": "code",
   "execution_count": 24,
   "id": "badf77e5",
   "metadata": {
    "id": "badf77e5"
   },
   "outputs": [],
   "source": [
    "a = 33\n",
    "b = 200\n",
    "\n",
    "if b > a:\n",
    "    # --- Added the code here ---\n",
    "    pass\n",
    "    # ---------------------------"
   ]
  },
  {
   "cell_type": "markdown",
   "id": "35d1ba74",
   "metadata": {
    "id": "35d1ba74"
   },
   "source": [
    "### Python While Loops"
   ]
  },
  {
   "cell_type": "markdown",
   "id": "69034e0c",
   "metadata": {
    "id": "69034e0c"
   },
   "source": [
    "#### Exercise 9 Creating the while Loop"
   ]
  },
  {
   "cell_type": "code",
   "execution_count": 26,
   "id": "b959abad",
   "metadata": {
    "colab": {
     "base_uri": "https://localhost:8080/"
    },
    "id": "b959abad",
    "outputId": "1f5718f7-fb49-4192-f2a7-62c65be1a591"
   },
   "outputs": [
    {
     "name": "stdout",
     "output_type": "stream",
     "text": [
      "1\n",
      "2\n",
      "3\n",
      "4\n",
      "5\n"
     ]
    }
   ],
   "source": [
    "i = 1\n",
    "# --- Added the code here ---\n",
    "while i < 6:\n",
    "# ---------------------------    \n",
    "    print(i)\n",
    "    i = i + 1"
   ]
  },
  {
   "cell_type": "markdown",
   "id": "ca9cdaff",
   "metadata": {
    "id": "ca9cdaff"
   },
   "source": [
    "#### Exercise 10 The break Statement"
   ]
  },
  {
   "cell_type": "code",
   "execution_count": 27,
   "id": "492f5d78",
   "metadata": {
    "colab": {
     "base_uri": "https://localhost:8080/"
    },
    "id": "492f5d78",
    "outputId": "4f540f4d-d6c3-4217-9940-2fc7f2b0921e"
   },
   "outputs": [
    {
     "name": "stdout",
     "output_type": "stream",
     "text": [
      "1\n",
      "2\n",
      "3\n"
     ]
    }
   ],
   "source": [
    "i = 1\n",
    "while i < 6:\n",
    "    print(i)\n",
    "    \n",
    "    # --- Added the code here ---\n",
    "    if i == 3:\n",
    "        break\n",
    "    # ---------------------------\n",
    "\n",
    "    i = i + 1"
   ]
  },
  {
   "cell_type": "markdown",
   "id": "d5dec21e",
   "metadata": {
    "id": "d5dec21e"
   },
   "source": [
    "#### Exercise 11 The continue Statement"
   ]
  },
  {
   "cell_type": "code",
   "execution_count": 28,
   "id": "19d6347b",
   "metadata": {
    "colab": {
     "base_uri": "https://localhost:8080/"
    },
    "id": "19d6347b",
    "outputId": "ad8b37e5-c6c2-485d-eb45-16ea4cdf9cfb"
   },
   "outputs": [
    {
     "name": "stdout",
     "output_type": "stream",
     "text": [
      "1\n",
      "2\n",
      "4\n",
      "5\n",
      "6\n"
     ]
    }
   ],
   "source": [
    "i = 0\n",
    "while i < 6:\n",
    "    i += 1   # same as i = i + 1\n",
    "\n",
    "    # --- Added the code here ---\n",
    "    if i == 3:\n",
    "        continue\n",
    "    # ---------------------------    \n",
    "\n",
    "    print(i)"
   ]
  },
  {
   "cell_type": "markdown",
   "id": "c5015891",
   "metadata": {
    "id": "c5015891"
   },
   "source": [
    "#### Exercise 12 The else Statement"
   ]
  },
  {
   "cell_type": "code",
   "execution_count": 29,
   "id": "2426b6d5",
   "metadata": {
    "colab": {
     "base_uri": "https://localhost:8080/"
    },
    "id": "2426b6d5",
    "outputId": "b42f156f-e84e-4de0-a592-673a166cef1d"
   },
   "outputs": [
    {
     "name": "stdout",
     "output_type": "stream",
     "text": [
      "1\n",
      "2\n",
      "3\n",
      "4\n",
      "5\n",
      "i is no longer less than 6\n"
     ]
    }
   ],
   "source": [
    "i = 1\n",
    "while i < 6:\n",
    "    print(i)\n",
    "    i += 1\n",
    "    \n",
    "# --- Added the code here ---\n",
    "else:\n",
    "# ---------------------------\n",
    "    print(\"i is no longer less than 6\")"
   ]
  },
  {
   "cell_type": "markdown",
   "id": "1f8d71e1",
   "metadata": {
    "id": "1f8d71e1"
   },
   "source": [
    "### Python For Loops"
   ]
  },
  {
   "cell_type": "markdown",
   "id": "e102e27f",
   "metadata": {
    "id": "e102e27f"
   },
   "source": [
    "#### Exercise 13 Creating the For Loop"
   ]
  },
  {
   "cell_type": "code",
   "execution_count": 30,
   "id": "18cc5abe",
   "metadata": {
    "colab": {
     "base_uri": "https://localhost:8080/"
    },
    "id": "18cc5abe",
    "outputId": "9a4d767a-132e-40ae-e38b-26e266cedeed"
   },
   "outputs": [
    {
     "name": "stdout",
     "output_type": "stream",
     "text": [
      "apple\n",
      "banana\n",
      "cherry\n",
      "Mango\n"
     ]
    }
   ],
   "source": [
    "fruits = [\"apple\", \"banana\", \"cherry\",\"Mango\"]\n",
    "\n",
    "# --- Added the code here ---\n",
    "for x in fruits:\n",
    "# ---------------------------    \n",
    "    print(x)"
   ]
  },
  {
   "cell_type": "markdown",
   "id": "5e0da7ce",
   "metadata": {
    "id": "5e0da7ce"
   },
   "source": [
    "#### Exercise 14 Looping Through a String"
   ]
  },
  {
   "cell_type": "code",
   "execution_count": 32,
   "id": "9f00d176",
   "metadata": {
    "colab": {
     "base_uri": "https://localhost:8080/"
    },
    "id": "9f00d176",
    "outputId": "73db3424-01f3-4e66-ccc4-ea7cd1d0fad5"
   },
   "outputs": [
    {
     "name": "stdout",
     "output_type": "stream",
     "text": [
      "b\n",
      "a\n",
      "n\n",
      "a\n",
      "n\n",
      "a\n"
     ]
    }
   ],
   "source": [
    "# --- Added the code here ---\n",
    "for x in \"banana\":\n",
    "# ---------------------------\n",
    "    print(x)"
   ]
  },
  {
   "cell_type": "markdown",
   "id": "02fef799",
   "metadata": {
    "id": "02fef799"
   },
   "source": [
    "#### Exercise 15 The break Statement"
   ]
  },
  {
   "cell_type": "code",
   "execution_count": 36,
   "id": "88709341",
   "metadata": {
    "colab": {
     "base_uri": "https://localhost:8080/"
    },
    "id": "88709341",
    "outputId": "66fc1be7-c14c-4493-d630-ab224dc51d79"
   },
   "outputs": [
    {
     "name": "stdout",
     "output_type": "stream",
     "text": [
      "apple\n",
      "banana\n"
     ]
    }
   ],
   "source": [
    "fruits = [\"apple\", \"banana\", \"cherry\"]\n",
    "for x in fruits:\n",
    "    print(x)\n",
    "\n",
    "    # --- Added the code here ---\n",
    "    if x == \"banana\":\n",
    "        break\n",
    "    # ---------------------------"
   ]
  },
  {
   "cell_type": "code",
   "execution_count": 37,
   "id": "49fb4a6f",
   "metadata": {
    "colab": {
     "base_uri": "https://localhost:8080/"
    },
    "id": "49fb4a6f",
    "outputId": "97202e71-fbcb-4229-f29c-b2fae755654c"
   },
   "outputs": [
    {
     "name": "stdout",
     "output_type": "stream",
     "text": [
      "apple\n"
     ]
    }
   ],
   "source": [
    "fruits = [\"apple\", \"banana\", \"cherry\"]\n",
    "for x in fruits:\n",
    "    # --- Added the code here ---\n",
    "    if x == \"banana\":\n",
    "        break\n",
    "    # ---------------------------\n",
    "    \n",
    "    print(x)"
   ]
  },
  {
   "cell_type": "markdown",
   "id": "69dc2a42",
   "metadata": {
    "id": "69dc2a42"
   },
   "source": [
    "#### Exercise 16 The continue Statement"
   ]
  },
  {
   "cell_type": "code",
   "execution_count": 39,
   "id": "3b6ddb3d",
   "metadata": {
    "colab": {
     "base_uri": "https://localhost:8080/"
    },
    "id": "3b6ddb3d",
    "outputId": "577236d7-fc26-4179-9fde-a7e7111ab44e"
   },
   "outputs": [
    {
     "name": "stdout",
     "output_type": "stream",
     "text": [
      "apple\n",
      "cherry\n"
     ]
    }
   ],
   "source": [
    "fruits = [\"apple\", \"banana\", \"cherry\"]\n",
    "for x in fruits:\n",
    "    # --- Added the code here ---\n",
    "    if x == \"banana\":\n",
    "        continue\n",
    "    # ---------------------------\n",
    "    \n",
    "    print(x)"
   ]
  },
  {
   "cell_type": "markdown",
   "id": "62f51333",
   "metadata": {
    "id": "62f51333"
   },
   "source": [
    "#### Exercise 17 The range() Function"
   ]
  },
  {
   "cell_type": "code",
   "execution_count": 40,
   "id": "88d0d60e",
   "metadata": {
    "colab": {
     "base_uri": "https://localhost:8080/"
    },
    "id": "88d0d60e",
    "outputId": "ff670a65-afec-4668-f851-886bf9ffa336"
   },
   "outputs": [
    {
     "name": "stdout",
     "output_type": "stream",
     "text": [
      "0\n",
      "1\n",
      "2\n",
      "3\n",
      "4\n",
      "5\n"
     ]
    }
   ],
   "source": [
    "# --- Added the code here --- by default the list starts from 0.\n",
    "for x in range(6):\n",
    "# ---------------------------  \n",
    "    print(x)"
   ]
  },
  {
   "cell_type": "code",
   "execution_count": 42,
   "id": "a728373b",
   "metadata": {
    "colab": {
     "base_uri": "https://localhost:8080/"
    },
    "id": "a728373b",
    "outputId": "7b63e71a-ce47-4f22-f6e6-7bb54677397d"
   },
   "outputs": [
    {
     "name": "stdout",
     "output_type": "stream",
     "text": [
      "2\n",
      "3\n",
      "4\n",
      "5\n"
     ]
    }
   ],
   "source": [
    "# --- Added the code here ---\n",
    "for x in range(2, 6):\n",
    "# ---------------------------   \n",
    "    print(x)"
   ]
  },
  {
   "cell_type": "code",
   "execution_count": 44,
   "id": "20cfb542",
   "metadata": {
    "colab": {
     "base_uri": "https://localhost:8080/"
    },
    "id": "20cfb542",
    "outputId": "bf4bcec6-d742-4e05-c9a9-d9265642c331"
   },
   "outputs": [
    {
     "name": "stdout",
     "output_type": "stream",
     "text": [
      "2\n",
      "5\n",
      "8\n",
      "11\n",
      "14\n",
      "17\n",
      "20\n",
      "23\n",
      "26\n",
      "29\n"
     ]
    }
   ],
   "source": [
    "# --- Added the code here ---\n",
    "for x in range(2, 30, 3):\n",
    "# ---------------------------   \n",
    "    print(x)"
   ]
  },
  {
   "cell_type": "markdown",
   "id": "148d45f6",
   "metadata": {
    "id": "148d45f6"
   },
   "source": [
    "#### Exercise 18 Else in For Loop"
   ]
  },
  {
   "cell_type": "code",
   "execution_count": 45,
   "id": "af4a6d99",
   "metadata": {
    "colab": {
     "base_uri": "https://localhost:8080/"
    },
    "id": "af4a6d99",
    "outputId": "0db6e5ec-28e4-4a6f-f29f-07265ea81d8b"
   },
   "outputs": [
    {
     "name": "stdout",
     "output_type": "stream",
     "text": [
      "0\n",
      "1\n",
      "2\n",
      "3\n",
      "4\n",
      "5\n",
      "Finally finished!\n"
     ]
    }
   ],
   "source": [
    "for x in range(6):\n",
    "    print(x)\n",
    "# --- Added the code here ---\n",
    "else:\n",
    "# ---------------------------    \n",
    "    print(\"Finally finished!\")"
   ]
  },
  {
   "cell_type": "code",
   "execution_count": 46,
   "id": "6e89de65",
   "metadata": {
    "colab": {
     "base_uri": "https://localhost:8080/"
    },
    "id": "6e89de65",
    "outputId": "3360d13e-8f5e-4953-8cec-a384d056fd68"
   },
   "outputs": [
    {
     "name": "stdout",
     "output_type": "stream",
     "text": [
      "0\n",
      "1\n",
      "2\n"
     ]
    }
   ],
   "source": [
    "for x in range(6):\n",
    "    # --- Added the code here ---\n",
    "    if x == 3: break\n",
    "    # --------------------------- \n",
    "    print(x)\n",
    "else:\n",
    "    print(\"Finally finished!\")"
   ]
  },
  {
   "cell_type": "markdown",
   "id": "0a7edf8a",
   "metadata": {
    "id": "0a7edf8a"
   },
   "source": [
    "#### Exercise 19 Nested Loops"
   ]
  },
  {
   "cell_type": "code",
   "execution_count": 49,
   "id": "f6a7115b",
   "metadata": {
    "colab": {
     "base_uri": "https://localhost:8080/"
    },
    "id": "f6a7115b",
    "outputId": "8c6489a7-5366-42b6-99e7-6c66a9a4881d"
   },
   "outputs": [
    {
     "name": "stdout",
     "output_type": "stream",
     "text": [
      "red apple\n",
      "red banana\n",
      "red cherry\n",
      "big apple\n",
      "big banana\n",
      "big cherry\n",
      "tasty apple\n",
      "tasty banana\n",
      "tasty cherry\n"
     ]
    }
   ],
   "source": [
    "adj = [\"red\", \"big\", \"tasty\"]\n",
    "fruits = [\"apple\", \"banana\", \"cherry\"]\n",
    "\n",
    "for x in adj:\n",
    "    # --- Added the code here ---\n",
    "    for y in fruits:\n",
    "    # ---------------------------\n",
    "        print(x, y)"
   ]
  },
  {
   "cell_type": "markdown",
   "id": "e13d6bd0",
   "metadata": {
    "id": "e13d6bd0"
   },
   "source": [
    "#### Exercise 20 The pass Statement"
   ]
  },
  {
   "cell_type": "code",
   "execution_count": 50,
   "id": "1b054b36",
   "metadata": {
    "id": "1b054b36"
   },
   "outputs": [],
   "source": [
    "for x in [0, 1, 2]:\n",
    "    pass"
   ]
  },
  {
   "cell_type": "markdown",
   "id": "2a85bf42",
   "metadata": {
    "id": "2a85bf42"
   },
   "source": [
    "### Python Functions"
   ]
  },
  {
   "cell_type": "markdown",
   "id": "854fda3b",
   "metadata": {
    "id": "854fda3b"
   },
   "source": [
    "#### Exercise 21 Creating a Function"
   ]
  },
  {
   "cell_type": "code",
   "execution_count": 51,
   "id": "a212818b",
   "metadata": {
    "id": "a212818b"
   },
   "outputs": [],
   "source": [
    "# --- Added the code here ---\n",
    "def my_function():\n",
    "# ---------------------------    \n",
    "    print('Northeastern University')"
   ]
  },
  {
   "cell_type": "code",
   "execution_count": 52,
   "id": "2cdeaed2",
   "metadata": {
    "colab": {
     "base_uri": "https://localhost:8080/"
    },
    "id": "2cdeaed2",
    "outputId": "8f0c0b34-46ed-4d02-e2c5-b78bd4a7964c"
   },
   "outputs": [
    {
     "name": "stdout",
     "output_type": "stream",
     "text": [
      "Northeastern University\n"
     ]
    }
   ],
   "source": [
    "# No arguments\n",
    "my_function()"
   ]
  },
  {
   "cell_type": "markdown",
   "id": "f2d1e05f",
   "metadata": {
    "id": "f2d1e05f"
   },
   "source": [
    "#### Exercise 22 Arguments"
   ]
  },
  {
   "cell_type": "code",
   "execution_count": 53,
   "id": "d8dc4228",
   "metadata": {
    "id": "d8dc4228"
   },
   "outputs": [],
   "source": [
    "# Single arguments\n",
    "\n",
    "# --- Added the code here ---\n",
    "def my_function(campus):\n",
    "# ---------------------------  \n",
    "    print('Northeastern University ' + str(campus))"
   ]
  },
  {
   "cell_type": "code",
   "execution_count": 54,
   "id": "bff4e75e",
   "metadata": {
    "colab": {
     "base_uri": "https://localhost:8080/"
    },
    "id": "bff4e75e",
    "outputId": "eeca753d-d950-4f07-fd8e-45b2ef298bda"
   },
   "outputs": [
    {
     "name": "stdout",
     "output_type": "stream",
     "text": [
      "Northeastern University Boston\n",
      "Northeastern University Vancouver\n",
      "Northeastern University Seattle\n"
     ]
    }
   ],
   "source": [
    "my_function('Boston')\n",
    "my_function('Vancouver')\n",
    "my_function('Seattle')"
   ]
  },
  {
   "cell_type": "markdown",
   "id": "ea16c7a0",
   "metadata": {
    "id": "ea16c7a0"
   },
   "source": [
    "#### Multiple Arguments"
   ]
  },
  {
   "cell_type": "code",
   "execution_count": 58,
   "id": "ed288ae8",
   "metadata": {
    "id": "ed288ae8"
   },
   "outputs": [],
   "source": [
    "# Multiple arguments\n",
    "\n",
    "# --- Added the code here ---\n",
    "def my_function(a, b):\n",
    "# ---------------------------    \n",
    "    print(str(b) + ' ' + str(a))"
   ]
  },
  {
   "cell_type": "code",
   "execution_count": 59,
   "id": "3ce7d0b4",
   "metadata": {
    "colab": {
     "base_uri": "https://localhost:8080/"
    },
    "id": "3ce7d0b4",
    "outputId": "c0b5f3a8-e19a-4e02-b378-ba23dba618ac"
   },
   "outputs": [
    {
     "name": "stdout",
     "output_type": "stream",
     "text": [
      "Northeastern University\n"
     ]
    }
   ],
   "source": [
    "my_function('University', 'Northeastern')"
   ]
  },
  {
   "cell_type": "markdown",
   "id": "4d1cef17",
   "metadata": {
    "id": "4d1cef17"
   },
   "source": [
    "#### Exercise 23 Arbitrary Arguments, *args"
   ]
  },
  {
   "cell_type": "code",
   "execution_count": 64,
   "id": "80c7e4ce",
   "metadata": {
    "colab": {
     "base_uri": "https://localhost:8080/"
    },
    "id": "80c7e4ce",
    "outputId": "5c4f02dc-093a-46e1-d108-8a4d53f92e35"
   },
   "outputs": [
    {
     "name": "stdout",
     "output_type": "stream",
     "text": [
      "Northeastern University Seattle\n"
     ]
    }
   ],
   "source": [
    "# --- Added the code here --- PUT A STAR\n",
    "def my_function(*cname):\n",
    "# ---------------------------    \n",
    "    print(\"Northeastern University \" + cname[2])\n",
    "\n",
    "my_function(\"Boston\", \"Vancouver\", \"Seattle\")"
   ]
  },
  {
   "cell_type": "markdown",
   "id": "15c300df",
   "metadata": {
    "id": "15c300df"
   },
   "source": [
    "#### Exercise 24 Keyword Arguments"
   ]
  },
  {
   "cell_type": "code",
   "execution_count": 65,
   "id": "fe92afc8",
   "metadata": {
    "colab": {
     "base_uri": "https://localhost:8080/"
    },
    "id": "fe92afc8",
    "outputId": "85d91dd5-19fa-4308-fd6f-0b380e889ff3"
   },
   "outputs": [
    {
     "name": "stdout",
     "output_type": "stream",
     "text": [
      "Northeastern University Seattle\n"
     ]
    }
   ],
   "source": [
    "def my_function(cname3, cname2, cname1):\n",
    "    print(\"Northeastern University \" + cname3)\n",
    "\n",
    "# --- Added the code here ---\n",
    "my_function(cname1 = \"Bsoton\", cname2 = \"Vancouver\", cname3 = \"Seattle\")\n",
    "# ---------------------------"
   ]
  },
  {
   "cell_type": "code",
   "execution_count": 66,
   "id": "12c32cc1",
   "metadata": {
    "colab": {
     "base_uri": "https://localhost:8080/"
    },
    "id": "12c32cc1",
    "outputId": "29bcc741-4463-4cf9-806c-74a1724bcfa2"
   },
   "outputs": [
    {
     "name": "stdout",
     "output_type": "stream",
     "text": [
      "Northeastern University\n"
     ]
    }
   ],
   "source": [
    "def my_function(a,b):\n",
    "    print(str(a) + ' ' + str(b))\n",
    "\n",
    "# --- Added the code here ---\n",
    "my_function(b='University', a='Northeastern')\n",
    "# ---------------------------"
   ]
  },
  {
   "cell_type": "markdown",
   "id": "ce561c15",
   "metadata": {
    "id": "ce561c15"
   },
   "source": [
    "#### Exercise 25 Arbitrary Keyword Arguments, **kwargs"
   ]
  },
  {
   "cell_type": "code",
   "execution_count": 68,
   "id": "88a4006e",
   "metadata": {
    "colab": {
     "base_uri": "https://localhost:8080/"
    },
    "id": "88a4006e",
    "outputId": "1c62e1e6-81d6-41ec-e389-e4114cf17de5"
   },
   "outputs": [
    {
     "name": "stdout",
     "output_type": "stream",
     "text": [
      "His last name is Sky\n"
     ]
    }
   ],
   "source": [
    "# --- Added the code here ---\n",
    "def my_function(**kid):\n",
    "    print(\"His last name is \" + kid[\"lname\"])\n",
    "# ---------------------------\n",
    "\n",
    "my_function(fname = \"Tobias\", lname = \"Sky\")"
   ]
  },
  {
   "cell_type": "markdown",
   "id": "8b010244",
   "metadata": {
    "id": "8b010244"
   },
   "source": [
    "#### Exercise 26 Default Parameter Value"
   ]
  },
  {
   "cell_type": "code",
   "execution_count": 69,
   "id": "0bad9a3c",
   "metadata": {
    "colab": {
     "base_uri": "https://localhost:8080/"
    },
    "id": "0bad9a3c",
    "outputId": "4168bfd4-a1df-432f-ce97-2fa4cee25457"
   },
   "outputs": [
    {
     "name": "stdout",
     "output_type": "stream",
     "text": [
      "Northeastern university\n",
      "Northeastern Boston\n"
     ]
    }
   ],
   "source": [
    "# Default parameter:\n",
    "\n",
    "# --- Added the code here ---\n",
    "def my_function(a, b = \"university\"):\n",
    "# ---------------------------  \n",
    "    print(str(a) + ' ' + str(b))\n",
    "\n",
    "my_function('Northeastern')\n",
    "my_function('Northeastern', 'Boston')"
   ]
  },
  {
   "cell_type": "code",
   "execution_count": 71,
   "id": "9d4bf962",
   "metadata": {
    "colab": {
     "base_uri": "https://localhost:8080/"
    },
    "id": "9d4bf962",
    "outputId": "ed1e95af-9286-48ad-de7c-f8b0aae43923"
   },
   "outputs": [
    {
     "name": "stdout",
     "output_type": "stream",
     "text": [
      "I am from Sweden\n",
      "I am from India\n",
      "I am from UAE\n",
      "I am from Brazil\n"
     ]
    }
   ],
   "source": [
    "# --- Added the code here ---\n",
    "def my_function(country = \"\"):\n",
    "# ---------------------------    \n",
    "    print(\"I am from \" + country)\n",
    "\n",
    "my_function(\"Sweden\")\n",
    "my_function(\"India\")\n",
    "my_function(\"UAE\")\n",
    "my_function(\"Brazil\")"
   ]
  },
  {
   "cell_type": "markdown",
   "id": "b18c0caa",
   "metadata": {
    "id": "b18c0caa"
   },
   "source": [
    "#### Exercise 27 Passing a List as an Argument"
   ]
  },
  {
   "cell_type": "code",
   "execution_count": 72,
   "id": "5130672a",
   "metadata": {
    "colab": {
     "base_uri": "https://localhost:8080/"
    },
    "id": "5130672a",
    "outputId": "c824a71b-5c27-43b8-ca14-a32c6056c7ff"
   },
   "outputs": [
    {
     "name": "stdout",
     "output_type": "stream",
     "text": [
      "Burger\n",
      "Pizza\n",
      "Pasta\n"
     ]
    }
   ],
   "source": [
    "def my_function(food):\n",
    "    for x in food:\n",
    "        print(x)\n",
    "\n",
    "# --- Added the code here ---\n",
    "fruits = [\"Burger\", \"Pizza\", \"Pasta\"]\n",
    "# ---------------------------\n",
    "\n",
    "my_function(fruits)"
   ]
  },
  {
   "cell_type": "markdown",
   "id": "2916d466",
   "metadata": {
    "id": "2916d466"
   },
   "source": [
    "#### Exercise 28 Return Values"
   ]
  },
  {
   "cell_type": "code",
   "execution_count": 75,
   "id": "1a0ef3f1",
   "metadata": {
    "colab": {
     "base_uri": "https://localhost:8080/"
    },
    "id": "1a0ef3f1",
    "outputId": "9e2417e9-ca6d-474c-8d7f-d6db3ad38c71"
   },
   "outputs": [
    {
     "name": "stdout",
     "output_type": "stream",
     "text": [
      "15\n",
      "25\n",
      "45\n"
     ]
    }
   ],
   "source": [
    "def my_function(x):\n",
    "    # --- Added the code here ---\n",
    "    return 5 * x\n",
    "    # ---------------------------\n",
    "\n",
    "print(my_function(3))\n",
    "print(my_function(5))\n",
    "print(my_function(9))"
   ]
  },
  {
   "cell_type": "code",
   "execution_count": 73,
   "id": "ed78472b",
   "metadata": {
    "colab": {
     "base_uri": "https://localhost:8080/"
    },
    "id": "ed78472b",
    "outputId": "c5c103f3-0e79-45e1-d75e-bda900545d03"
   },
   "outputs": [
    {
     "data": {
      "text/plain": [
       "3"
      ]
     },
     "execution_count": 73,
     "metadata": {},
     "output_type": "execute_result"
    }
   ],
   "source": [
    "def add(a,b):\n",
    "    y = a + b\n",
    "    return y\n",
    "\n",
    "add(1,2)"
   ]
  },
  {
   "cell_type": "code",
   "execution_count": 76,
   "id": "7da2da15",
   "metadata": {
    "colab": {
     "base_uri": "https://localhost:8080/"
    },
    "id": "7da2da15",
    "outputId": "cd796129-6ea2-477d-9081-8363a61f95f9"
   },
   "outputs": [
    {
     "name": "stdout",
     "output_type": "stream",
     "text": [
      "[10, 11, 12, 13, 14, 15, 16, 17, 18, 19, 20, 21, 22, 23, 24, 25, 26, 27, 28, 29, 30, 31, 32, 33, 34, 35, 36, 37, 38, 39, 40]\n"
     ]
    }
   ],
   "source": [
    "# Return a list\n",
    "def vector(a,b):\n",
    "    y=list(range(a,(b+1)))\n",
    "    return y\n",
    "\n",
    "z = vector(10,40)\n",
    "print(z)"
   ]
  },
  {
   "cell_type": "code",
   "execution_count": 77,
   "id": "681baaea",
   "metadata": {
    "colab": {
     "base_uri": "https://localhost:8080/"
    },
    "id": "681baaea",
    "outputId": "eaecd4ae-7664-4180-eeda-d48c471140f7"
   },
   "outputs": [
    {
     "name": "stdout",
     "output_type": "stream",
     "text": [
      "{'University': 'NEU', 'City': 'Boston'}\n"
     ]
    }
   ],
   "source": [
    "# Return a dictionary\n",
    "def dictionary(a,b):\n",
    "    y={'University':a,'City':b}\n",
    "    return y\n",
    "\n",
    "z=dictionary('NEU','Boston')\n",
    "print(z)"
   ]
  },
  {
   "cell_type": "markdown",
   "id": "257f5758",
   "metadata": {
    "id": "257f5758"
   },
   "source": [
    "#### Exercise 29 The pass Statement"
   ]
  },
  {
   "cell_type": "code",
   "execution_count": 78,
   "id": "3c1cd70d",
   "metadata": {
    "id": "3c1cd70d"
   },
   "outputs": [],
   "source": [
    "def myfunction():\n",
    "    pass\n",
    "\n",
    "myfunction()\n",
    "\n",
    "# cannot be empty"
   ]
  },
  {
   "cell_type": "markdown",
   "id": "060205df",
   "metadata": {
    "id": "060205df"
   },
   "source": [
    "### Python Lambda"
   ]
  },
  {
   "cell_type": "markdown",
   "id": "816f63ec",
   "metadata": {
    "id": "816f63ec"
   },
   "source": [
    "#### Syntax - lambda arguments : expression"
   ]
  },
  {
   "cell_type": "markdown",
   "id": "c70f8717",
   "metadata": {
    "id": "c70f8717"
   },
   "source": [
    "#### Exercise 30 Creating the Lambda functions"
   ]
  },
  {
   "cell_type": "code",
   "execution_count": 79,
   "id": "404a3ab5",
   "metadata": {
    "colab": {
     "base_uri": "https://localhost:8080/"
    },
    "id": "404a3ab5",
    "outputId": "d1aba75c-ea9f-4bc7-b062-b9a78471b23a"
   },
   "outputs": [
    {
     "name": "stdout",
     "output_type": "stream",
     "text": [
      "15\n",
      "17\n",
      "19\n"
     ]
    }
   ],
   "source": [
    "# --- Added the code here ---\n",
    "x = lambda a : a + 10\n",
    "# ---------------------------\n",
    "# any number of arguments \n",
    "print(x(5))\n",
    "print(x(7))\n",
    "print(x(9))"
   ]
  },
  {
   "cell_type": "code",
   "execution_count": 81,
   "id": "16fdb268",
   "metadata": {
    "colab": {
     "base_uri": "https://localhost:8080/"
    },
    "id": "16fdb268",
    "outputId": "95c291ec-79e3-479b-e75b-6260f2b105c8"
   },
   "outputs": [
    {
     "name": "stdout",
     "output_type": "stream",
     "text": [
      "11\n",
      "12\n",
      "7\n"
     ]
    }
   ],
   "source": [
    "# --- Added the code here ---\n",
    "x = lambda a, b : a + b\n",
    "# ---------------------------\n",
    "\n",
    "print(x(5, 6))\n",
    "print(x(7, 5))\n",
    "print(x(3, 4))"
   ]
  },
  {
   "cell_type": "code",
   "execution_count": 83,
   "id": "8410258e",
   "metadata": {
    "colab": {
     "base_uri": "https://localhost:8080/"
    },
    "id": "8410258e",
    "outputId": "1af0ca88-218b-489d-c120-c13c891bcca2"
   },
   "outputs": [
    {
     "name": "stdout",
     "output_type": "stream",
     "text": [
      "13\n",
      "6\n",
      "9\n"
     ]
    }
   ],
   "source": [
    "# --- Added the code here ---\n",
    "x = lambda a, b, c : a + b + c\n",
    "# ---------------------------\n",
    "\n",
    "print(x(5, 6, 2))\n",
    "print(x(1, 2, 3))\n",
    "print(x(3, 3, 3))"
   ]
  },
  {
   "cell_type": "markdown",
   "id": "ac1dc40e",
   "metadata": {
    "id": "ac1dc40e"
   },
   "source": [
    "### Python NumPy"
   ]
  },
  {
   "cell_type": "markdown",
   "id": "7e274ca1",
   "metadata": {
    "id": "7e274ca1"
   },
   "source": [
    "#### Exercise 31 NumPy Getting Started"
   ]
  },
  {
   "cell_type": "markdown",
   "id": "d43e0553",
   "metadata": {
    "id": "d43e0553"
   },
   "source": [
    "#### Installation of NumPy"
   ]
  },
  {
   "cell_type": "code",
   "execution_count": 84,
   "id": "fa118cd5",
   "metadata": {
    "colab": {
     "base_uri": "https://localhost:8080/"
    },
    "id": "fa118cd5",
    "outputId": "6135a4d1-578c-4df1-f93a-e50925a902da"
   },
   "outputs": [],
   "source": [
    "#!pip install numpy"
   ]
  },
  {
   "cell_type": "markdown",
   "id": "e8b25421",
   "metadata": {
    "id": "e8b25421"
   },
   "source": [
    "#### Import NumPy"
   ]
  },
  {
   "cell_type": "code",
   "execution_count": 85,
   "id": "cc10003c",
   "metadata": {
    "id": "cc10003c"
   },
   "outputs": [],
   "source": [
    "import numpy as np"
   ]
  },
  {
   "cell_type": "markdown",
   "id": "53882d08",
   "metadata": {
    "id": "53882d08"
   },
   "source": [
    "#### Checking NumPy Version"
   ]
  },
  {
   "cell_type": "code",
   "execution_count": 86,
   "id": "d8f48a6c",
   "metadata": {
    "colab": {
     "base_uri": "https://localhost:8080/"
    },
    "id": "d8f48a6c",
    "outputId": "1cdbc604-041a-425e-d273-6879d6e71d46"
   },
   "outputs": [
    {
     "name": "stdout",
     "output_type": "stream",
     "text": [
      "1.24.3\n"
     ]
    }
   ],
   "source": [
    "import numpy as np\n",
    "\n",
    "print(np.__version__)"
   ]
  },
  {
   "cell_type": "markdown",
   "id": "955a793e",
   "metadata": {
    "id": "955a793e"
   },
   "source": [
    "#### Exercise 32 Creating a NumPy Array"
   ]
  },
  {
   "cell_type": "code",
   "execution_count": 88,
   "id": "50019a26",
   "metadata": {
    "colab": {
     "base_uri": "https://localhost:8080/"
    },
    "id": "50019a26",
    "outputId": "9fe036b2-962a-40d2-9fd9-908cc7241451"
   },
   "outputs": [
    {
     "name": "stdout",
     "output_type": "stream",
     "text": [
      "[1 2 3 4 5]\n",
      "<class 'numpy.ndarray'>\n"
     ]
    }
   ],
   "source": [
    "import numpy as np\n",
    "\n",
    "# --- Added the code here ---\n",
    "arr = np.array([1, 2, 3, 4, 5])\n",
    "# ---------------------------\n",
    "\n",
    "print(arr)\n",
    "\n",
    "print(type(arr))"
   ]
  },
  {
   "cell_type": "code",
   "execution_count": 89,
   "id": "06bf4346",
   "metadata": {
    "colab": {
     "base_uri": "https://localhost:8080/"
    },
    "id": "06bf4346",
    "outputId": "f2ad8673-5ab1-478b-965e-feac12c87ab8"
   },
   "outputs": [
    {
     "name": "stdout",
     "output_type": "stream",
     "text": [
      "[1 2 3 4 5]\n"
     ]
    }
   ],
   "source": [
    "import numpy as np\n",
    "\n",
    "# --- Added the code here ---\n",
    "arr = np.array([1, 2, 3, 4, 5])\n",
    "# ---------------------------\n",
    "\n",
    "print(arr)"
   ]
  },
  {
   "cell_type": "markdown",
   "id": "7f149fff",
   "metadata": {
    "id": "7f149fff"
   },
   "source": [
    "#### Dimensions in Arrays"
   ]
  },
  {
   "cell_type": "markdown",
   "id": "0cad8c1c",
   "metadata": {
    "id": "0cad8c1c"
   },
   "source": [
    "#### 0-D Arrays"
   ]
  },
  {
   "cell_type": "code",
   "execution_count": 91,
   "id": "6a0ea1c9",
   "metadata": {
    "colab": {
     "base_uri": "https://localhost:8080/"
    },
    "id": "6a0ea1c9",
    "outputId": "66b999e2-2c35-444d-eb86-fa9f78fce98d"
   },
   "outputs": [
    {
     "name": "stdout",
     "output_type": "stream",
     "text": [
      "42\n"
     ]
    }
   ],
   "source": [
    "import numpy as np\n",
    "\n",
    "arr = np.array(42)\n",
    "\n",
    "print(arr)"
   ]
  },
  {
   "cell_type": "markdown",
   "id": "c3ac4b69",
   "metadata": {
    "id": "c3ac4b69"
   },
   "source": [
    "#### 1-D Arrays"
   ]
  },
  {
   "cell_type": "code",
   "execution_count": 93,
   "id": "bb81b1a0",
   "metadata": {
    "colab": {
     "base_uri": "https://localhost:8080/"
    },
    "id": "bb81b1a0",
    "outputId": "85bd2b89-b288-407c-c9bd-ee48e7797529"
   },
   "outputs": [
    {
     "name": "stdout",
     "output_type": "stream",
     "text": [
      "[1 2 3 4 5]\n"
     ]
    }
   ],
   "source": [
    "import numpy as np\n",
    "\n",
    "# --- Added the code here ---\n",
    "arr = np.array([1, 2, 3, 4, 5])\n",
    "# ---------------------------\n",
    "\n",
    "print(arr)"
   ]
  },
  {
   "cell_type": "markdown",
   "id": "16e2dbb1",
   "metadata": {
    "id": "16e2dbb1"
   },
   "source": [
    "#### 2-D Arrays"
   ]
  },
  {
   "cell_type": "code",
   "execution_count": 95,
   "id": "b7d89323",
   "metadata": {
    "colab": {
     "base_uri": "https://localhost:8080/"
    },
    "id": "b7d89323",
    "outputId": "e61be151-645a-4a7f-be19-9753fbd075cc"
   },
   "outputs": [
    {
     "name": "stdout",
     "output_type": "stream",
     "text": [
      "[[1 2 3]\n",
      " [4 5 6]]\n"
     ]
    }
   ],
   "source": [
    "import numpy as np\n",
    "\n",
    "# --- Added the code here ---\n",
    "arr = np.array([[1, 2, 3], [4, 5, 6]])\n",
    "# ---------------------------\n",
    "\n",
    "print(arr)"
   ]
  },
  {
   "cell_type": "markdown",
   "id": "711dd032",
   "metadata": {
    "id": "711dd032"
   },
   "source": [
    "#### 3-D arrays\n"
   ]
  },
  {
   "cell_type": "code",
   "execution_count": 97,
   "id": "33430414",
   "metadata": {
    "colab": {
     "base_uri": "https://localhost:8080/"
    },
    "id": "33430414",
    "outputId": "c2e3f096-eaea-4242-de9d-beb42c8ca02a"
   },
   "outputs": [
    {
     "name": "stdout",
     "output_type": "stream",
     "text": [
      "[[[1 2 3]\n",
      "  [4 5 6]\n",
      "  [1 2 3]\n",
      "  [4 5 6]]]\n"
     ]
    }
   ],
   "source": [
    "import numpy as np\n",
    "\n",
    "arr = np.array([[[1, 2, 3], [4, 5, 6], [1, 2, 3], [4, 5, 6]]])\n",
    "\n",
    "print(arr)"
   ]
  },
  {
   "cell_type": "markdown",
   "id": "d67f14ac",
   "metadata": {
    "id": "d67f14ac"
   },
   "source": [
    "#### Exercise 33 Check Number of Dimensions"
   ]
  },
  {
   "cell_type": "code",
   "execution_count": 99,
   "id": "e0ce9306",
   "metadata": {
    "colab": {
     "base_uri": "https://localhost:8080/"
    },
    "id": "e0ce9306",
    "outputId": "1f41452e-f8db-4a7e-c941-072668381b97"
   },
   "outputs": [
    {
     "name": "stdout",
     "output_type": "stream",
     "text": [
      "0\n",
      "1\n",
      "2\n",
      "3\n"
     ]
    }
   ],
   "source": [
    "import numpy as np\n",
    "\n",
    "a = np.array(42)\n",
    "b = np.array([1, 2, 3, 4, 5])\n",
    "c = np.array([[1, 2, 3], [4, 5, 6]])\n",
    "d = np.array([[[1, 2, 3], [4, 5, 6]], [[1, 2, 3], [4, 5, 6]]])\n",
    "\n",
    "# --- Added the code here ---\n",
    "print(a.ndim)\n",
    "print(b.ndim)\n",
    "print(c.ndim)\n",
    "print(d.ndim)\n",
    "# ---------------------------"
   ]
  },
  {
   "cell_type": "markdown",
   "id": "ccf24aa0",
   "metadata": {
    "id": "ccf24aa0"
   },
   "source": [
    "#### Exercise 34 Higher Dimensional Arrays"
   ]
  },
  {
   "cell_type": "code",
   "execution_count": 2,
   "id": "2ba76483",
   "metadata": {
    "colab": {
     "base_uri": "https://localhost:8080/"
    },
    "id": "2ba76483",
    "outputId": "c0341449-1976-4112-d539-0e607a62803a"
   },
   "outputs": [
    {
     "name": "stdout",
     "output_type": "stream",
     "text": [
      "[[[[[1 2 3 4]]]]]\n",
      "Number of dimensions : 5\n"
     ]
    }
   ],
   "source": [
    "import numpy as np\n",
    "\n",
    "# --- Added the code here ---\n",
    "arr = np.array([1, 2, 3, 4]).reshape(1, 1, 1, 1, 4)\n",
    "# ---------------------------\n",
    "\n",
    "print(arr)\n",
    "print('Number of dimensions :', arr.ndim)"
   ]
  },
  {
   "cell_type": "markdown",
   "id": "bfd05393",
   "metadata": {
    "id": "bfd05393"
   },
   "source": [
    "#### Exercise 35 Access Array Elements"
   ]
  },
  {
   "cell_type": "code",
   "execution_count": 7,
   "id": "22439690",
   "metadata": {
    "colab": {
     "base_uri": "https://localhost:8080/"
    },
    "id": "22439690",
    "outputId": "6114dd1b-d8b8-458e-c850-c65967e0da9b"
   },
   "outputs": [
    {
     "name": "stdout",
     "output_type": "stream",
     "text": [
      "1\n"
     ]
    }
   ],
   "source": [
    "import numpy as np\n",
    "\n",
    "arr = np.array([1, 2, 3, 4])\n",
    "\n",
    "# --- Added the code here ---\n",
    "print(arr[0])\n",
    "# ---------------------------"
   ]
  },
  {
   "cell_type": "code",
   "execution_count": 8,
   "id": "089b5772",
   "metadata": {
    "colab": {
     "base_uri": "https://localhost:8080/"
    },
    "id": "089b5772",
    "outputId": "8939e7f6-eda4-4066-b045-913ce829d3d4"
   },
   "outputs": [
    {
     "name": "stdout",
     "output_type": "stream",
     "text": [
      "2\n"
     ]
    }
   ],
   "source": [
    "import numpy as np\n",
    "\n",
    "arr = np.array([1, 2, 3, 4])\n",
    "\n",
    "# --- Added the code here ---\n",
    "print(arr[1])\n",
    "# ---------------------------"
   ]
  },
  {
   "cell_type": "code",
   "execution_count": 9,
   "id": "8c61c048",
   "metadata": {
    "colab": {
     "base_uri": "https://localhost:8080/"
    },
    "id": "8c61c048",
    "outputId": "812e60d7-7566-48e6-fecd-73822f27eaa5"
   },
   "outputs": [
    {
     "name": "stdout",
     "output_type": "stream",
     "text": [
      "7\n"
     ]
    }
   ],
   "source": [
    "import numpy as np\n",
    "\n",
    "arr = np.array([1, 2, 3, 4])\n",
    "\n",
    "# --- Added the code here ---\n",
    "print(arr[2] + arr[3])\n",
    "# ---------------------------"
   ]
  },
  {
   "cell_type": "markdown",
   "id": "447c840c",
   "metadata": {
    "id": "447c840c"
   },
   "source": [
    "#### Access 2-D Arrays\n"
   ]
  },
  {
   "cell_type": "code",
   "execution_count": 108,
   "id": "d24ff46d",
   "metadata": {
    "colab": {
     "base_uri": "https://localhost:8080/"
    },
    "id": "d24ff46d",
    "outputId": "614140ae-48b0-4b40-877b-97fd60a88b0c"
   },
   "outputs": [
    {
     "name": "stdout",
     "output_type": "stream",
     "text": [
      "[[ 1  2  3  4  5]\n",
      " [ 6  7  8  9 10]]\n",
      "2nd element on 1st row:  2\n"
     ]
    }
   ],
   "source": [
    "import numpy as np\n",
    "\n",
    "arr = np.array([[1,2,3,4,5], [6,7,8,9,10]])\n",
    "\n",
    "print(arr)\n",
    "\n",
    "# --- Added the code here ---\n",
    "print('2nd element on 1st row: ', arr[0,1])\n",
    "# ---------------------------"
   ]
  },
  {
   "cell_type": "code",
   "execution_count": 109,
   "id": "4d9bdb5b",
   "metadata": {
    "colab": {
     "base_uri": "https://localhost:8080/"
    },
    "id": "4d9bdb5b",
    "outputId": "ab60fa12-f91c-4254-d8a7-27f3dc7484cd"
   },
   "outputs": [
    {
     "name": "stdout",
     "output_type": "stream",
     "text": [
      "[[ 1  2  3  4  5]\n",
      " [ 6  7  8  9 10]]\n",
      "5th element on 2nd row:  10\n"
     ]
    }
   ],
   "source": [
    "import numpy as np\n",
    "\n",
    "arr = np.array([[1,2,3,4,5], [6,7,8,9,10]])\n",
    "\n",
    "print(arr)\n",
    "\n",
    "# --- Added the code here ---\n",
    "print('5th element on 2nd row: ', arr[1,4])\n",
    "# ---------------------------"
   ]
  },
  {
   "cell_type": "markdown",
   "id": "953c9e9d",
   "metadata": {
    "id": "953c9e9d"
   },
   "source": [
    "#### Access 3-D Arrays\n"
   ]
  },
  {
   "cell_type": "code",
   "execution_count": 110,
   "id": "4f543f99",
   "metadata": {
    "colab": {
     "base_uri": "https://localhost:8080/"
    },
    "id": "4f543f99",
    "outputId": "44818dc9-6680-4ddb-cf49-3f9612ee4b15"
   },
   "outputs": [
    {
     "name": "stdout",
     "output_type": "stream",
     "text": [
      "[[[ 1  2  3]\n",
      "  [ 4  5  6]]\n",
      "\n",
      " [[ 7  8  9]\n",
      "  [10 11 12]]]\n",
      "6\n"
     ]
    }
   ],
   "source": [
    "import numpy as np\n",
    "\n",
    "arr = np.array([[[1, 2, 3], [4, 5, 6]], [[7, 8, 9], [10, 11, 12]]])\n",
    "\n",
    "print(arr)\n",
    "\n",
    "# --- Added the code here ---\n",
    "print(arr[0,1,2])\n",
    "# ---------------------------"
   ]
  },
  {
   "cell_type": "markdown",
   "id": "da02e556",
   "metadata": {
    "id": "da02e556"
   },
   "source": [
    "#### Negative Indexing"
   ]
  },
  {
   "cell_type": "code",
   "execution_count": 111,
   "id": "8c0aa92b",
   "metadata": {
    "colab": {
     "base_uri": "https://localhost:8080/"
    },
    "id": "8c0aa92b",
    "outputId": "1cf1120a-3876-4b65-a81e-c7e3cb0a20af"
   },
   "outputs": [
    {
     "name": "stdout",
     "output_type": "stream",
     "text": [
      "Last element from 2nd dim:  10\n"
     ]
    }
   ],
   "source": [
    "import numpy as np\n",
    "\n",
    "arr = np.array([[1,2,3,4,5], [6,7,8,9,10]])\n",
    "\n",
    "# --- Added the code here ---\n",
    "print('Last element from 2nd dim: ', arr[1, -1])\n",
    "# ---------------------------"
   ]
  },
  {
   "cell_type": "markdown",
   "id": "57205d7d",
   "metadata": {
    "id": "57205d7d"
   },
   "source": [
    "#### Exercise 36 Slicing arrays"
   ]
  },
  {
   "cell_type": "code",
   "execution_count": 112,
   "id": "43632d4e",
   "metadata": {
    "colab": {
     "base_uri": "https://localhost:8080/"
    },
    "id": "43632d4e",
    "outputId": "58678c58-d7cf-4234-a805-f638ca8d69cc"
   },
   "outputs": [
    {
     "name": "stdout",
     "output_type": "stream",
     "text": [
      "[2 3 4 5]\n"
     ]
    }
   ],
   "source": [
    "import numpy as np\n",
    "\n",
    "arr = np.array([1, 2, 3, 4, 5, 6, 7])\n",
    "\n",
    "# --- Added the code here ---\n",
    "print(arr[1:5])\n",
    "# ---------------------------"
   ]
  },
  {
   "cell_type": "code",
   "execution_count": 113,
   "id": "b01e8522",
   "metadata": {
    "colab": {
     "base_uri": "https://localhost:8080/"
    },
    "id": "b01e8522",
    "outputId": "e29f7000-5f6f-4f97-957c-e7ab5bc43940"
   },
   "outputs": [
    {
     "name": "stdout",
     "output_type": "stream",
     "text": [
      "[5 6 7]\n"
     ]
    }
   ],
   "source": [
    "import numpy as np\n",
    "\n",
    "arr = np.array([1, 2, 3, 4, 5, 6, 7])\n",
    "\n",
    "# --- Added the code here ---\n",
    "print(arr[4:])\n",
    "# ---------------------------"
   ]
  },
  {
   "cell_type": "code",
   "execution_count": 114,
   "id": "a398e80c",
   "metadata": {
    "colab": {
     "base_uri": "https://localhost:8080/"
    },
    "id": "a398e80c",
    "outputId": "fadaadb5-fb94-4e86-ea35-a65452e92b20"
   },
   "outputs": [
    {
     "name": "stdout",
     "output_type": "stream",
     "text": [
      "[1 2 3 4]\n"
     ]
    }
   ],
   "source": [
    "import numpy as np\n",
    "\n",
    "arr = np.array([1, 2, 3, 4, 5, 6, 7])\n",
    "\n",
    "# --- Added the code here ---\n",
    "print(arr[:4])\n",
    "# ---------------------------"
   ]
  },
  {
   "cell_type": "markdown",
   "id": "d85a43a3",
   "metadata": {
    "id": "d85a43a3"
   },
   "source": [
    "#### Negative Slicing"
   ]
  },
  {
   "cell_type": "code",
   "execution_count": 116,
   "id": "4919b643",
   "metadata": {
    "colab": {
     "base_uri": "https://localhost:8080/"
    },
    "id": "4919b643",
    "outputId": "f2e5a0f2-82de-46d0-eaa0-89970e0cc6c7"
   },
   "outputs": [
    {
     "name": "stdout",
     "output_type": "stream",
     "text": [
      "[5 6]\n"
     ]
    }
   ],
   "source": [
    "import numpy as np\n",
    "\n",
    "arr = np.array([1, 2, 3, 4, 5, 6, 7])\n",
    "\n",
    "# --- Added the code here ---\n",
    "print(arr[-3:-1])\n",
    "# ---------------------------"
   ]
  },
  {
   "cell_type": "markdown",
   "id": "51178c76",
   "metadata": {
    "id": "51178c76"
   },
   "source": [
    "#### Exercise 37 Slicing 2-D Arrays"
   ]
  },
  {
   "cell_type": "code",
   "execution_count": 117,
   "id": "e8739fe4",
   "metadata": {
    "colab": {
     "base_uri": "https://localhost:8080/"
    },
    "id": "e8739fe4",
    "outputId": "fda59a07-5c0a-49b3-c4b6-803437c4f8ce"
   },
   "outputs": [
    {
     "name": "stdout",
     "output_type": "stream",
     "text": [
      "[7 8 9]\n"
     ]
    }
   ],
   "source": [
    "import numpy as np\n",
    "\n",
    "arr = np.array([[1, 2, 3, 4, 5], [6, 7, 8, 9, 10]])\n",
    "\n",
    "# --- Added the code here ---\n",
    "print(arr[1, 1:4])\n",
    "# ---------------------------"
   ]
  },
  {
   "cell_type": "code",
   "execution_count": 118,
   "id": "6aee228b",
   "metadata": {
    "colab": {
     "base_uri": "https://localhost:8080/"
    },
    "id": "6aee228b",
    "outputId": "00e29fa1-8f82-4346-f1fa-65fba35a8f45"
   },
   "outputs": [
    {
     "name": "stdout",
     "output_type": "stream",
     "text": [
      "[3 8]\n"
     ]
    }
   ],
   "source": [
    "import numpy as np\n",
    "\n",
    "arr = np.array([[1, 2, 3, 4, 5], [6, 7, 8, 9, 10]])\n",
    "\n",
    "# --- Added the code here ---\n",
    "print(arr[0:2, 2])\n",
    "# ---------------------------"
   ]
  },
  {
   "cell_type": "code",
   "execution_count": 119,
   "id": "4c747645",
   "metadata": {
    "colab": {
     "base_uri": "https://localhost:8080/"
    },
    "id": "4c747645",
    "outputId": "84a7d06a-6d8a-4efa-c195-df0a929200be"
   },
   "outputs": [
    {
     "name": "stdout",
     "output_type": "stream",
     "text": [
      "[[2 3 4]\n",
      " [7 8 9]]\n"
     ]
    }
   ],
   "source": [
    "import numpy as np\n",
    "\n",
    "arr = np.array([[1, 2, 3, 4, 5], [6, 7, 8, 9, 10]])\n",
    "\n",
    "# --- Added the code here ---\n",
    "print(arr[0:2, 1:4])\n",
    "# ---------------------------"
   ]
  },
  {
   "cell_type": "markdown",
   "id": "fe1c66bb",
   "metadata": {
    "id": "fe1c66bb"
   },
   "source": [
    "#### Exercise 38 Get the Shape of an Array"
   ]
  },
  {
   "cell_type": "code",
   "execution_count": 120,
   "id": "861312fb",
   "metadata": {
    "colab": {
     "base_uri": "https://localhost:8080/"
    },
    "id": "861312fb",
    "outputId": "329716b2-2bda-4fc4-dab7-77048797e054"
   },
   "outputs": [
    {
     "name": "stdout",
     "output_type": "stream",
     "text": [
      "[[1 2 3 4]\n",
      " [5 6 7 8]]\n"
     ]
    }
   ],
   "source": [
    "import numpy as np\n",
    "\n",
    "arr = np.array([[1, 2, 3, 4], [5, 6, 7, 8]])\n",
    "\n",
    "# --- Added the code here ---\n",
    "print(arr)\n",
    "# ---------------------------"
   ]
  },
  {
   "cell_type": "code",
   "execution_count": 121,
   "id": "770db6a7",
   "metadata": {
    "colab": {
     "base_uri": "https://localhost:8080/"
    },
    "id": "770db6a7",
    "outputId": "cfad3134-2ac4-49c4-f469-8dce1de4f7d8"
   },
   "outputs": [
    {
     "name": "stdout",
     "output_type": "stream",
     "text": [
      "[[[[[1 2 3 4]]]]]\n",
      "shape of array : (1, 1, 1, 1, 4)\n"
     ]
    }
   ],
   "source": [
    "import numpy as np\n",
    "\n",
    "arr = np.array([1, 2, 3, 4], ndmin=5)\n",
    "\n",
    "print(arr)\n",
    "print('shape of array :', arr.shape)"
   ]
  },
  {
   "cell_type": "markdown",
   "id": "a832ec82",
   "metadata": {
    "id": "a832ec82"
   },
   "source": [
    "#### Exercise 39 Reshaping arrays"
   ]
  },
  {
   "cell_type": "markdown",
   "id": "e367af49",
   "metadata": {
    "id": "e367af49"
   },
   "source": [
    "#### Reshape From 1-D to 2-D"
   ]
  },
  {
   "cell_type": "code",
   "execution_count": 122,
   "id": "d1c29414",
   "metadata": {
    "colab": {
     "base_uri": "https://localhost:8080/"
    },
    "id": "d1c29414",
    "outputId": "b0d8286d-40cc-4dd0-d0c8-ebba6c6db0b1"
   },
   "outputs": [
    {
     "name": "stdout",
     "output_type": "stream",
     "text": [
      "[[ 1  2  3]\n",
      " [ 4  5  6]\n",
      " [ 7  8  9]\n",
      " [10 11 12]]\n"
     ]
    }
   ],
   "source": [
    "import numpy as np\n",
    "\n",
    "arr = np.array([1, 2, 3, 4, 5, 6, 7, 8, 9, 10, 11, 12])\n",
    "\n",
    "# --- Added the code here ---\n",
    "newarr = arr.reshape(4, 3)\n",
    "# ---------------------------\n",
    "\n",
    "print(newarr)"
   ]
  },
  {
   "cell_type": "markdown",
   "id": "3e9c97ab",
   "metadata": {
    "id": "3e9c97ab"
   },
   "source": [
    "#### Reshape From 1-D to 3-D\n"
   ]
  },
  {
   "cell_type": "code",
   "execution_count": 123,
   "id": "abd33678",
   "metadata": {
    "colab": {
     "base_uri": "https://localhost:8080/"
    },
    "id": "abd33678",
    "outputId": "b5fb13b9-a29a-474b-853b-28e6bf10717a"
   },
   "outputs": [
    {
     "name": "stdout",
     "output_type": "stream",
     "text": [
      "[[[ 1  2]\n",
      "  [ 3  4]\n",
      "  [ 5  6]]\n",
      "\n",
      " [[ 7  8]\n",
      "  [ 9 10]\n",
      "  [11 12]]]\n"
     ]
    }
   ],
   "source": [
    "import numpy as np\n",
    "\n",
    "arr = np.array([1, 2, 3, 4, 5, 6, 7, 8, 9, 10, 11, 12])\n",
    "\n",
    "# --- Added the code here ---\n",
    "newarr = arr.reshape(2, 3, 2)\n",
    "# ---------------------------\n",
    "\n",
    "print(newarr)"
   ]
  },
  {
   "cell_type": "markdown",
   "id": "7e1cbb42",
   "metadata": {
    "id": "7e1cbb42"
   },
   "source": [
    "#### Exercise 40 Flattening the arrays"
   ]
  },
  {
   "cell_type": "code",
   "execution_count": 124,
   "id": "c495e101",
   "metadata": {
    "colab": {
     "base_uri": "https://localhost:8080/"
    },
    "id": "c495e101",
    "outputId": "d6b9feca-bc18-4566-95e8-1c42e6fb33d7"
   },
   "outputs": [
    {
     "name": "stdout",
     "output_type": "stream",
     "text": [
      "[1 2 3 4 5 6]\n"
     ]
    }
   ],
   "source": [
    "import numpy as np\n",
    "\n",
    "arr = np.array([[1, 2, 3], [4, 5, 6]])\n",
    "\n",
    "# --- Added the code here ---\n",
    "newarr = arr.reshape(-1)\n",
    "# ---------------------------\n",
    "\n",
    "print(newarr)"
   ]
  },
  {
   "cell_type": "markdown",
   "id": "2cb83037",
   "metadata": {
    "id": "2cb83037"
   },
   "source": [
    "#### Exercise 41 Joining NumPy Arrays"
   ]
  },
  {
   "cell_type": "code",
   "execution_count": 125,
   "id": "65ec4670",
   "metadata": {
    "colab": {
     "base_uri": "https://localhost:8080/"
    },
    "id": "65ec4670",
    "outputId": "4c642bb3-e603-4fc9-f4f8-5f1955b6ab5a"
   },
   "outputs": [
    {
     "name": "stdout",
     "output_type": "stream",
     "text": [
      "[1 2 3 4 5 6]\n"
     ]
    }
   ],
   "source": [
    "import numpy as np\n",
    "\n",
    "arr1 = np.array([1, 2, 3])\n",
    "\n",
    "arr2 = np.array([4, 5, 6])\n",
    "\n",
    "# --- Added the code here ---\n",
    "arr = np.concatenate((arr1, arr2))\n",
    "# ---------------------------\n",
    "\n",
    "print(arr)"
   ]
  },
  {
   "cell_type": "code",
   "execution_count": 126,
   "id": "ae1e2d06",
   "metadata": {
    "colab": {
     "base_uri": "https://localhost:8080/"
    },
    "id": "ae1e2d06",
    "outputId": "15c304e9-3de3-4dfb-84c9-20520c0e2916"
   },
   "outputs": [
    {
     "name": "stdout",
     "output_type": "stream",
     "text": [
      "[[1 2]\n",
      " [3 4]\n",
      " [5 6]\n",
      " [7 8]]\n"
     ]
    }
   ],
   "source": [
    "import numpy as np\n",
    "\n",
    "arr1 = np.array([[1, 2], [3, 4]])\n",
    "\n",
    "arr2 = np.array([[5, 6], [7, 8]])\n",
    "\n",
    "# --- Added the code here ---\n",
    "arr = np.concatenate((arr1, arr2))\n",
    "# ---------------------------\n",
    "\n",
    "print(arr)"
   ]
  },
  {
   "cell_type": "markdown",
   "id": "a8cf5420",
   "metadata": {
    "id": "a8cf5420"
   },
   "source": [
    "#### Exercise 42 Joining Arrays Using Stack Functions"
   ]
  },
  {
   "cell_type": "code",
   "execution_count": 127,
   "id": "06086096",
   "metadata": {
    "colab": {
     "base_uri": "https://localhost:8080/"
    },
    "id": "06086096",
    "outputId": "a38edce8-a448-49ca-af0c-5430c6461aa4"
   },
   "outputs": [
    {
     "name": "stdout",
     "output_type": "stream",
     "text": [
      "[[1 4]\n",
      " [2 5]\n",
      " [3 6]]\n"
     ]
    }
   ],
   "source": [
    "import numpy as np\n",
    "\n",
    "arr1 = np.array([1, 2, 3])\n",
    "\n",
    "arr2 = np.array([4, 5, 6])\n",
    "\n",
    "# --- Added the code here ---\n",
    "arr = np.stack((arr1, arr2), axis=1)\n",
    "# ---------------------------\n",
    "\n",
    "print(arr)"
   ]
  },
  {
   "cell_type": "markdown",
   "id": "ed7591dc",
   "metadata": {
    "id": "ed7591dc"
   },
   "source": [
    "#### Stacking Along Rows"
   ]
  },
  {
   "cell_type": "code",
   "execution_count": 132,
   "id": "b9826d7d",
   "metadata": {
    "colab": {
     "base_uri": "https://localhost:8080/"
    },
    "id": "b9826d7d",
    "outputId": "de5d6c1f-d5af-477c-bb97-a1c20565a398"
   },
   "outputs": [
    {
     "name": "stdout",
     "output_type": "stream",
     "text": [
      "[1 2 3 4 5 6]\n"
     ]
    }
   ],
   "source": [
    "import numpy as np\n",
    "\n",
    "arr1 = np.array([1, 2, 3])\n",
    "\n",
    "arr2 = np.array([4, 5, 6])\n",
    "\n",
    "# --- Added the code here ---\n",
    "arr = np.hstack((arr1, arr2))\n",
    "# ---------------------------\n",
    "\n",
    "print(arr)"
   ]
  },
  {
   "cell_type": "markdown",
   "id": "0c8d51c1",
   "metadata": {
    "id": "0c8d51c1"
   },
   "source": [
    "#### Stacking Along Columns\n"
   ]
  },
  {
   "cell_type": "code",
   "execution_count": 134,
   "id": "946f10e3",
   "metadata": {
    "colab": {
     "base_uri": "https://localhost:8080/"
    },
    "id": "946f10e3",
    "outputId": "b9137231-acc6-46bd-dcdb-49005cdda3c7"
   },
   "outputs": [
    {
     "name": "stdout",
     "output_type": "stream",
     "text": [
      "[[1 2 3]\n",
      " [4 5 6]]\n"
     ]
    }
   ],
   "source": [
    "import numpy as np\n",
    "\n",
    "arr1 = np.array([1, 2, 3])\n",
    "\n",
    "arr2 = np.array([4, 5, 6])\n",
    "\n",
    "# --- Added the code here ---\n",
    "arr = np.vstack((arr1, arr2))\n",
    "# ---------------------------\n",
    "\n",
    "print(arr)"
   ]
  },
  {
   "cell_type": "markdown",
   "id": "8564aeff",
   "metadata": {
    "id": "8564aeff"
   },
   "source": [
    "#### Stacking Along Height (depth)\n"
   ]
  },
  {
   "cell_type": "code",
   "execution_count": 135,
   "id": "afc9a374",
   "metadata": {
    "colab": {
     "base_uri": "https://localhost:8080/"
    },
    "id": "afc9a374",
    "outputId": "33ae0d16-bec1-4868-b888-3f2e8da6bdc8"
   },
   "outputs": [
    {
     "name": "stdout",
     "output_type": "stream",
     "text": [
      "[[[1 4]\n",
      "  [2 5]\n",
      "  [3 6]]]\n"
     ]
    }
   ],
   "source": [
    "import numpy as np\n",
    "\n",
    "arr1 = np.array([1, 2, 3])\n",
    "\n",
    "arr2 = np.array([4, 5, 6])\n",
    "\n",
    "# --- Added the code here ---\n",
    "arr = np.dstack((arr1, arr2))\n",
    "# ---------------------------\n",
    "\n",
    "print(arr)"
   ]
  },
  {
   "cell_type": "markdown",
   "id": "55af4bd7",
   "metadata": {
    "id": "55af4bd7"
   },
   "source": [
    "#### Exercise 43 Splitting NumPy Arrays"
   ]
  },
  {
   "cell_type": "code",
   "execution_count": 136,
   "id": "b9008750",
   "metadata": {
    "colab": {
     "base_uri": "https://localhost:8080/"
    },
    "id": "b9008750",
    "outputId": "bfab2271-3bff-4264-c721-f344f832190d"
   },
   "outputs": [
    {
     "name": "stdout",
     "output_type": "stream",
     "text": [
      "[array([1, 2]), array([3, 4]), array([5, 6])]\n"
     ]
    }
   ],
   "source": [
    "import numpy as np\n",
    "\n",
    "arr = np.array([1, 2, 3, 4, 5, 6])\n",
    "\n",
    "# --- Added the code here ---\n",
    "newarr = np.array_split(arr, 3)\n",
    "# ---------------------------\n",
    "\n",
    "print(newarr)"
   ]
  },
  {
   "cell_type": "code",
   "execution_count": 137,
   "id": "4e53a3a9",
   "metadata": {
    "colab": {
     "base_uri": "https://localhost:8080/"
    },
    "id": "4e53a3a9",
    "outputId": "f59e55d7-b551-4276-8d77-709a6102fe96"
   },
   "outputs": [
    {
     "name": "stdout",
     "output_type": "stream",
     "text": [
      "[array([1, 2]), array([3, 4]), array([5]), array([6])]\n"
     ]
    }
   ],
   "source": [
    "import numpy as np\n",
    "\n",
    "arr = np.array([1, 2, 3, 4, 5, 6])\n",
    "\n",
    "# --- Added the code here ---\n",
    "newarr = np.array_split(arr, 4)\n",
    "# ---------------------------\n",
    "\n",
    "print(newarr)"
   ]
  },
  {
   "cell_type": "markdown",
   "id": "13196fa5",
   "metadata": {
    "id": "13196fa5"
   },
   "source": [
    "#### Exercise 44 Creating the NumPy zeros"
   ]
  },
  {
   "cell_type": "markdown",
   "id": "d7f8a8bc",
   "metadata": {
    "id": "d7f8a8bc"
   },
   "source": [
    "#### 1-dimensional array using zeros"
   ]
  },
  {
   "cell_type": "code",
   "execution_count": 138,
   "id": "684bc8e7",
   "metadata": {
    "colab": {
     "base_uri": "https://localhost:8080/"
    },
    "id": "684bc8e7",
    "outputId": "2e6d3442-d51a-47c6-f1a5-0f340b67c60f"
   },
   "outputs": [
    {
     "name": "stdout",
     "output_type": "stream",
     "text": [
      "[0. 0. 0. 0.]\n"
     ]
    }
   ],
   "source": [
    "import numpy as np\n",
    "\n",
    "# --- Added the code here ---\n",
    "one_dim_array = np.zeros(4)\n",
    "# ---------------------------\n",
    "\n",
    "print(one_dim_array)"
   ]
  },
  {
   "cell_type": "markdown",
   "id": "b28f0157",
   "metadata": {
    "id": "b28f0157"
   },
   "source": [
    "#### 2-dimensional array using zeros\n",
    "#### N x M array"
   ]
  },
  {
   "cell_type": "code",
   "execution_count": 139,
   "id": "372f42d0",
   "metadata": {
    "colab": {
     "base_uri": "https://localhost:8080/"
    },
    "id": "372f42d0",
    "outputId": "6bd903c7-9937-4685-ff67-48203bd76628"
   },
   "outputs": [
    {
     "name": "stdout",
     "output_type": "stream",
     "text": [
      "[[0. 0. 0.]\n",
      " [0. 0. 0.]]\n"
     ]
    }
   ],
   "source": [
    "import numpy as np\n",
    "\n",
    "two_dim_array = np.zeros((2, 3))\n",
    "print(two_dim_array)"
   ]
  },
  {
   "cell_type": "markdown",
   "id": "98a8ad1f",
   "metadata": {
    "id": "98a8ad1f"
   },
   "source": [
    "#### 1 x N array"
   ]
  },
  {
   "cell_type": "code",
   "execution_count": 140,
   "id": "d9c46d64",
   "metadata": {
    "colab": {
     "base_uri": "https://localhost:8080/"
    },
    "id": "d9c46d64",
    "outputId": "e20f0048-a194-4214-9706-0c2594b19a0f"
   },
   "outputs": [
    {
     "name": "stdout",
     "output_type": "stream",
     "text": [
      "[[0. 0. 0. 0.]]\n"
     ]
    }
   ],
   "source": [
    "import numpy as np\n",
    "\n",
    "one_row_array = np.zeros((1, 4))\n",
    "print(one_row_array)"
   ]
  },
  {
   "cell_type": "markdown",
   "id": "be679890",
   "metadata": {
    "id": "be679890"
   },
   "source": [
    "#### N x 1 array"
   ]
  },
  {
   "cell_type": "code",
   "execution_count": 141,
   "id": "938f2996",
   "metadata": {
    "colab": {
     "base_uri": "https://localhost:8080/"
    },
    "id": "938f2996",
    "outputId": "ca2ff8a9-653e-4174-9e2d-f8aaf208bc48"
   },
   "outputs": [
    {
     "name": "stdout",
     "output_type": "stream",
     "text": [
      "[[0.]\n",
      " [0.]\n",
      " [0.]\n",
      " [0.]]\n"
     ]
    }
   ],
   "source": [
    "import numpy as np\n",
    "\n",
    "one_col_array = np.zeros((4, 1))\n",
    "print(one_col_array)"
   ]
  },
  {
   "cell_type": "markdown",
   "id": "c95633f5",
   "metadata": {
    "id": "c95633f5"
   },
   "source": [
    "#### 1-dimensional int-type array"
   ]
  },
  {
   "cell_type": "code",
   "execution_count": 142,
   "id": "952f6cf6",
   "metadata": {
    "colab": {
     "base_uri": "https://localhost:8080/"
    },
    "id": "952f6cf6",
    "outputId": "484dd008-2faa-4850-f5d6-3531fb135cbb"
   },
   "outputs": [
    {
     "name": "stdout",
     "output_type": "stream",
     "text": [
      "[0 0 0]\n"
     ]
    }
   ],
   "source": [
    "import numpy as np\n",
    "\n",
    "one_dim_int_array = np.zeros(3, dtype=np.int64)\n",
    "print(one_dim_int_array)"
   ]
  },
  {
   "cell_type": "markdown",
   "id": "b8ac9690",
   "metadata": {
    "id": "b8ac9690"
   },
   "source": [
    "#### 2-dimensional int-type array"
   ]
  },
  {
   "cell_type": "code",
   "execution_count": 143,
   "id": "f8a0c17d",
   "metadata": {
    "colab": {
     "base_uri": "https://localhost:8080/"
    },
    "id": "f8a0c17d",
    "outputId": "4c926468-654e-452e-c308-dc7128b007e5"
   },
   "outputs": [
    {
     "name": "stdout",
     "output_type": "stream",
     "text": [
      "[[0 0 0 0]\n",
      " [0 0 0 0]]\n"
     ]
    }
   ],
   "source": [
    "import numpy as np\n",
    "\n",
    "two_dim_int_array = np.zeros((2, 4), dtype=np.int64)\n",
    "print(two_dim_int_array)"
   ]
  },
  {
   "cell_type": "markdown",
   "id": "dc471a5c",
   "metadata": {
    "id": "dc471a5c"
   },
   "source": [
    "#### Exercise 45 Creating the NumPy ones"
   ]
  },
  {
   "cell_type": "markdown",
   "id": "73cd68a5",
   "metadata": {
    "id": "73cd68a5"
   },
   "source": [
    "#### 1-dimensional array using ones"
   ]
  },
  {
   "cell_type": "code",
   "execution_count": 145,
   "id": "ae5f02e5",
   "metadata": {
    "colab": {
     "base_uri": "https://localhost:8080/"
    },
    "id": "ae5f02e5",
    "outputId": "600672b1-1235-4201-c748-5dddbc42cbc6"
   },
   "outputs": [
    {
     "name": "stdout",
     "output_type": "stream",
     "text": [
      "[1. 1. 1. 1.]\n"
     ]
    }
   ],
   "source": [
    "import numpy as np\n",
    "\n",
    "# --- Added the code here ---\n",
    "one_dim_array = np.ones(4)\n",
    "# ---------------------------\n",
    "\n",
    "print(one_dim_array)"
   ]
  },
  {
   "cell_type": "markdown",
   "id": "94561628",
   "metadata": {
    "id": "94561628"
   },
   "source": [
    "#### 2-dimensional array using ones"
   ]
  },
  {
   "cell_type": "code",
   "execution_count": 146,
   "id": "15ccc29c",
   "metadata": {
    "colab": {
     "base_uri": "https://localhost:8080/"
    },
    "id": "15ccc29c",
    "outputId": "09c0caa5-24a2-4d28-d291-0019f073fbc7"
   },
   "outputs": [
    {
     "name": "stdout",
     "output_type": "stream",
     "text": [
      "[[1. 1.]\n",
      " [1. 1.]\n",
      " [1. 1.]\n",
      " [1. 1.]]\n"
     ]
    }
   ],
   "source": [
    "import numpy as np\n",
    "\n",
    "two_dim_array = np.ones((4, 2))\n",
    "print(two_dim_array)"
   ]
  },
  {
   "cell_type": "markdown",
   "id": "651592ee",
   "metadata": {
    "id": "651592ee"
   },
   "source": [
    "#### Exercise 46 NumPy arange function"
   ]
  },
  {
   "cell_type": "code",
   "execution_count": 148,
   "id": "80050f14",
   "metadata": {
    "colab": {
     "base_uri": "https://localhost:8080/"
    },
    "id": "80050f14",
    "outputId": "6ce7ba33-2f2d-40df-e104-76b7b6a2da05"
   },
   "outputs": [
    {
     "data": {
      "text/plain": [
       "array([1, 4, 7])"
      ]
     },
     "execution_count": 148,
     "metadata": {},
     "output_type": "execute_result"
    }
   ],
   "source": [
    "# --- Added the code here ---\n",
    "np.arange(start=1, stop=10, step=3)\n",
    "# ---------------------------"
   ]
  },
  {
   "cell_type": "markdown",
   "id": "4fec85e8",
   "metadata": {
    "id": "4fec85e8"
   },
   "source": [
    "#### Exercise 47 NumPy linspace function"
   ]
  },
  {
   "cell_type": "code",
   "execution_count": 149,
   "id": "0e387dbe",
   "metadata": {
    "colab": {
     "base_uri": "https://localhost:8080/"
    },
    "id": "0e387dbe",
    "outputId": "a0998dd4-fc44-42fb-ecc1-eca349304af8"
   },
   "outputs": [
    {
     "data": {
      "text/plain": [
       "array([3.        , 3.16666667, 3.33333333, 3.5       , 3.66666667,\n",
       "       3.83333333, 4.        ])"
      ]
     },
     "execution_count": 149,
     "metadata": {},
     "output_type": "execute_result"
    }
   ],
   "source": [
    "import numpy as np\n",
    "\n",
    "# --- Added the code here ---\n",
    "np.linspace(3.0, 4.0, num=7)\n",
    "# ---------------------------"
   ]
  },
  {
   "cell_type": "code",
   "execution_count": 150,
   "id": "e3dc24ac",
   "metadata": {
    "colab": {
     "base_uri": "https://localhost:8080/"
    },
    "id": "e3dc24ac",
    "outputId": "a20bdef1-6bac-4c54-b864-ca558483e714"
   },
   "outputs": [
    {
     "data": {
      "text/plain": [
       "array([3.        , 3.14285714, 3.28571429, 3.42857143, 3.57142857,\n",
       "       3.71428571, 3.85714286])"
      ]
     },
     "execution_count": 150,
     "metadata": {},
     "output_type": "execute_result"
    }
   ],
   "source": [
    "# --- Added the code here ---\n",
    "np.linspace(3.0,4.0, num=7, endpoint=False)\n",
    "# ---------------------------"
   ]
  },
  {
   "cell_type": "code",
   "execution_count": 151,
   "id": "78bfe54b",
   "metadata": {
    "colab": {
     "base_uri": "https://localhost:8080/"
    },
    "id": "78bfe54b",
    "outputId": "5ae54b6f-406a-4ac1-c922-d471872c1053"
   },
   "outputs": [
    {
     "data": {
      "text/plain": [
       "(array([3.        , 3.16666667, 3.33333333, 3.5       , 3.66666667,\n",
       "        3.83333333, 4.        ]),\n",
       " 0.16666666666666666)"
      ]
     },
     "execution_count": 151,
     "metadata": {},
     "output_type": "execute_result"
    }
   ],
   "source": [
    "# --- Added the code here ---\n",
    "np.linspace(3.0,4.0, num=7, retstep=True)\n",
    "# ---------------------------"
   ]
  },
  {
   "cell_type": "markdown",
   "id": "80a33a7b",
   "metadata": {
    "id": "80a33a7b"
   },
   "source": [
    "#### Exercise 48 NumPy eye function"
   ]
  },
  {
   "cell_type": "code",
   "execution_count": 152,
   "id": "ada8a6c0",
   "metadata": {
    "colab": {
     "base_uri": "https://localhost:8080/"
    },
    "id": "ada8a6c0",
    "outputId": "7b508180-37f0-4f6d-c12f-855f12df3e98"
   },
   "outputs": [
    {
     "data": {
      "text/plain": [
       "array([[1., 0., 0., 0., 0., 0.],\n",
       "       [0., 1., 0., 0., 0., 0.],\n",
       "       [0., 0., 1., 0., 0., 0.],\n",
       "       [0., 0., 0., 1., 0., 0.],\n",
       "       [0., 0., 0., 0., 1., 0.],\n",
       "       [0., 0., 0., 0., 0., 1.]])"
      ]
     },
     "execution_count": 152,
     "metadata": {},
     "output_type": "execute_result"
    }
   ],
   "source": [
    "# Identity matrix\n",
    "\n",
    "# --- Added the code here ---\n",
    "np.eye(6)\n",
    "# ---------------------------"
   ]
  },
  {
   "cell_type": "markdown",
   "id": "1aeae700",
   "metadata": {
    "id": "1aeae700"
   },
   "source": [
    "-----"
   ]
  },
  {
   "cell_type": "markdown",
   "id": "c0b97df9",
   "metadata": {
    "id": "c0b97df9"
   },
   "source": [
    "#### Revised Date: July 18, 2024"
   ]
  }
 ],
 "metadata": {
  "colab": {
   "provenance": []
  },
  "kernelspec": {
   "display_name": "Python 3 (ipykernel)",
   "language": "python",
   "name": "python3"
  },
  "language_info": {
   "codemirror_mode": {
    "name": "ipython",
    "version": 3
   },
   "file_extension": ".py",
   "mimetype": "text/x-python",
   "name": "python",
   "nbconvert_exporter": "python",
   "pygments_lexer": "ipython3",
   "version": "3.11.5"
  }
 },
 "nbformat": 4,
 "nbformat_minor": 5
}
