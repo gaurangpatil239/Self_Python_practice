{
 "cells": [
  {
   "cell_type": "markdown",
   "id": "a2233f2f",
   "metadata": {
    "id": "a2233f2f"
   },
   "source": [
    "#### Exercise 1 Create a Tuple"
   ]
  },
  {
   "cell_type": "code",
   "execution_count": 1,
   "id": "7c885db5",
   "metadata": {
    "colab": {
     "base_uri": "https://localhost:8080/"
    },
    "id": "7c885db5",
    "outputId": "0af120d8-29b8-4556-b219-b5eb926fd738"
   },
   "outputs": [
    {
     "name": "stdout",
     "output_type": "stream",
     "text": [
      "('apple', 'banana', 'cherry')\n"
     ]
    }
   ],
   "source": [
    "thistuple = (\"apple\", \"banana\", \"cherry\")\n",
    "print(thistuple)"
   ]
  },
  {
   "cell_type": "markdown",
   "id": "94073c19",
   "metadata": {
    "id": "94073c19"
   },
   "source": [
    "#### Allow Duplicates"
   ]
  },
  {
   "cell_type": "code",
   "execution_count": null,
   "id": "dc657ac0",
   "metadata": {
    "colab": {
     "base_uri": "https://localhost:8080/"
    },
    "id": "dc657ac0",
    "outputId": "054f6343-572a-44f5-bb92-779e827ca318"
   },
   "outputs": [],
   "source": [
    "thistuple = (\"apple\", \"banana\", \"cherry\", \"apple\", \"cherry\")\n",
    "print(thistuple)"
   ]
  },
  {
   "cell_type": "markdown",
   "id": "cb5feb38",
   "metadata": {
    "id": "cb5feb38"
   },
   "source": [
    "#### Tuple Length"
   ]
  },
  {
   "cell_type": "code",
   "execution_count": 2,
   "id": "b632a862",
   "metadata": {
    "colab": {
     "base_uri": "https://localhost:8080/"
    },
    "id": "b632a862",
    "outputId": "40bdbf4d-3833-490c-b81a-8783587b702e"
   },
   "outputs": [
    {
     "name": "stdout",
     "output_type": "stream",
     "text": [
      "3\n"
     ]
    }
   ],
   "source": [
    "thistuple = (\"apple\", \"banana\", \"cherry\")\n",
    "\n",
    "# --- Added the code here ---\n",
    "print(len(thistuple))\n",
    "# ---------------------------"
   ]
  },
  {
   "cell_type": "markdown",
   "id": "fbc3346f",
   "metadata": {
    "id": "fbc3346f"
   },
   "source": [
    "#### Create Tuple With One Item"
   ]
  },
  {
   "cell_type": "code",
   "execution_count": 4,
   "id": "e3f85b5b",
   "metadata": {
    "colab": {
     "base_uri": "https://localhost:8080/"
    },
    "id": "e3f85b5b",
    "outputId": "23e7895e-492e-4496-e707-1584331cc04d"
   },
   "outputs": [
    {
     "name": "stdout",
     "output_type": "stream",
     "text": [
      "<class 'tuple'>\n"
     ]
    }
   ],
   "source": [
    "# --- Added the code here ---\n",
    "thistuple = (\"Orange\",)\n",
    "# ---------------------------\n",
    "\n",
    "print(type(thistuple))"
   ]
  },
  {
   "cell_type": "code",
   "execution_count": 6,
   "id": "7c9f92ce",
   "metadata": {
    "colab": {
     "base_uri": "https://localhost:8080/"
    },
    "id": "7c9f92ce",
    "outputId": "e1676be4-fada-4eb0-a65a-20626ed62a7b"
   },
   "outputs": [
    {
     "name": "stdout",
     "output_type": "stream",
     "text": [
      "<class 'str'>\n"
     ]
    }
   ],
   "source": [
    "#NOT a tuple\n",
    "thistuple = (\"apple\")\n",
    "print(type(thistuple))"
   ]
  },
  {
   "cell_type": "markdown",
   "id": "e53e3df7",
   "metadata": {
    "id": "e53e3df7"
   },
   "source": [
    "#### Tuple Items - Data Types"
   ]
  },
  {
   "cell_type": "code",
   "execution_count": 7,
   "id": "f9ac3947",
   "metadata": {
    "colab": {
     "base_uri": "https://localhost:8080/"
    },
    "id": "f9ac3947",
    "outputId": "969751d7-42c0-46fc-de41-5f3059ed975e"
   },
   "outputs": [
    {
     "name": "stdout",
     "output_type": "stream",
     "text": [
      "('apple', 'banana', 'cherry')\n",
      "(1, 5, 7, 9, 3)\n",
      "(True, False, False)\n"
     ]
    }
   ],
   "source": [
    "tuple1 = (\"apple\", \"banana\", \"cherry\")\n",
    "tuple2 = (1, 5, 7, 9, 3)\n",
    "tuple3 = (True, False, False)\n",
    "\n",
    "print(tuple1)\n",
    "print(tuple2)\n",
    "print(tuple3)"
   ]
  },
  {
   "cell_type": "code",
   "execution_count": 8,
   "id": "b057ddc0",
   "metadata": {
    "colab": {
     "base_uri": "https://localhost:8080/"
    },
    "id": "b057ddc0",
    "outputId": "e6b07913-7d4f-4cf0-cf2d-4a93e11cc1be"
   },
   "outputs": [
    {
     "name": "stdout",
     "output_type": "stream",
     "text": [
      "('abc', 34, True, 40, 'male')\n"
     ]
    }
   ],
   "source": [
    "tuple1 = (\"abc\", 34, True, 40, \"male\")\n",
    "\n",
    "print(tuple1)"
   ]
  },
  {
   "cell_type": "markdown",
   "id": "7592de9a",
   "metadata": {
    "id": "7592de9a"
   },
   "source": [
    "#### Exercise 2 The tuple Constructor"
   ]
  },
  {
   "cell_type": "code",
   "execution_count": 9,
   "id": "0e2fef0c",
   "metadata": {
    "colab": {
     "base_uri": "https://localhost:8080/"
    },
    "id": "0e2fef0c",
    "outputId": "360f1afb-ab42-4844-de80-85955ecf77e4"
   },
   "outputs": [
    {
     "name": "stdout",
     "output_type": "stream",
     "text": [
      "('apple', 'banana', 'cherry')\n"
     ]
    }
   ],
   "source": [
    "# --- Added the code here ---\n",
    "thistuple = ((\"apple\", \"banana\", \"cherry\")) # note the double round-brackets\n",
    "# ---------------------------\n",
    "\n",
    "print(thistuple)"
   ]
  },
  {
   "cell_type": "markdown",
   "id": "674f428d",
   "metadata": {
    "id": "674f428d"
   },
   "source": [
    "#### Exercise 3 Access Tuple Items"
   ]
  },
  {
   "cell_type": "code",
   "execution_count": null,
   "id": "d5b2d1e2",
   "metadata": {
    "colab": {
     "base_uri": "https://localhost:8080/"
    },
    "id": "d5b2d1e2",
    "outputId": "dece8012-adf8-49df-add9-4abbf1dbaeea"
   },
   "outputs": [],
   "source": [
    "thistuple = (\"apple\", \"banana\", \"cherry\")\n",
    "\n",
    "# --- Added the code here ---\n",
    "print(thistuple[])\n",
    "# ---------------------------"
   ]
  },
  {
   "cell_type": "markdown",
   "id": "dd7ff9a6",
   "metadata": {
    "id": "dd7ff9a6"
   },
   "source": [
    "#### Negative Indexing"
   ]
  },
  {
   "cell_type": "code",
   "execution_count": null,
   "id": "253c69ca",
   "metadata": {
    "colab": {
     "base_uri": "https://localhost:8080/"
    },
    "id": "253c69ca",
    "outputId": "87f2eb8f-a73e-4f3a-c7aa-2e040ba98efa"
   },
   "outputs": [],
   "source": [
    "thistuple = (\"apple\", \"banana\", \"cherry\")\n",
    "\n",
    "# --- Added the code here ---\n",
    "print(thistuple[])\n",
    "# ---------------------------"
   ]
  },
  {
   "cell_type": "markdown",
   "id": "95487291",
   "metadata": {
    "id": "95487291"
   },
   "source": [
    "#### Range of Indexes"
   ]
  },
  {
   "cell_type": "code",
   "execution_count": null,
   "id": "d6aebc8f",
   "metadata": {
    "colab": {
     "base_uri": "https://localhost:8080/"
    },
    "id": "d6aebc8f",
    "outputId": "55a65281-a062-4287-8743-9df2ce65a21b"
   },
   "outputs": [],
   "source": [
    "thistuple = (\"apple\", \"banana\", \"cherry\", \"orange\", \"kiwi\", \"melon\", \"mango\")\n",
    "\n",
    "# --- Added the code here ---\n",
    "print(thistuple[])\n",
    "# ---------------------------"
   ]
  },
  {
   "cell_type": "code",
   "execution_count": null,
   "id": "0bb80a82",
   "metadata": {
    "colab": {
     "base_uri": "https://localhost:8080/"
    },
    "id": "0bb80a82",
    "outputId": "20066cfd-f6be-4007-fc8f-134a612a226f"
   },
   "outputs": [],
   "source": [
    "thistuple = (\"apple\", \"banana\", \"cherry\", \"orange\", \"kiwi\", \"melon\", \"mango\")\n",
    "\n",
    "# --- Added the code here ---\n",
    "print(thistuple[])\n",
    "# ---------------------------"
   ]
  },
  {
   "cell_type": "code",
   "execution_count": null,
   "id": "2440f7b7",
   "metadata": {
    "colab": {
     "base_uri": "https://localhost:8080/"
    },
    "id": "2440f7b7",
    "outputId": "67b97951-5562-4d1f-9590-3ae952a268c2"
   },
   "outputs": [],
   "source": [
    "thistuple = (\"apple\", \"banana\", \"cherry\", \"orange\", \"kiwi\", \"melon\", \"mango\")\n",
    "\n",
    "# --- Added the code here ---\n",
    "print(thistuple[])\n",
    "# ---------------------------"
   ]
  },
  {
   "cell_type": "markdown",
   "id": "eca7157d",
   "metadata": {
    "id": "eca7157d"
   },
   "source": [
    "#### Range of Negative Indexes"
   ]
  },
  {
   "cell_type": "code",
   "execution_count": null,
   "id": "778e83bd",
   "metadata": {
    "colab": {
     "base_uri": "https://localhost:8080/"
    },
    "id": "778e83bd",
    "outputId": "b3b2b0cc-95a5-434c-c14f-22c44adcd981"
   },
   "outputs": [],
   "source": [
    "thistuple = (\"apple\", \"banana\", \"cherry\", \"orange\", \"kiwi\", \"melon\", \"mango\")\n",
    "\n",
    "# --- Added the code here ---\n",
    "print(thistuple[])\n",
    "# ---------------------------"
   ]
  },
  {
   "cell_type": "markdown",
   "id": "98a4fe4b",
   "metadata": {
    "id": "98a4fe4b"
   },
   "source": [
    "#### Exercise 4 Check if Item Exists"
   ]
  },
  {
   "cell_type": "code",
   "execution_count": null,
   "id": "16001ab1",
   "metadata": {
    "colab": {
     "base_uri": "https://localhost:8080/"
    },
    "id": "16001ab1",
    "outputId": "edcceec7-fe87-4f27-8694-c2ee2702eb81"
   },
   "outputs": [],
   "source": [
    "thistuple = (\"apple\", \"banana\", \"cherry\")\n",
    "\n",
    "# --- Added the code here ---\n",
    "#\n",
    "# ---------------------------   \n",
    "    print(\"Yes, 'apple' is in the fruits tuple\")"
   ]
  },
  {
   "cell_type": "markdown",
   "id": "fee409f5",
   "metadata": {
    "id": "fee409f5"
   },
   "source": [
    "#### Python - Update Tuples"
   ]
  },
  {
   "cell_type": "markdown",
   "id": "305db689",
   "metadata": {
    "id": "305db689"
   },
   "source": [
    "#### Exercise 5 Change Tuple Values"
   ]
  },
  {
   "cell_type": "code",
   "execution_count": null,
   "id": "d7c24bdd",
   "metadata": {
    "colab": {
     "base_uri": "https://localhost:8080/"
    },
    "id": "d7c24bdd",
    "outputId": "a23dfa92-37eb-486e-a06b-caeb09b36877"
   },
   "outputs": [],
   "source": [
    "x = (\"apple\", \"banana\", \"cherry\")\n",
    "\n",
    "# --- Added the code here ---\n",
    "#\n",
    "# ---------------------------\n",
    "\n",
    "print(x)"
   ]
  },
  {
   "cell_type": "markdown",
   "id": "205dd21b",
   "metadata": {
    "id": "205dd21b"
   },
   "source": [
    "#### Exercise 6 Add Items"
   ]
  },
  {
   "cell_type": "code",
   "execution_count": null,
   "id": "b12dd905",
   "metadata": {
    "colab": {
     "base_uri": "https://localhost:8080/"
    },
    "id": "b12dd905",
    "outputId": "8d2d8721-fd0b-4476-babf-f749ba5ef87f"
   },
   "outputs": [],
   "source": [
    "thistuple = (\"apple\", \"banana\", \"cherry\")\n",
    "\n",
    "# --- Added the code here ---\n",
    "#\n",
    "# ---------------------------\n",
    "\n",
    "print(thistuple)"
   ]
  },
  {
   "cell_type": "code",
   "execution_count": null,
   "id": "5b936c92",
   "metadata": {
    "colab": {
     "base_uri": "https://localhost:8080/"
    },
    "id": "5b936c92",
    "outputId": "7b59f4d8-3b34-4c52-f622-00c2fa082959"
   },
   "outputs": [],
   "source": [
    "thistuple = (\"apple\", \"banana\", \"cherry\")\n",
    "\n",
    "# --- Added the code here ---\n",
    "#\n",
    "# ---------------------------\n",
    "\n",
    "print(thistuple)"
   ]
  },
  {
   "cell_type": "markdown",
   "id": "34a62cf9",
   "metadata": {
    "id": "34a62cf9"
   },
   "source": [
    "#### Exercise 7 Remove Items"
   ]
  },
  {
   "cell_type": "code",
   "execution_count": null,
   "id": "882e4d54",
   "metadata": {
    "colab": {
     "base_uri": "https://localhost:8080/"
    },
    "id": "882e4d54",
    "outputId": "757ec0fd-0872-4746-f05e-dac0e4003dcd"
   },
   "outputs": [],
   "source": [
    "thistuple = (\"apple\", \"banana\", \"cherry\")\n",
    "y = list(thistuple)\n",
    "\n",
    "# --- Added the code here ---\n",
    "y.remove()\n",
    "# ---------------------------\n",
    "\n",
    "thistuple = tuple(y)\n",
    "\n",
    "print(thistuple)"
   ]
  },
  {
   "cell_type": "markdown",
   "id": "2a936434",
   "metadata": {
    "id": "2a936434"
   },
   "source": [
    "#### Exercise 8 Unpacking a Tuple"
   ]
  },
  {
   "cell_type": "code",
   "execution_count": null,
   "id": "ffeb7df2",
   "metadata": {
    "colab": {
     "base_uri": "https://localhost:8080/"
    },
    "id": "ffeb7df2",
    "outputId": "9bcc90dc-b2c8-43cd-bd4e-441395fcfd12"
   },
   "outputs": [],
   "source": [
    "fruits = (\"apple\", \"banana\", \"cherry\")\n",
    "\n",
    "print(fruits)"
   ]
  },
  {
   "cell_type": "code",
   "execution_count": null,
   "id": "a78e1286",
   "metadata": {
    "colab": {
     "base_uri": "https://localhost:8080/"
    },
    "id": "a78e1286",
    "outputId": "93945689-6ee0-4958-a9e1-1ef85cd1fe43"
   },
   "outputs": [],
   "source": [
    "fruits = (\"apple\", \"banana\", \"cherry\")\n",
    "\n",
    "# --- Added the code here ---\n",
    "#\n",
    "# ---------------------------\n",
    "\n",
    "print(green)\n",
    "print(yellow)\n",
    "print(red)"
   ]
  },
  {
   "cell_type": "markdown",
   "id": "7f8e3d3e",
   "metadata": {
    "id": "7f8e3d3e"
   },
   "source": [
    "#### Using Asterisk*"
   ]
  },
  {
   "cell_type": "code",
   "execution_count": null,
   "id": "af2b120a",
   "metadata": {
    "colab": {
     "base_uri": "https://localhost:8080/"
    },
    "id": "af2b120a",
    "outputId": "14a56ea3-b9a3-4466-b76c-6719317797a0"
   },
   "outputs": [],
   "source": [
    "fruits = (\"apple\", \"banana\", \"cherry\", \"strawberry\", \"raspberry\")\n",
    "\n",
    "# --- Added the code here ---\n",
    "(green, yellow, red) = fruits\n",
    "# ---------------------------\n",
    "\n",
    "print(green)\n",
    "print(yellow)\n",
    "print(red)"
   ]
  },
  {
   "cell_type": "code",
   "execution_count": null,
   "id": "10db7211",
   "metadata": {
    "colab": {
     "base_uri": "https://localhost:8080/"
    },
    "id": "10db7211",
    "outputId": "d4436ab6-c781-4a78-f8a1-d4d3769fccd4"
   },
   "outputs": [],
   "source": [
    "fruits = (\"apple\", \"mango\", \"papaya\", \"pineapple\", \"cherry\")\n",
    "\n",
    "# --- Added the code here ---\n",
    "(green, tropic, red) = fruits\n",
    "# ---------------------------\n",
    "\n",
    "print(green)\n",
    "print(tropic)\n",
    "print(red)"
   ]
  },
  {
   "cell_type": "markdown",
   "id": "52d968a5",
   "metadata": {
    "id": "52d968a5"
   },
   "source": [
    "#### Exercise 9 Loop Through a Tuple"
   ]
  },
  {
   "cell_type": "code",
   "execution_count": null,
   "id": "efcdd22e",
   "metadata": {
    "colab": {
     "base_uri": "https://localhost:8080/"
    },
    "id": "efcdd22e",
    "outputId": "0b37db62-af48-41c8-a6a4-8e38b955eaff"
   },
   "outputs": [],
   "source": [
    "thistuple = (\"apple\", \"banana\", \"cherry\")\n",
    "\n",
    "# --- Added the code here ---\n",
    "#\n",
    "# ---------------------------    \n",
    "    print(x)"
   ]
  },
  {
   "cell_type": "markdown",
   "id": "c0b93c9a",
   "metadata": {
    "id": "c0b93c9a"
   },
   "source": [
    "#### Loop Through the Index Numbers"
   ]
  },
  {
   "cell_type": "code",
   "execution_count": null,
   "id": "dde7d38f",
   "metadata": {
    "colab": {
     "base_uri": "https://localhost:8080/"
    },
    "id": "dde7d38f",
    "outputId": "0599304a-445f-4446-9500-c2674fb65873"
   },
   "outputs": [],
   "source": [
    "thistuple = (\"apple\", \"banana\", \"cherry\")\n",
    "\n",
    "# --- Added the code here ---\n",
    "#\n",
    "# ---------------------------    \n",
    "    print(thistuple[i])"
   ]
  },
  {
   "cell_type": "markdown",
   "id": "b2cd29ed",
   "metadata": {
    "id": "b2cd29ed"
   },
   "source": [
    "#### Exercise 10 Using a While Loop"
   ]
  },
  {
   "cell_type": "code",
   "execution_count": null,
   "id": "361e8d5a",
   "metadata": {
    "colab": {
     "base_uri": "https://localhost:8080/"
    },
    "id": "361e8d5a",
    "outputId": "1f3aa40e-8003-4d09-fd2d-ae5a2d2ca4d1"
   },
   "outputs": [],
   "source": [
    "thistuple = (\"apple\", \"banana\", \"cherry\")\n",
    "\n",
    "# --- Added the code here ---\n",
    "\n",
    "while \n",
    "    print(thistuple[i])\n",
    "    \n",
    "# ---------------------------"
   ]
  },
  {
   "cell_type": "markdown",
   "id": "3d1329a1",
   "metadata": {
    "id": "3d1329a1"
   },
   "source": [
    "#### Exercise 11 Join Two Tuples"
   ]
  },
  {
   "cell_type": "code",
   "execution_count": null,
   "id": "7b89ac61",
   "metadata": {
    "colab": {
     "base_uri": "https://localhost:8080/"
    },
    "id": "7b89ac61",
    "outputId": "12bab696-776a-4d97-949e-8d54e05c6372"
   },
   "outputs": [],
   "source": [
    "tuple1 = (\"a\", \"b\" , \"c\")\n",
    "tuple2 = (1, 2, 3)\n",
    "\n",
    "# --- Added the code here ---\n",
    "#\n",
    "# ---------------------------\n",
    "\n",
    "print(tuple3)"
   ]
  },
  {
   "cell_type": "markdown",
   "id": "d746347a",
   "metadata": {
    "id": "d746347a"
   },
   "source": [
    "#### Exercise 12 Multiply Tuples"
   ]
  },
  {
   "cell_type": "code",
   "execution_count": null,
   "id": "05c0f4ad",
   "metadata": {
    "colab": {
     "base_uri": "https://localhost:8080/"
    },
    "id": "05c0f4ad",
    "outputId": "f7d2152a-a42e-4d77-9b76-58e5e046cc4c"
   },
   "outputs": [],
   "source": [
    "fruits = (\"apple\", \"banana\", \"cherry\")\n",
    "\n",
    "# --- Added the code here ---\n",
    "mytuple = fruits \n",
    "# ---------------------------\n",
    "\n",
    "print(mytuple)"
   ]
  },
  {
   "cell_type": "markdown",
   "id": "02ee95a5",
   "metadata": {
    "id": "02ee95a5"
   },
   "source": [
    "### Python Sets"
   ]
  },
  {
   "cell_type": "markdown",
   "id": "114241d0",
   "metadata": {
    "id": "114241d0"
   },
   "source": [
    "#### Exercise 13 Creating a set"
   ]
  },
  {
   "cell_type": "code",
   "execution_count": null,
   "id": "8e500b07",
   "metadata": {
    "colab": {
     "base_uri": "https://localhost:8080/"
    },
    "id": "8e500b07",
    "outputId": "6bea18c2-f3c5-46d2-a606-2d93b4ff974e"
   },
   "outputs": [],
   "source": [
    "# --- Added the code here ---\n",
    "thisset = \"apple\", \"banana\", \"cherry\"\n",
    "# ---------------------------\n",
    "\n",
    "print(thisset)"
   ]
  },
  {
   "cell_type": "markdown",
   "id": "72442d2d",
   "metadata": {
    "id": "72442d2d"
   },
   "source": [
    "#### Exercise 14 Duplicates Not Allowed"
   ]
  },
  {
   "cell_type": "code",
   "execution_count": 10,
   "id": "02be6d25",
   "metadata": {
    "colab": {
     "base_uri": "https://localhost:8080/"
    },
    "id": "02be6d25",
    "outputId": "dd8fea93-ff5c-44a5-95b8-ff61b4b8c00a"
   },
   "outputs": [
    {
     "name": "stdout",
     "output_type": "stream",
     "text": [
      "{'', 'cherry', 'banana'}\n"
     ]
    }
   ],
   "source": [
    "# --- Added the code here ---\n",
    "thisset = {\"\", \"banana\", \"cherry\", \"\"}\n",
    "# ---------------------------\n",
    "\n",
    "print(thisset)"
   ]
  },
  {
   "cell_type": "code",
   "execution_count": 11,
   "id": "f41e3964",
   "metadata": {
    "colab": {
     "base_uri": "https://localhost:8080/"
    },
    "id": "f41e3964",
    "outputId": "894cedcb-9876-4387-f3d9-1a57436a46e3"
   },
   "outputs": [
    {
     "ename": "SyntaxError",
     "evalue": "invalid syntax (1821222723.py, line 2)",
     "output_type": "error",
     "traceback": [
      "\u001b[1;36m  Cell \u001b[1;32mIn[11], line 2\u001b[1;36m\u001b[0m\n\u001b[1;33m    thisset = {\"apple\", \"banana\", \"cherry\", , , 2}\u001b[0m\n\u001b[1;37m                                            ^\u001b[0m\n\u001b[1;31mSyntaxError\u001b[0m\u001b[1;31m:\u001b[0m invalid syntax\n"
     ]
    }
   ],
   "source": [
    "# --- Added the code here ---\n",
    "thisset = {\"apple\", \"banana\", \"cherry\", , , 2}\n",
    "# ---------------------------\n",
    "\n",
    "print(thisset)"
   ]
  },
  {
   "cell_type": "markdown",
   "id": "6ba97821",
   "metadata": {
    "id": "6ba97821"
   },
   "source": [
    "#### Exercise 15 Get the Length of a Set"
   ]
  },
  {
   "cell_type": "code",
   "execution_count": 12,
   "id": "b5641bc0",
   "metadata": {
    "colab": {
     "base_uri": "https://localhost:8080/"
    },
    "id": "b5641bc0",
    "outputId": "9a4d639e-88b2-46a4-e674-403ecb5299e4"
   },
   "outputs": [
    {
     "name": "stdout",
     "output_type": "stream",
     "text": [
      "3\n"
     ]
    }
   ],
   "source": [
    "thisset = {\"apple\", \"banana\", \"cherry\"}\n",
    "\n",
    "# --- Added the code here ---\n",
    "print(len(thisset))\n",
    "# ---------------------------"
   ]
  },
  {
   "cell_type": "markdown",
   "id": "ad6916c3",
   "metadata": {
    "id": "ad6916c3"
   },
   "source": [
    "#### Exercise 16 Set Items - Data Types"
   ]
  },
  {
   "cell_type": "code",
   "execution_count": 13,
   "id": "19f6229b",
   "metadata": {
    "colab": {
     "base_uri": "https://localhost:8080/"
    },
    "id": "19f6229b",
    "outputId": "672944ee-bf6b-4d7d-d53b-e12eea0102ae"
   },
   "outputs": [
    {
     "name": "stdout",
     "output_type": "stream",
     "text": [
      "{'banana', 'cherry', 'apple'}\n",
      "{1, 3, 5, 7, 9}\n",
      "{False, True}\n"
     ]
    }
   ],
   "source": [
    "set1 = {\"apple\", \"banana\", \"cherry\"}\n",
    "set2 = {1, 5, 7, 9, 3}\n",
    "set3 = {True, False, False}\n",
    "\n",
    "print(set1)\n",
    "print(set2)\n",
    "print(set3)"
   ]
  },
  {
   "cell_type": "code",
   "execution_count": null,
   "id": "30ca4ed2",
   "metadata": {
    "colab": {
     "base_uri": "https://localhost:8080/"
    },
    "id": "30ca4ed2",
    "outputId": "08827a7e-89ee-48cb-e05d-f169763aa99f"
   },
   "outputs": [],
   "source": [
    "set1 = {\"abc\", 34, True, 40, \"male\"}\n",
    "print(set1)"
   ]
  },
  {
   "cell_type": "markdown",
   "id": "80e09b37",
   "metadata": {
    "id": "80e09b37"
   },
   "source": [
    "#### Exercise 17 Access Items"
   ]
  },
  {
   "cell_type": "code",
   "execution_count": 14,
   "id": "9a275b37",
   "metadata": {
    "colab": {
     "base_uri": "https://localhost:8080/"
    },
    "id": "9a275b37",
    "outputId": "52b7ab40-5943-401b-8fb8-e5b39dde4e24"
   },
   "outputs": [
    {
     "name": "stdout",
     "output_type": "stream",
     "text": [
      "banana\n",
      "cherry\n",
      "apple\n"
     ]
    }
   ],
   "source": [
    "thisset = {\"apple\", \"banana\", \"cherry\"}\n",
    "\n",
    "# --- Added the code here ---\n",
    "for x in thisset:\n",
    "# ---------------------------   \n",
    "    print(x)"
   ]
  },
  {
   "cell_type": "code",
   "execution_count": 16,
   "id": "456500b1",
   "metadata": {
    "colab": {
     "base_uri": "https://localhost:8080/"
    },
    "id": "456500b1",
    "outputId": "1813da30-78aa-45b2-b36c-a4d37bfa0fd0"
   },
   "outputs": [
    {
     "name": "stdout",
     "output_type": "stream",
     "text": [
      "True\n"
     ]
    }
   ],
   "source": [
    "thisset = {\"apple\", \"banana\", \"cherry\"}\n",
    "\n",
    "# --- Added the code here ---\n",
    "print(\"banana\" in thisset)\n",
    "# ---------------------------"
   ]
  },
  {
   "cell_type": "markdown",
   "id": "5ba40a2b",
   "metadata": {
    "id": "5ba40a2b"
   },
   "source": [
    "#### Exercise 18 Add Items"
   ]
  },
  {
   "cell_type": "code",
   "execution_count": 17,
   "id": "5a470bb7",
   "metadata": {
    "colab": {
     "base_uri": "https://localhost:8080/"
    },
    "id": "5a470bb7",
    "outputId": "ccc1e291-9cff-48c0-db84-06a70e941f9d"
   },
   "outputs": [
    {
     "name": "stdout",
     "output_type": "stream",
     "text": [
      "{'banana', 'Leechie', 'cherry', 'apple'}\n"
     ]
    }
   ],
   "source": [
    "thisset = {\"apple\", \"banana\", \"cherry\"}\n",
    "\n",
    "# --- Added the code here ---\n",
    "thisset.add(\"Leechie\")\n",
    "# ---------------------------\n",
    "\n",
    "print(thisset)"
   ]
  },
  {
   "cell_type": "markdown",
   "id": "7430e930",
   "metadata": {
    "id": "7430e930"
   },
   "source": [
    "#### Exercise 19 Add Sets"
   ]
  },
  {
   "cell_type": "code",
   "execution_count": null,
   "id": "4e1c19be",
   "metadata": {
    "colab": {
     "base_uri": "https://localhost:8080/"
    },
    "id": "4e1c19be",
    "outputId": "2af58d7c-2503-40fd-d366-fce9a9611c11"
   },
   "outputs": [],
   "source": [
    "thisset = {\"apple\", \"banana\", \"cherry\"}\n",
    "tropical = {\"pineapple\", \"mango\", \"papaya\"}\n",
    "\n",
    "# --- Added the code here ---\n",
    "thisset.update()\n",
    "# ---------------------------\n",
    "\n",
    "print(thisset)"
   ]
  },
  {
   "cell_type": "markdown",
   "id": "338561c9",
   "metadata": {
    "id": "338561c9"
   },
   "source": [
    "#### Exercise 20 Remove Item"
   ]
  },
  {
   "cell_type": "code",
   "execution_count": 19,
   "id": "6d4f7109",
   "metadata": {
    "colab": {
     "base_uri": "https://localhost:8080/"
    },
    "id": "6d4f7109",
    "outputId": "a2153166-e79c-4f58-babe-94808f88f150"
   },
   "outputs": [
    {
     "name": "stdout",
     "output_type": "stream",
     "text": [
      "{'banana', 'apple'}\n"
     ]
    }
   ],
   "source": [
    "thisset = {\"apple\", \"banana\", \"cherry\"}\n",
    "\n",
    "# --- Added the code here ---\n",
    "thisset.remove(\"cherry\")\n",
    "# ---------------------------\n",
    "\n",
    "print(thisset)"
   ]
  },
  {
   "cell_type": "code",
   "execution_count": 18,
   "id": "a2d93280",
   "metadata": {
    "colab": {
     "base_uri": "https://localhost:8080/"
    },
    "id": "a2d93280",
    "outputId": "6b06f4b1-86b1-4c3d-b767-6e409171f943"
   },
   "outputs": [
    {
     "name": "stdout",
     "output_type": "stream",
     "text": [
      "{'cherry', 'apple'}\n"
     ]
    }
   ],
   "source": [
    "thisset = {\"apple\", \"banana\", \"cherry\"}\n",
    "\n",
    "# --- Added the code here ---\n",
    "thisset.discard(\"banana\")\n",
    "# ---------------------------\n",
    "\n",
    "print(thisset)"
   ]
  },
  {
   "cell_type": "code",
   "execution_count": 20,
   "id": "2009c2e8",
   "metadata": {
    "colab": {
     "base_uri": "https://localhost:8080/"
    },
    "id": "2009c2e8",
    "outputId": "a4c1f6d3-06fd-4472-82fe-6a05af2ab931"
   },
   "outputs": [
    {
     "name": "stdout",
     "output_type": "stream",
     "text": [
      "banana\n",
      "{'cherry', 'apple'}\n"
     ]
    }
   ],
   "source": [
    "thisset = {\"apple\", \"banana\", \"cherry\"}\n",
    "\n",
    "# --- Added the code here ---\n",
    "x = thisset.pop()\n",
    "# ---------------------------\n",
    "\n",
    "print(x)\n",
    "print(thisset)"
   ]
  },
  {
   "cell_type": "code",
   "execution_count": 21,
   "id": "b81d7278",
   "metadata": {
    "colab": {
     "base_uri": "https://localhost:8080/"
    },
    "id": "b81d7278",
    "outputId": "f4f6bb69-d3cd-4fec-fc52-534d3cd605a7"
   },
   "outputs": [
    {
     "name": "stdout",
     "output_type": "stream",
     "text": [
      "set()\n"
     ]
    }
   ],
   "source": [
    "thisset = {\"apple\", \"banana\", \"cherry\"}\n",
    "# empty the set\n",
    "# --- Added the code here ---\n",
    "thisset.clear()\n",
    "# ---------------------------\n",
    "\n",
    "print(thisset)"
   ]
  },
  {
   "cell_type": "markdown",
   "id": "133063a5",
   "metadata": {
    "id": "133063a5"
   },
   "source": [
    "#### Exercise 21 Join Two Sets"
   ]
  },
  {
   "cell_type": "code",
   "execution_count": 22,
   "id": "a8581c32",
   "metadata": {
    "colab": {
     "base_uri": "https://localhost:8080/"
    },
    "id": "a8581c32",
    "outputId": "ba066440-870b-4ea6-9946-737ff3e3a3c1"
   },
   "outputs": [
    {
     "name": "stdout",
     "output_type": "stream",
     "text": [
      "{'a', 1, 2, 3, 'c', 'b'}\n"
     ]
    }
   ],
   "source": [
    "set1 = {\"a\", \"b\" , \"c\"}\n",
    "set2 = {1, 2, 3}\n",
    "\n",
    "# --- Added the code here ---\n",
    "set3 = set1.union(set2)\n",
    "# ---------------------------\n",
    "\n",
    "print(set3)"
   ]
  },
  {
   "cell_type": "code",
   "execution_count": 24,
   "id": "013f7d12",
   "metadata": {
    "colab": {
     "base_uri": "https://localhost:8080/"
    },
    "id": "013f7d12",
    "outputId": "f2e1f5c4-85c6-414b-f523-6d4688fe4349"
   },
   "outputs": [
    {
     "name": "stdout",
     "output_type": "stream",
     "text": [
      "{'a', 1, 2, 3, 'c', 'b'}\n"
     ]
    }
   ],
   "source": [
    "set1 = {\"a\", \"b\" , \"c\"}\n",
    "set2 = {1, 2, 3}\n",
    "\n",
    "# --- Added the code here ---\n",
    "set1.update(set2)\n",
    "# ---------------------------\n",
    "\n",
    "print(set1)"
   ]
  },
  {
   "cell_type": "markdown",
   "id": "17ac5723",
   "metadata": {
    "id": "17ac5723"
   },
   "source": [
    "#### Exercise 22 Keep ONLY the Duplicates"
   ]
  },
  {
   "cell_type": "code",
   "execution_count": 25,
   "id": "47d9a0a4",
   "metadata": {
    "colab": {
     "base_uri": "https://localhost:8080/"
    },
    "id": "47d9a0a4",
    "outputId": "55313ba8-36ad-4903-a11f-7c35e694b334"
   },
   "outputs": [
    {
     "name": "stdout",
     "output_type": "stream",
     "text": [
      "{'apple'}\n"
     ]
    }
   ],
   "source": [
    "x = {\"apple\", \"banana\", \"cherry\"}\n",
    "y = {\"google\", \"microsoft\", \"apple\"}\n",
    "\n",
    "# --- Added the code here ---\n",
    "x.intersection_update(y)\n",
    "# ---------------------------\n",
    "\n",
    "print(x)"
   ]
  },
  {
   "cell_type": "code",
   "execution_count": 26,
   "id": "377cb089",
   "metadata": {
    "colab": {
     "base_uri": "https://localhost:8080/"
    },
    "id": "377cb089",
    "outputId": "f44fcf07-d746-41e7-bcd5-744226d1c3a9"
   },
   "outputs": [
    {
     "name": "stdout",
     "output_type": "stream",
     "text": [
      "{'apple'}\n"
     ]
    }
   ],
   "source": [
    "x = {\"apple\", \"banana\", \"cherry\"}\n",
    "y = {\"google\", \"microsoft\", \"apple\"}\n",
    "\n",
    "# --- Added the code here ---\n",
    "z= x.intersection(y)\n",
    "# ---------------------------\n",
    "\n",
    "print(z)"
   ]
  },
  {
   "cell_type": "markdown",
   "id": "c3a0cd86",
   "metadata": {
    "id": "c3a0cd86"
   },
   "source": [
    "#### Exercise 23 Keep All, But NOT the Duplicates"
   ]
  },
  {
   "cell_type": "code",
   "execution_count": 27,
   "id": "7ea699a6",
   "metadata": {
    "colab": {
     "base_uri": "https://localhost:8080/"
    },
    "id": "7ea699a6",
    "outputId": "d47fa56f-5ae1-423a-dd23-39c5fbe961c0"
   },
   "outputs": [
    {
     "name": "stdout",
     "output_type": "stream",
     "text": [
      "{'microsoft', 'banana', 'cherry', 'google'}\n"
     ]
    }
   ],
   "source": [
    "x = {\"apple\", \"banana\", \"cherry\"}\n",
    "y = {\"google\", \"microsoft\", \"apple\"}\n",
    "\n",
    "# --- Added the code here ---\n",
    "x.symmetric_difference_update(y)\n",
    "# ---------------------------\n",
    "\n",
    "print(x)"
   ]
  },
  {
   "cell_type": "code",
   "execution_count": null,
   "id": "981fda9d",
   "metadata": {
    "colab": {
     "base_uri": "https://localhost:8080/"
    },
    "id": "981fda9d",
    "outputId": "6ebf8340-c8ce-4dd5-8bcb-37c8d8e8ddc3"
   },
   "outputs": [],
   "source": [
    "x = {\"apple\", \"banana\", \"cherry\"}\n",
    "y = {\"google\", \"microsoft\", \"apple\"}\n",
    "\n",
    "# --- Added the code here ---\n",
    "\n",
    "# ---------------------------\n",
    "\n",
    "print(z)"
   ]
  },
  {
   "cell_type": "code",
   "execution_count": null,
   "id": "5df036f3",
   "metadata": {
    "colab": {
     "base_uri": "https://localhost:8080/"
    },
    "id": "5df036f3",
    "outputId": "fea9eb54-b816-4e30-d6b4-edad62486e63"
   },
   "outputs": [],
   "source": [
    "x = {\"apple\", \"banana\", \"cherry\", True}\n",
    "y = {\"google\", 1, \"apple\", 2}\n",
    "\n",
    "z = x.symmetric_difference(y)\n",
    "\n",
    "print(z)"
   ]
  },
  {
   "cell_type": "markdown",
   "id": "1fb1b527",
   "metadata": {
    "id": "1fb1b527"
   },
   "source": [
    "### Python Dictionaries"
   ]
  },
  {
   "cell_type": "markdown",
   "id": "9fd83054",
   "metadata": {
    "id": "9fd83054"
   },
   "source": [
    "#### Exercise 24 Creating a dictionary"
   ]
  },
  {
   "cell_type": "code",
   "execution_count": null,
   "id": "062c82e3",
   "metadata": {
    "colab": {
     "base_uri": "https://localhost:8080/"
    },
    "id": "062c82e3",
    "outputId": "721c777d-fd04-4c1f-945a-70e5ff359ca6"
   },
   "outputs": [],
   "source": [
    "# --- Added the code here ---\n",
    "thisdict = {\n",
    "  \"brand\": \n",
    "  \"model\": \n",
    "  \"year\": \n",
    "}\n",
    "# ---------------------------\n",
    "\n",
    "print(thisdict)"
   ]
  },
  {
   "cell_type": "markdown",
   "id": "12234620",
   "metadata": {
    "id": "12234620"
   },
   "source": [
    "#### Exercise 25 Dictionary Items"
   ]
  },
  {
   "cell_type": "code",
   "execution_count": 29,
   "id": "16c92586",
   "metadata": {
    "colab": {
     "base_uri": "https://localhost:8080/"
    },
    "id": "16c92586",
    "outputId": "bd00f6cf-7f81-48c0-ae36-79aee3102213"
   },
   "outputs": [
    {
     "name": "stdout",
     "output_type": "stream",
     "text": [
      "{'brand': 'Ford', 'model': 'Mustang', 'year': 1964}\n"
     ]
    }
   ],
   "source": [
    "thisdict = {\n",
    "  \"brand\": \"Ford\",\n",
    "  \"model\": \"Mustang\",\n",
    "  \"year\": 1964\n",
    "}\n",
    "\n",
    "# --- Added the code here ---\n",
    "print(thisdict)\n",
    "# ---------------------------"
   ]
  },
  {
   "cell_type": "markdown",
   "id": "b73d9767",
   "metadata": {
    "id": "b73d9767"
   },
   "source": [
    "#### Exercise 26 Duplicates Not Allowed"
   ]
  },
  {
   "cell_type": "code",
   "execution_count": null,
   "id": "a9be4fc6",
   "metadata": {
    "colab": {
     "base_uri": "https://localhost:8080/"
    },
    "id": "a9be4fc6",
    "outputId": "a014e9e4-7328-4e7b-e1bf-872d8357cdaa"
   },
   "outputs": [],
   "source": [
    "thisdict = {\n",
    "  \"brand\": \"Ford\",\n",
    "  \"model\": \"Mustang\",\n",
    "  \"year\": 1964,\n",
    "  \"year\": 2020\n",
    "}\n",
    "\n",
    "print(thisdict)"
   ]
  },
  {
   "cell_type": "markdown",
   "id": "42a4a074",
   "metadata": {
    "id": "42a4a074"
   },
   "source": [
    "#### Exercise 27 Dictionary Length"
   ]
  },
  {
   "cell_type": "code",
   "execution_count": 32,
   "id": "fc29c08c",
   "metadata": {
    "colab": {
     "base_uri": "https://localhost:8080/"
    },
    "id": "fc29c08c",
    "outputId": "7169f536-44c7-4c2e-dbac-97e617346c6a"
   },
   "outputs": [
    {
     "name": "stdout",
     "output_type": "stream",
     "text": [
      "3\n"
     ]
    }
   ],
   "source": [
    "# --- Added the code here ---\n",
    "print(len(thisdict))\n",
    "# ---------------------------"
   ]
  },
  {
   "cell_type": "markdown",
   "id": "6ef6cfe6",
   "metadata": {
    "id": "6ef6cfe6"
   },
   "source": [
    "#### Exercise 28 Accessing Items"
   ]
  },
  {
   "cell_type": "code",
   "execution_count": 34,
   "id": "11117c8d",
   "metadata": {
    "colab": {
     "base_uri": "https://localhost:8080/"
    },
    "id": "11117c8d",
    "outputId": "8175f5b8-f8df-4658-abe5-7e218ed33cdd"
   },
   "outputs": [
    {
     "name": "stdout",
     "output_type": "stream",
     "text": [
      "Mustang\n"
     ]
    }
   ],
   "source": [
    "thisdict = {\n",
    "  \"brand\": \"Ford\",\n",
    "  \"model\": \"Mustang\",\n",
    "  \"year\": 1964\n",
    "}\n",
    "\n",
    "# --- Added the code here ---\n",
    "x = thisdict[\"model\"]\n",
    "# ---------------------------\n",
    "\n",
    "print(x)"
   ]
  },
  {
   "cell_type": "code",
   "execution_count": 35,
   "id": "d00a4d84",
   "metadata": {
    "colab": {
     "base_uri": "https://localhost:8080/"
    },
    "id": "d00a4d84",
    "outputId": "c3a4d9ee-6aa1-4015-9d3f-695535702ec1"
   },
   "outputs": [
    {
     "name": "stdout",
     "output_type": "stream",
     "text": [
      "Ford\n"
     ]
    }
   ],
   "source": [
    "# --- Added the code here ---\n",
    "# also to get the value of the selected value present in the dictionary\n",
    "x = thisdict.get(\"brand\")\n",
    "# ---------------------------\n",
    "\n",
    "print(x)"
   ]
  },
  {
   "cell_type": "markdown",
   "id": "cf15f042",
   "metadata": {
    "id": "cf15f042"
   },
   "source": [
    "#### Exercise 29 Get Keys"
   ]
  },
  {
   "cell_type": "code",
   "execution_count": 36,
   "id": "211a87be",
   "metadata": {
    "colab": {
     "base_uri": "https://localhost:8080/"
    },
    "id": "211a87be",
    "outputId": "e014ab4c-fb7d-45ca-fd0c-3d442aafe4ae"
   },
   "outputs": [
    {
     "name": "stdout",
     "output_type": "stream",
     "text": [
      "{'brand': 'Ford', 'model': 'Mustang', 'year': 1964}\n"
     ]
    }
   ],
   "source": [
    "# --- Added the code here ---\n",
    "x = thisdict\n",
    "# ---------------------------\n",
    "\n",
    "print(x)"
   ]
  },
  {
   "cell_type": "code",
   "execution_count": 37,
   "id": "e8784e29",
   "metadata": {
    "colab": {
     "base_uri": "https://localhost:8080/"
    },
    "id": "e8784e29",
    "outputId": "656cef2b-f67a-4d55-a69d-c908f2178483"
   },
   "outputs": [
    {
     "name": "stdout",
     "output_type": "stream",
     "text": [
      "Before:  dict_keys(['brand', 'model', 'year'])\n",
      "After:  dict_keys(['brand', 'model', 'year', 'color'])\n"
     ]
    }
   ],
   "source": [
    "car = {\n",
    "\"brand\": \"Ford\",\n",
    "\"model\": \"Mustang\",\n",
    "\"year\": 1964\n",
    "}\n",
    "\n",
    "x = car.keys()\n",
    "\n",
    "print(\"Before: \", x) #before the change\n",
    "\n",
    "car[\"color\"] = \"white\"\n",
    "\n",
    "print(\"After: \", x) #after the change"
   ]
  },
  {
   "cell_type": "markdown",
   "id": "8e82b89a",
   "metadata": {
    "id": "8e82b89a"
   },
   "source": [
    "#### Exercise 30 Get Values"
   ]
  },
  {
   "cell_type": "code",
   "execution_count": 39,
   "id": "4009752e",
   "metadata": {
    "colab": {
     "base_uri": "https://localhost:8080/"
    },
    "id": "4009752e",
    "outputId": "98350efd-df43-4777-cbef-ed3b7df16e1d"
   },
   "outputs": [
    {
     "name": "stdout",
     "output_type": "stream",
     "text": [
      "dict_values(['Ford', 'Mustang', 1964])\n"
     ]
    }
   ],
   "source": [
    "# --- Added the code here ---\n",
    "x = thisdict.values()\n",
    "# ---------------------------\n",
    "# To see all the values present in the dictionary\n",
    "\n",
    "print(x)"
   ]
  },
  {
   "cell_type": "code",
   "execution_count": 40,
   "id": "5d35758f",
   "metadata": {
    "colab": {
     "base_uri": "https://localhost:8080/"
    },
    "id": "5d35758f",
    "outputId": "cd3fcec8-017b-450c-cc7e-83df80fb98f2"
   },
   "outputs": [
    {
     "name": "stdout",
     "output_type": "stream",
     "text": [
      "Before:  dict_values(['Ford', 'Mustang', 1964])\n",
      "After:  dict_values(['Ford', 'Mustang', 2020])\n"
     ]
    }
   ],
   "source": [
    "car = {\n",
    "\"brand\": \"Ford\",\n",
    "\"model\": \"Mustang\",\n",
    "\"year\": 1964\n",
    "}\n",
    "CHanging the values of the dictionsry items\n",
    "x = car.values()\n",
    "\n",
    "# print(\"Before: \", x) #before the change\n",
    "\n",
    "car[\"year\"] = 2020\n",
    "\n",
    "print(\"After: \", x) #after the change"
   ]
  },
  {
   "cell_type": "code",
   "execution_count": 41,
   "id": "b19ddfad",
   "metadata": {
    "colab": {
     "base_uri": "https://localhost:8080/"
    },
    "id": "b19ddfad",
    "outputId": "0125a1e0-f830-4647-bba7-a0be95313515"
   },
   "outputs": [
    {
     "name": "stdout",
     "output_type": "stream",
     "text": [
      "Before:  dict_values(['Ford', 'Mustang', 1964])\n",
      "After:  dict_values(['Ford', 'Mustang', 1964, 'red'])\n"
     ]
    }
   ],
   "source": [
    "car = {\n",
    "\"brand\": \"Ford\",\n",
    "\"model\": \"Mustang\",\n",
    "\"year\": 1964\n",
    "}\n",
    "# Addition of the key values\n",
    "x = car.values()\n",
    "\n",
    "print(\"Before: \", x) #before the change\n",
    "\n",
    "car[\"color\"] = \"red\"\n",
    "\n",
    "print(\"After: \", x) #after the change"
   ]
  },
  {
   "cell_type": "markdown",
   "id": "c42c8e65",
   "metadata": {
    "id": "c42c8e65"
   },
   "source": [
    "#### Exercise 31 Get Items"
   ]
  },
  {
   "cell_type": "code",
   "execution_count": 42,
   "id": "a98c4938",
   "metadata": {
    "colab": {
     "base_uri": "https://localhost:8080/"
    },
    "id": "a98c4938",
    "outputId": "bd8c85a5-b323-45b8-a294-1823f0a2ddf3"
   },
   "outputs": [
    {
     "name": "stdout",
     "output_type": "stream",
     "text": [
      "{'brand': 'Ford', 'model': 'Mustang', 'year': 1964}\n"
     ]
    }
   ],
   "source": [
    "# --- Added the code here ---\n",
    "x = thisdict\n",
    "# ---------------------------\n",
    "\n",
    "print(x)"
   ]
  },
  {
   "cell_type": "code",
   "execution_count": 43,
   "id": "a54bcca9",
   "metadata": {
    "colab": {
     "base_uri": "https://localhost:8080/"
    },
    "id": "a54bcca9",
    "outputId": "7e59eb9e-989b-4b9f-f216-64c330f21b2b"
   },
   "outputs": [
    {
     "name": "stdout",
     "output_type": "stream",
     "text": [
      "Before:  dict_items([('brand', 'Ford'), ('model', 'Mustang'), ('year', 1964)])\n",
      "After:  dict_items([('brand', 'Ford'), ('model', 'Mustang'), ('year', 2020)])\n"
     ]
    }
   ],
   "source": [
    "car = {\n",
    "\"brand\": \"Ford\",\n",
    "\"model\": \"Mustang\",\n",
    "\"year\": 1964\n",
    "}\n",
    "\n",
    "x = car.items()\n",
    "\n",
    "print(\"Before: \", x) #before the change\n",
    "\n",
    "car[\"year\"] = 2020\n",
    "\n",
    "print(\"After: \", x) #after the change"
   ]
  },
  {
   "cell_type": "code",
   "execution_count": 44,
   "id": "36e85ac8",
   "metadata": {
    "colab": {
     "base_uri": "https://localhost:8080/"
    },
    "id": "36e85ac8",
    "outputId": "53823554-d5c4-4731-b220-4ebd0b6996de"
   },
   "outputs": [
    {
     "name": "stdout",
     "output_type": "stream",
     "text": [
      "Before:  dict_items([('brand', 'Ford'), ('model', 'Mustang'), ('year', 1964)])\n",
      "After:  dict_items([('brand', 'Ford'), ('model', 'Mustang'), ('year', 1964), ('color', 'red')])\n"
     ]
    }
   ],
   "source": [
    "car = {\n",
    "\"brand\": \"Ford\",\n",
    "\"model\": \"Mustang\",\n",
    "\"year\": 1964\n",
    "}\n",
    "\n",
    "x = car.items()\n",
    "\n",
    "print(\"Before: \", x) #before the change\n",
    "\n",
    "car[\"color\"] = \"red\"\n",
    "\n",
    "print(\"After: \", x) #after the change"
   ]
  },
  {
   "cell_type": "markdown",
   "id": "993335b6",
   "metadata": {
    "id": "993335b6"
   },
   "source": [
    "#### Exercise 32 Check if Key Exists"
   ]
  },
  {
   "cell_type": "code",
   "execution_count": 46,
   "id": "6fb14165",
   "metadata": {
    "colab": {
     "base_uri": "https://localhost:8080/"
    },
    "id": "6fb14165",
    "outputId": "b725d5ff-9988-4b5d-fb0a-59d3ad941db5"
   },
   "outputs": [
    {
     "name": "stdout",
     "output_type": "stream",
     "text": [
      "Yes, 'model' is one of the keys in the thisdict dictionary\n"
     ]
    }
   ],
   "source": [
    "thisdict = {\n",
    "  \"brand\": \"Ford\",\n",
    "  \"model\": \"Mustang\",\n",
    "  \"year\": 1964\n",
    "}\n",
    "\n",
    "# --- Added the code here ---\n",
    "if \"model\" in thisdict:\n",
    "# ---------------------------\n",
    "    print(\"Yes, 'model' is one of the keys in the thisdict dictionary\")"
   ]
  },
  {
   "cell_type": "markdown",
   "id": "9d947551",
   "metadata": {
    "id": "9d947551"
   },
   "source": [
    "#### Exercise 33 Change Values"
   ]
  },
  {
   "cell_type": "code",
   "execution_count": 47,
   "id": "ad9073f3",
   "metadata": {
    "colab": {
     "base_uri": "https://localhost:8080/"
    },
    "id": "ad9073f3",
    "outputId": "2052003e-926c-41a5-cfcf-e6826e59c463"
   },
   "outputs": [
    {
     "name": "stdout",
     "output_type": "stream",
     "text": [
      "Before:  {'brand': 'Ford', 'model': 'Mustang', 'year': 1964}\n",
      "After:  {'brand': 'Ford', 'model': 'Mustang', 'year': 2025}\n"
     ]
    }
   ],
   "source": [
    "thisdict = {\n",
    "  \"brand\": \"Ford\",\n",
    "  \"model\": \"Mustang\",\n",
    "  \"year\": 1964\n",
    "}\n",
    "\n",
    "print(\"Before: \", thisdict) #before the change\n",
    "\n",
    "# --- Added the code here ---\n",
    "thisdict[\"year\"] = 2025\n",
    "# ---------------------------\n",
    "\n",
    "print(\"After: \", thisdict) #after the change"
   ]
  },
  {
   "cell_type": "markdown",
   "id": "da0fd68f",
   "metadata": {
    "id": "da0fd68f"
   },
   "source": [
    "#### Exercise 34 Update Dictionary"
   ]
  },
  {
   "cell_type": "code",
   "execution_count": 48,
   "id": "bdbd34fd",
   "metadata": {
    "colab": {
     "base_uri": "https://localhost:8080/"
    },
    "id": "bdbd34fd",
    "outputId": "74a43797-4641-4e21-de8e-7876de59e362"
   },
   "outputs": [
    {
     "name": "stdout",
     "output_type": "stream",
     "text": [
      "Before:  {'brand': 'Ford', 'model': 'Mustang', 'year': 1964}\n",
      "After:  {'brand': 'Ford', 'model': 'Mustang', 'year': 2024}\n"
     ]
    }
   ],
   "source": [
    "thisdict = {\n",
    "  \"brand\": \"Ford\",\n",
    "  \"model\": \"Mustang\",\n",
    "  \"year\": 1964\n",
    "}\n",
    "\n",
    "print(\"Before: \", thisdict) #before the change\n",
    "\n",
    "# --- Added the code here ---\n",
    "thisdict.update({\"year\":2024})\n",
    "# ---------------------------\n",
    "\n",
    "print(\"After: \", thisdict) #after the change"
   ]
  },
  {
   "cell_type": "markdown",
   "id": "5e004605",
   "metadata": {
    "id": "5e004605"
   },
   "source": [
    "#### Exercise 35 Removing Items"
   ]
  },
  {
   "cell_type": "code",
   "execution_count": 49,
   "id": "9d70ab64",
   "metadata": {
    "colab": {
     "base_uri": "https://localhost:8080/"
    },
    "id": "9d70ab64",
    "outputId": "558d192c-51da-441e-ea3c-7ff6476c1b99"
   },
   "outputs": [
    {
     "name": "stdout",
     "output_type": "stream",
     "text": [
      "Before:  {'brand': 'Ford', 'model': 'Mustang', 'year': 1964}\n",
      "After:  {'brand': 'Ford', 'year': 1964}\n"
     ]
    }
   ],
   "source": [
    "thisdict = {\n",
    "  \"brand\": \"Ford\",\n",
    "  \"model\": \"Mustang\",\n",
    "  \"year\": 1964\n",
    "}\n",
    "\n",
    "print(\"Before: \", thisdict) #before the change\n",
    "\n",
    "# --- Added the code here ---\n",
    "thisdict.pop(\"model\")\n",
    "# ---------------------------\n",
    "\n",
    "print(\"After: \", thisdict) #after the change"
   ]
  },
  {
   "cell_type": "code",
   "execution_count": 53,
   "id": "5cf9b684",
   "metadata": {
    "colab": {
     "base_uri": "https://localhost:8080/"
    },
    "id": "5cf9b684",
    "outputId": "cb2a2b56-c080-437a-b04f-b8913f9bb2de"
   },
   "outputs": [
    {
     "name": "stdout",
     "output_type": "stream",
     "text": [
      "Before:  {'brand': 'Ford', 'model': 'Mustang', 'year': 1964}\n",
      "After:  {'brand': 'Ford', 'model': 'Mustang'}\n"
     ]
    }
   ],
   "source": [
    "thisdict = {\n",
    "  \"brand\": \"Ford\",\n",
    "  \"model\": \"Mustang\",\n",
    "  \"year\": 1964\n",
    "}\n",
    "\n",
    "print(\"Before: \", thisdict) #before the change\n",
    "\n",
    "# --- Added the code here ---\n",
    "thisdict.popitem()\n",
    "# ---------------------------\n",
    "\n",
    "print(\"After: \", thisdict) #after the change"
   ]
  },
  {
   "cell_type": "code",
   "execution_count": 55,
   "id": "258a6bc5",
   "metadata": {
    "colab": {
     "base_uri": "https://localhost:8080/"
    },
    "id": "258a6bc5",
    "outputId": "b3917254-d3a0-4443-d3d7-95fd50512309"
   },
   "outputs": [
    {
     "name": "stdout",
     "output_type": "stream",
     "text": [
      "{}\n"
     ]
    }
   ],
   "source": [
    "thisdict = {\n",
    "  \"brand\": \"Ford\",\n",
    "  \"model\": \"Mustang\",\n",
    "  \"year\": 1964\n",
    "}\n",
    "\n",
    "# --- Added the code here ---\n",
    "thisdict.clear()\n",
    "# ---------------------------\n",
    "\n",
    "print(thisdict)"
   ]
  },
  {
   "cell_type": "markdown",
   "id": "c82a34bc",
   "metadata": {
    "id": "c82a34bc"
   },
   "source": [
    "#### Exercise 36 Copy a Dictionary"
   ]
  },
  {
   "cell_type": "code",
   "execution_count": 57,
   "id": "9a52e747",
   "metadata": {
    "colab": {
     "base_uri": "https://localhost:8080/"
    },
    "id": "9a52e747",
    "outputId": "3bdb0cb1-15d8-4aec-b5bc-19e66ea86c9c"
   },
   "outputs": [
    {
     "name": "stdout",
     "output_type": "stream",
     "text": [
      "{'brand': 'Ford', 'model': 'Mustang', 'year': 1964}\n",
      "{'brand': 'Ford', 'model': 'Mustang', 'year': 1964}\n"
     ]
    }
   ],
   "source": [
    "thisdict = {\n",
    "  \"brand\": \"Ford\",\n",
    "  \"model\": \"Mustang\",\n",
    "  \"year\": 1964\n",
    "}\n",
    "\n",
    "# --- Added the code here ---\n",
    "mydict = thisdict.copy()\n",
    "# ---------------------------\n",
    "print(thisdict)\n",
    "print(mydict)"
   ]
  },
  {
   "cell_type": "code",
   "execution_count": 58,
   "id": "45a9f842",
   "metadata": {
    "colab": {
     "base_uri": "https://localhost:8080/"
    },
    "id": "45a9f842",
    "outputId": "c93809b0-cb1c-4d5a-c8f9-a94244b932e6"
   },
   "outputs": [
    {
     "name": "stdout",
     "output_type": "stream",
     "text": [
      "{'brand': 'Ford', 'model': 'Mustang', 'year': 1964}\n"
     ]
    }
   ],
   "source": [
    "thisdict = {\n",
    "  \"brand\": \"Ford\",\n",
    "  \"model\": \"Mustang\",\n",
    "  \"year\": 1964\n",
    "}\n",
    "\n",
    "# --- Added the code here ---\n",
    "mydict = (thisdict)\n",
    "# ---------------------------\n",
    "\n",
    "print(mydict)"
   ]
  },
  {
   "cell_type": "markdown",
   "id": "ab7179ff",
   "metadata": {
    "id": "ab7179ff"
   },
   "source": [
    "#### Exercise 37 Nested Dictionaries"
   ]
  },
  {
   "cell_type": "code",
   "execution_count": 60,
   "id": "d4ebfdb8",
   "metadata": {
    "colab": {
     "base_uri": "https://localhost:8080/"
    },
    "id": "d4ebfdb8",
    "outputId": "270643f1-1d38-47ad-b012-259dfa941228"
   },
   "outputs": [
    {
     "name": "stdout",
     "output_type": "stream",
     "text": [
      "{'child1': {'name': 'Emil', 'year': 2004}, 'child2': {'name': 'Tobias', 'year': 2007}, 'child3': {'name': 'Linus', 'year': 2011}}\n"
     ]
    },
    {
     "data": {
      "text/plain": [
       "{'child1': {'name': 'Emil', 'year': 2004},\n",
       " 'child2': {'name': 'Tobias', 'year': 2007},\n",
       " 'child3': {'name': 'Linus', 'year': 2011}}"
      ]
     },
     "execution_count": 60,
     "metadata": {},
     "output_type": "execute_result"
    }
   ],
   "source": [
    "myfamily = {\n",
    "  \"child1\" : {\n",
    "    \"name\" : \"Emil\",\n",
    "    \"year\" : 2004\n",
    "  },\n",
    "  \"child2\" : {\n",
    "    \"name\" : \"Tobias\",\n",
    "    \"year\" : 2007\n",
    "  },\n",
    "  \"child3\" : {\n",
    "    \"name\" : \"Linus\",\n",
    "    \"year\" : 2011\n",
    "  }\n",
    "}\n",
    "\n",
    "print(myfamily)\n",
    "myfamily"
   ]
  },
  {
   "cell_type": "code",
   "execution_count": 61,
   "id": "f82f173d",
   "metadata": {
    "colab": {
     "base_uri": "https://localhost:8080/"
    },
    "id": "f82f173d",
    "outputId": "e9325ad5-6156-4a6f-cdd7-211b475e72c1"
   },
   "outputs": [
    {
     "name": "stdout",
     "output_type": "stream",
     "text": [
      "{'child1': {'name': 'Emil', 'year': 2004}, 'child2': {'name': 'Tobias', 'year': 2007}, 'child3': {'name': 'Linus', 'year': 2011}}\n"
     ]
    },
    {
     "data": {
      "text/plain": [
       "{'child1': {'name': 'Emil', 'year': 2004},\n",
       " 'child2': {'name': 'Tobias', 'year': 2007},\n",
       " 'child3': {'name': 'Linus', 'year': 2011}}"
      ]
     },
     "execution_count": 61,
     "metadata": {},
     "output_type": "execute_result"
    }
   ],
   "source": [
    "child1 = {\n",
    "  \"name\" : \"Emil\",\n",
    "  \"year\" : 2004\n",
    "}\n",
    "child2 = {\n",
    "  \"name\" : \"Tobias\",\n",
    "  \"year\" : 2007\n",
    "}\n",
    "child3 = {\n",
    "  \"name\" : \"Linus\",\n",
    "  \"year\" : 2011\n",
    "}\n",
    "\n",
    "myfamily = {\n",
    "  \"child1\" : child1,\n",
    "  \"child2\" : child2,\n",
    "  \"child3\" : child3\n",
    "}\n",
    "\n",
    "print(myfamily)\n",
    "myfamily"
   ]
  },
  {
   "cell_type": "markdown",
   "id": "f4895017",
   "metadata": {
    "id": "f4895017"
   },
   "source": [
    "#### Exercise 38 Access Items in Nested Dictionaries"
   ]
  },
  {
   "cell_type": "code",
   "execution_count": 62,
   "id": "d23186e7",
   "metadata": {
    "colab": {
     "base_uri": "https://localhost:8080/"
    },
    "id": "d23186e7",
    "outputId": "302f96e1-6454-4dc7-e168-f463d8da29a2"
   },
   "outputs": [
    {
     "name": "stdout",
     "output_type": "stream",
     "text": [
      "Tobias\n"
     ]
    }
   ],
   "source": [
    "# --- Added the code here ---\n",
    "print(myfamily[\"child2\"][\"name\"])\n",
    "# ---------------------------"
   ]
  },
  {
   "cell_type": "code",
   "execution_count": 63,
   "id": "a3da1c4e",
   "metadata": {
    "colab": {
     "base_uri": "https://localhost:8080/"
    },
    "id": "a3da1c4e",
    "outputId": "07f2d957-e3a3-4647-9bdd-a6751c766ddf"
   },
   "outputs": [
    {
     "name": "stdout",
     "output_type": "stream",
     "text": [
      "2011\n"
     ]
    }
   ],
   "source": [
    "# --- Added the code here ---\n",
    "print(myfamily[\"child3\"][\"year\"])\n",
    "# ---------------------------"
   ]
  },
  {
   "cell_type": "markdown",
   "id": "d4156741",
   "metadata": {
    "id": "d4156741"
   },
   "source": [
    "-----"
   ]
  },
  {
   "cell_type": "markdown",
   "id": "a2595c1a",
   "metadata": {
    "id": "a2595c1a"
   },
   "source": [
    "#### Revised Date: July 18, 2024"
   ]
  }
 ],
 "metadata": {
  "colab": {
   "provenance": []
  },
  "kernelspec": {
   "display_name": "Python 3 (ipykernel)",
   "language": "python",
   "name": "python3"
  },
  "language_info": {
   "codemirror_mode": {
    "name": "ipython",
    "version": 3
   },
   "file_extension": ".py",
   "mimetype": "text/x-python",
   "name": "python",
   "nbconvert_exporter": "python",
   "pygments_lexer": "ipython3",
   "version": "3.11.5"
  }
 },
 "nbformat": 4,
 "nbformat_minor": 5
}
