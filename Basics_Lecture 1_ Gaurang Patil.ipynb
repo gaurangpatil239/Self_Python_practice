{
 "cells": [
  {
   "cell_type": "markdown",
   "id": "c08ce189",
   "metadata": {
    "id": "c08ce189"
   },
   "source": [
    "### Variables"
   ]
  },
  {
   "cell_type": "markdown",
   "id": "54b7c08b",
   "metadata": {
    "id": "54b7c08b"
   },
   "source": [
    "#### Exercise 1 Creating Variables and Output Variables"
   ]
  },
  {
   "cell_type": "code",
   "execution_count": 1,
   "id": "46514950",
   "metadata": {
    "colab": {
     "base_uri": "https://localhost:8080/"
    },
    "id": "46514950",
    "outputId": "d90fab68-2a90-4850-e6e7-f6b5e630ca1a"
   },
   "outputs": [
    {
     "name": "stdout",
     "output_type": "stream",
     "text": [
      "1\n"
     ]
    }
   ],
   "source": [
    "# --- Added the code here ---\n",
    "x=1\n",
    "# ---------------------------\n",
    "\n",
    "print(x)"
   ]
  },
  {
   "cell_type": "code",
   "execution_count": 2,
   "id": "97f8c3f0",
   "metadata": {
    "colab": {
     "base_uri": "https://localhost:8080/"
    },
    "id": "97f8c3f0",
    "outputId": "784253b4-0c05-4ff8-a932-ccf272e447da"
   },
   "outputs": [
    {
     "name": "stdout",
     "output_type": "stream",
     "text": [
      "NEU\n"
     ]
    }
   ],
   "source": [
    "# --- Added the code here ---\n",
    "y = \"NEU\"\n",
    "# ---------------------------\n",
    "\n",
    "print(y)"
   ]
  },
  {
   "cell_type": "code",
   "execution_count": 3,
   "id": "0eb5898c",
   "metadata": {
    "colab": {
     "base_uri": "https://localhost:8080/"
    },
    "id": "0eb5898c",
    "outputId": "db313e54-e22e-4169-b986-632a2f4aefee"
   },
   "outputs": [
    {
     "name": "stdout",
     "output_type": "stream",
     "text": [
      "Northeastern University\n"
     ]
    }
   ],
   "source": [
    "x = \"University\"\n",
    "\n",
    "# --- Added the code here ---\n",
    "print(\"Northeastern \" + x)\n",
    "# ---------------------------"
   ]
  },
  {
   "cell_type": "code",
   "execution_count": 4,
   "id": "8215f3ca",
   "metadata": {
    "colab": {
     "base_uri": "https://localhost:8080/"
    },
    "id": "8215f3ca",
    "outputId": "36e8114d-cd22-4056-c671-1e37953bb525"
   },
   "outputs": [
    {
     "name": "stdout",
     "output_type": "stream",
     "text": [
      "15\n"
     ]
    }
   ],
   "source": [
    "x = 5\n",
    "y = 10\n",
    "\n",
    "# --- Added the code here ---\n",
    "print(x+y)\n",
    "# ---------------------------"
   ]
  },
  {
   "cell_type": "code",
   "execution_count": 5,
   "id": "69c9d749",
   "metadata": {
    "colab": {
     "base_uri": "https://localhost:8080/"
    },
    "id": "69c9d749",
    "outputId": "278cbbab-9a69-4dd8-961e-1f3bbbe84f33"
   },
   "outputs": [
    {
     "name": "stdout",
     "output_type": "stream",
     "text": [
      "Northeastern University\n"
     ]
    }
   ],
   "source": [
    "x = \"Northeastern \"\n",
    "y = \"University\"\n",
    "\n",
    "# --- Added the code here ---\n",
    "z = x + y\n",
    "# ---------------------------\n",
    "\n",
    "print(z)"
   ]
  },
  {
   "cell_type": "code",
   "execution_count": 6,
   "id": "fcce9d0f",
   "metadata": {
    "colab": {
     "base_uri": "https://localhost:8080/"
    },
    "id": "fcce9d0f",
    "outputId": "7404ad08-ea29-40cd-878f-7db8ec64b2d9"
   },
   "outputs": [
    {
     "name": "stdout",
     "output_type": "stream",
     "text": [
      "Data Analytics Engineering\n"
     ]
    }
   ],
   "source": [
    "x = \"Data\"\n",
    "y = \"Analytics\"\n",
    "z = \"Engineering\"\n",
    "\n",
    "# --- Added the code here ---\n",
    "print(x, y, z)\n",
    "# ---------------------------"
   ]
  },
  {
   "cell_type": "code",
   "execution_count": 7,
   "id": "fd8e75b1",
   "metadata": {
    "colab": {
     "base_uri": "https://localhost:8080/"
    },
    "id": "fd8e75b1",
    "outputId": "cde93495-1a26-4498-906c-aa3e2f157d23"
   },
   "outputs": [
    {
     "name": "stdout",
     "output_type": "stream",
     "text": [
      "5 John\n"
     ]
    }
   ],
   "source": [
    "x = 5\n",
    "y = \"John\"\n",
    "\n",
    "# --- Added the code here ---\n",
    "print(x, y)\n",
    "# ---------------------------"
   ]
  },
  {
   "cell_type": "markdown",
   "id": "d48ba427",
   "metadata": {
    "id": "d48ba427"
   },
   "source": [
    "#### Exercise 2 Casting"
   ]
  },
  {
   "cell_type": "code",
   "execution_count": 8,
   "id": "01adc864",
   "metadata": {
    "colab": {
     "base_uri": "https://localhost:8080/"
    },
    "id": "01adc864",
    "outputId": "4f260f37-d966-4df8-b03b-ea919dc2dbb1"
   },
   "outputs": [
    {
     "name": "stdout",
     "output_type": "stream",
     "text": [
      "1\n",
      "2.8\n",
      "3\n"
     ]
    }
   ],
   "source": [
    "# --- Added the code here ---\n",
    "x = int(1)   \n",
    "y = float(2.8) \n",
    "z = int(\"3\") \n",
    "# ---------------------------\n",
    "\n",
    "print(x)\n",
    "print(y)\n",
    "print(z)"
   ]
  },
  {
   "cell_type": "code",
   "execution_count": 9,
   "id": "708cbc9d",
   "metadata": {
    "colab": {
     "base_uri": "https://localhost:8080/"
    },
    "id": "708cbc9d",
    "outputId": "f709c3b6-da72-432c-965d-17486e30ef9a"
   },
   "outputs": [
    {
     "name": "stdout",
     "output_type": "stream",
     "text": [
      "1.0\n",
      "2.8\n",
      "3.0\n",
      "4.2\n"
     ]
    }
   ],
   "source": [
    "# --- Added the code here ---\n",
    "x = float(1)     \n",
    "y = float(2.8)   \n",
    "z = float(\"3\")   \n",
    "w = float(\"4.2\") \n",
    "# ---------------------------\n",
    "\n",
    "print(x)\n",
    "print(y)\n",
    "print(z)\n",
    "print(w)"
   ]
  },
  {
   "cell_type": "code",
   "execution_count": 11,
   "id": "cc464a3b",
   "metadata": {
    "colab": {
     "base_uri": "https://localhost:8080/"
    },
    "id": "cc464a3b",
    "outputId": "f7fd8b29-daf6-40f0-a342-e8c7b1b251e9"
   },
   "outputs": [
    {
     "name": "stdout",
     "output_type": "stream",
     "text": [
      "S1\n",
      "2\n",
      "3.0\n"
     ]
    }
   ],
   "source": [
    "# --- Added the code here ---\n",
    "x = str(\"S1\") \n",
    "y = str(2)    \n",
    "z = str(3.0)  \n",
    "# ---------------------------\n",
    "\n",
    "print(x)\n",
    "print(y)\n",
    "print(z)"
   ]
  },
  {
   "cell_type": "code",
   "execution_count": 12,
   "id": "1982f8c3",
   "metadata": {
    "colab": {
     "base_uri": "https://localhost:8080/"
    },
    "id": "1982f8c3",
    "outputId": "9e82d4e2-d60c-4c63-c1b5-38caac0b4b01"
   },
   "outputs": [
    {
     "name": "stdout",
     "output_type": "stream",
     "text": [
      "3\n",
      "3\n",
      "3.0\n"
     ]
    }
   ],
   "source": [
    "# --- Added the code here ---\n",
    "x = str(3)    \n",
    "y = int(3)   \n",
    "z = float(3)  \n",
    "# ---------------------------\n",
    "\n",
    "print(x)\n",
    "print(y)\n",
    "print(z)"
   ]
  },
  {
   "cell_type": "markdown",
   "id": "4f63a489",
   "metadata": {
    "id": "4f63a489"
   },
   "source": [
    "#### Exercise 3 Getting the Type"
   ]
  },
  {
   "cell_type": "code",
   "execution_count": 13,
   "id": "a074d473",
   "metadata": {
    "colab": {
     "base_uri": "https://localhost:8080/"
    },
    "id": "a074d473",
    "outputId": "2ff55704-6104-4596-fba1-d1de3b2b9cc7"
   },
   "outputs": [
    {
     "name": "stdout",
     "output_type": "stream",
     "text": [
      "<class 'int'>\n",
      "<class 'float'>\n",
      "<class 'complex'>\n",
      "<class 'str'>\n"
     ]
    }
   ],
   "source": [
    "x = 1    # int\n",
    "y = 2.8  # float\n",
    "z = 1j   # complex\n",
    "name = \"Northeastern University\"\n",
    "\n",
    "print(type(x))\n",
    "print(type(y))\n",
    "print(type(z))\n",
    "print(type(name))"
   ]
  },
  {
   "cell_type": "code",
   "execution_count": 14,
   "id": "b8fcbe39",
   "metadata": {
    "colab": {
     "base_uri": "https://localhost:8080/"
    },
    "id": "b8fcbe39",
    "outputId": "dfb8255d-8b84-43fc-b2d4-cc6eb7dbc18f"
   },
   "outputs": [
    {
     "name": "stdout",
     "output_type": "stream",
     "text": [
      "<class 'int'>\n",
      "<class 'int'>\n",
      "<class 'int'>\n"
     ]
    }
   ],
   "source": [
    "x = 1\n",
    "y = 35656222554887711\n",
    "z = -3255522\n",
    "\n",
    "# --- Added the code here ---\n",
    "print(type(x))\n",
    "print(type(y))\n",
    "print(type(z))\n",
    "# ---------------------------"
   ]
  },
  {
   "cell_type": "code",
   "execution_count": 15,
   "id": "bdf53f05",
   "metadata": {
    "colab": {
     "base_uri": "https://localhost:8080/"
    },
    "id": "bdf53f05",
    "outputId": "3c264afc-a36c-49ad-a000-8f700bcfe3e5"
   },
   "outputs": [
    {
     "name": "stdout",
     "output_type": "stream",
     "text": [
      "<class 'float'>\n",
      "<class 'float'>\n",
      "<class 'float'>\n"
     ]
    }
   ],
   "source": [
    "x = 1.10\n",
    "y = 1.0\n",
    "z = -35.59\n",
    "\n",
    "# --- Added the code here ---\n",
    "print(type(x))\n",
    "print(type(y))\n",
    "print(type(z))\n",
    "# ---------------------------"
   ]
  },
  {
   "cell_type": "code",
   "execution_count": 16,
   "id": "c968804f",
   "metadata": {
    "colab": {
     "base_uri": "https://localhost:8080/"
    },
    "id": "c968804f",
    "outputId": "9c7381f1-2895-4a65-9747-84d280127eb7"
   },
   "outputs": [
    {
     "name": "stdout",
     "output_type": "stream",
     "text": [
      "<class 'float'>\n",
      "<class 'float'>\n",
      "<class 'float'>\n"
     ]
    }
   ],
   "source": [
    "x = 35e3\n",
    "y = 12E4\n",
    "z = -87.7e100\n",
    "\n",
    "# --- Added the code here ---\n",
    "print(type(x))\n",
    "print(type(y))\n",
    "print(type(z))\n",
    "# ---------------------------"
   ]
  },
  {
   "cell_type": "code",
   "execution_count": 17,
   "id": "0d938799",
   "metadata": {
    "colab": {
     "base_uri": "https://localhost:8080/"
    },
    "id": "0d938799",
    "outputId": "9733cc5a-aa37-4e53-ab6a-71d05463f6b2"
   },
   "outputs": [
    {
     "name": "stdout",
     "output_type": "stream",
     "text": [
      "<class 'complex'>\n",
      "<class 'complex'>\n",
      "<class 'complex'>\n"
     ]
    }
   ],
   "source": [
    "x = 3+5j\n",
    "y = 5j\n",
    "z = -5j\n",
    "\n",
    "# --- Added the code here ---\n",
    "print(type(x))\n",
    "print(type(y))\n",
    "print(type(z))\n",
    "# ---------------------------"
   ]
  },
  {
   "cell_type": "markdown",
   "id": "dc1004b4",
   "metadata": {
    "id": "dc1004b4"
   },
   "source": [
    "#### Exercise 4 Single or Double Quotes?"
   ]
  },
  {
   "cell_type": "code",
   "execution_count": 18,
   "id": "5c03fc98",
   "metadata": {
    "colab": {
     "base_uri": "https://localhost:8080/"
    },
    "id": "5c03fc98",
    "outputId": "c48cdedb-2b37-4b20-9995-103063cf95e9"
   },
   "outputs": [
    {
     "name": "stdout",
     "output_type": "stream",
     "text": [
      "John\n",
      "John\n"
     ]
    }
   ],
   "source": [
    "x = \"John\"\n",
    "print(x)\n",
    "# double quotes are the same as single quotes:\n",
    "x = 'John'\n",
    "print(x)"
   ]
  },
  {
   "cell_type": "markdown",
   "id": "901855af",
   "metadata": {
    "id": "901855af"
   },
   "source": [
    "#### Exercise 5 Case-Sensitive"
   ]
  },
  {
   "cell_type": "code",
   "execution_count": 19,
   "id": "c12c65b2",
   "metadata": {
    "colab": {
     "base_uri": "https://localhost:8080/"
    },
    "id": "c12c65b2",
    "outputId": "ff43b609-ea10-4ba3-da47-a238a6501aa0"
   },
   "outputs": [
    {
     "name": "stdout",
     "output_type": "stream",
     "text": [
      "4\n",
      "Sally\n"
     ]
    }
   ],
   "source": [
    "# --- Added the code here ---\n",
    "a = 4\n",
    "A = \"Sally\"\n",
    "# ---------------------------\n",
    "\n",
    "print(a)\n",
    "print(A)"
   ]
  },
  {
   "cell_type": "markdown",
   "id": "5e126400",
   "metadata": {
    "id": "5e126400"
   },
   "source": [
    "#### Exercise 6 Many Values to Multiple Variables"
   ]
  },
  {
   "cell_type": "code",
   "execution_count": 5,
   "id": "d04d5f32",
   "metadata": {
    "colab": {
     "base_uri": "https://localhost:8080/"
    },
    "id": "d04d5f32",
    "outputId": "07bdc1ae-1299-4085-eae5-6af4630c2497"
   },
   "outputs": [
    {
     "name": "stdout",
     "output_type": "stream",
     "text": [
      "Orange\n",
      "Banana\n",
      "Cherry\n"
     ]
    }
   ],
   "source": [
    "# --- Added the code here ---\n",
    "x, y, z = \"Orange\", \"Banana\", \"Cherry\"\n",
    "# ---------------------------\n",
    "\n",
    "print(x)\n",
    "print(y)\n",
    "print(z)"
   ]
  },
  {
   "cell_type": "markdown",
   "id": "18f377a2",
   "metadata": {
    "id": "18f377a2"
   },
   "source": [
    "#### Exercise 7 One Value to Multiple Variables"
   ]
  },
  {
   "cell_type": "code",
   "execution_count": 7,
   "id": "dddad804",
   "metadata": {
    "colab": {
     "base_uri": "https://localhost:8080/"
    },
    "id": "dddad804",
    "outputId": "4aba92d4-116d-45a2-92d4-1e065849d238"
   },
   "outputs": [
    {
     "name": "stdout",
     "output_type": "stream",
     "text": [
      "Orange\n",
      "Orange\n",
      "Orange\n"
     ]
    }
   ],
   "source": [
    "# --- Added the code here ---\n",
    "x = y = z = \"Orange\"\n",
    "# ---------------------------\n",
    "\n",
    "print(x)\n",
    "print(y)\n",
    "print(z)"
   ]
  },
  {
   "cell_type": "markdown",
   "id": "faedd330",
   "metadata": {
    "id": "faedd330"
   },
   "source": [
    "#### Exercise 8 Unpack a Collection"
   ]
  },
  {
   "cell_type": "code",
   "execution_count": 8,
   "id": "4a9a9a94",
   "metadata": {
    "colab": {
     "base_uri": "https://localhost:8080/"
    },
    "id": "4a9a9a94",
    "outputId": "fd9406da-43fa-4dcc-bacd-5baf8ac4bd95"
   },
   "outputs": [
    {
     "name": "stdout",
     "output_type": "stream",
     "text": [
      "['apple', 'banana', 'cherry']\n",
      "apple\n",
      "banana\n",
      "cherry\n"
     ]
    }
   ],
   "source": [
    "fruits = [\"apple\", \"banana\", \"cherry\"]\n",
    "\n",
    "# --- Added the code here ---\n",
    "x, y, z = fruits\n",
    "# ---------------------------\n",
    "\n",
    "print(fruits)\n",
    "print(x)\n",
    "print(y)\n",
    "print(z)"
   ]
  },
  {
   "cell_type": "markdown",
   "id": "f342d3c6",
   "metadata": {
    "id": "f342d3c6"
   },
   "source": [
    "### Global Variables"
   ]
  },
  {
   "cell_type": "markdown",
   "id": "d80aef25",
   "metadata": {
    "id": "d80aef25"
   },
   "source": [
    "#### Exercise 9 Create a variable outside of a function, and use it inside the function"
   ]
  },
  {
   "cell_type": "code",
   "execution_count": 9,
   "id": "542da4e8",
   "metadata": {
    "colab": {
     "base_uri": "https://localhost:8080/"
    },
    "id": "542da4e8",
    "outputId": "07b76c60-8389-4672-cce3-5887aab4c49d"
   },
   "outputs": [
    {
     "name": "stdout",
     "output_type": "stream",
     "text": [
      "Northeastern University\n"
     ]
    }
   ],
   "source": [
    "x = \"University\"\n",
    "\n",
    "def myfunc():\n",
    "    print(\"Northeastern \" + x)\n",
    "\n",
    "myfunc()"
   ]
  },
  {
   "cell_type": "code",
   "execution_count": 10,
   "id": "98f136fb",
   "metadata": {
    "colab": {
     "base_uri": "https://localhost:8080/"
    },
    "id": "98f136fb",
    "outputId": "e8ac15ff-2ffc-46c2-a792-0de7a9547fb5"
   },
   "outputs": [
    {
     "name": "stdout",
     "output_type": "stream",
     "text": [
      "Northeastern College\n",
      "Northeastern University\n"
     ]
    }
   ],
   "source": [
    "x = \"University\"\n",
    "\n",
    "def myfunc():\n",
    "    # --- Added the code here ---\n",
    "    x = \"College\"\n",
    "    # ---------------------------\n",
    "    print(\"Northeastern \" + x)\n",
    "\n",
    "myfunc()\n",
    "\n",
    "print(\"Northeastern \" + x)"
   ]
  },
  {
   "cell_type": "markdown",
   "id": "f10cbd6f",
   "metadata": {
    "id": "f10cbd6f"
   },
   "source": [
    "#### Exercise 10 The global Keyword"
   ]
  },
  {
   "cell_type": "code",
   "execution_count": 18,
   "id": "dec7bfec",
   "metadata": {
    "colab": {
     "base_uri": "https://localhost:8080/"
    },
    "id": "dec7bfec",
    "outputId": "cc0e04f2-a439-4e62-b6ff-2ecab6682271"
   },
   "outputs": [
    {
     "name": "stdout",
     "output_type": "stream",
     "text": [
      "Northeastern University\n"
     ]
    }
   ],
   "source": [
    "def myfunc():\n",
    "    # --- Added the code here ---\n",
    "    global x\n",
    "    # ---------------------------\n",
    "    x = \"University\"\n",
    "\n",
    "myfunc()\n",
    "\n",
    "print(\"Northeastern \" + x)"
   ]
  },
  {
   "cell_type": "code",
   "execution_count": 19,
   "id": "73f1afe5",
   "metadata": {
    "colab": {
     "base_uri": "https://localhost:8080/"
    },
    "id": "73f1afe5",
    "outputId": "2e43e5f9-1238-4614-e6f0-e7af9174feee"
   },
   "outputs": [
    {
     "name": "stdout",
     "output_type": "stream",
     "text": [
      "Northeastern University\n"
     ]
    }
   ],
   "source": [
    "x = \"College\"\n",
    "\n",
    "def myfunc():\n",
    "    global x\n",
    "    x = \"University\"\n",
    "\n",
    "myfunc()\n",
    "\n",
    "print(\"Northeastern \" + x)"
   ]
  },
  {
   "cell_type": "markdown",
   "id": "06be35da",
   "metadata": {
    "id": "06be35da"
   },
   "source": [
    "### Python Strings"
   ]
  },
  {
   "cell_type": "markdown",
   "id": "f2f9ccce",
   "metadata": {
    "id": "f2f9ccce"
   },
   "source": [
    "#### Exercise 11 Multiline Strings"
   ]
  },
  {
   "cell_type": "code",
   "execution_count": 20,
   "id": "1319f8b4",
   "metadata": {
    "colab": {
     "base_uri": "https://localhost:8080/"
    },
    "id": "1319f8b4",
    "outputId": "b75ca606-b5bf-4ea4-fd1b-e7c6fb242cc6"
   },
   "outputs": [
    {
     "name": "stdout",
     "output_type": "stream",
     "text": [
      "DAE Program,\n",
      "Northeastern University,\n",
      "Boston Campus\n",
      "USA.\n"
     ]
    }
   ],
   "source": [
    "# --- Added the code here ---\n",
    "a = \"\"\"DAE Program,\n",
    "Northeastern University,\n",
    "Boston Campus\n",
    "USA.\"\"\"\n",
    "# ---------------------------\n",
    "\n",
    "print(a)"
   ]
  },
  {
   "cell_type": "code",
   "execution_count": 21,
   "id": "641ec9db",
   "metadata": {
    "colab": {
     "base_uri": "https://localhost:8080/"
    },
    "id": "641ec9db",
    "outputId": "798d02fc-43b0-45a1-ea5c-486eaaf43ba5"
   },
   "outputs": [
    {
     "name": "stdout",
     "output_type": "stream",
     "text": [
      "DAE Program,\n",
      "Northeastern University,\n",
      "Boston Campus\n",
      "USA.\n"
     ]
    }
   ],
   "source": [
    "# --- Added the code here ---\n",
    "a = \"\"\"DAE Program,\n",
    "Northeastern University,\n",
    "Boston Campus\n",
    "USA.\"\"\"\n",
    "# ---------------------------\n",
    "\n",
    "print(a)"
   ]
  },
  {
   "cell_type": "markdown",
   "id": "056f2706",
   "metadata": {
    "id": "056f2706"
   },
   "source": [
    "#### Exercise 12 Strings are Arrays"
   ]
  },
  {
   "cell_type": "code",
   "execution_count": 20,
   "id": "b3132837",
   "metadata": {
    "colab": {
     "base_uri": "https://localhost:8080/"
    },
    "id": "b3132837",
    "outputId": "de81041d-3fb2-4d99-ff6d-acd841c5d3bc"
   },
   "outputs": [
    {
     "name": "stdout",
     "output_type": "stream",
     "text": [
      "U\n"
     ]
    }
   ],
   "source": [
    "a = \"Northeastern University\"\n",
    "\n",
    "# --- Added the code here ---\n",
    "print(a[13])\n",
    "# ---------------------------"
   ]
  },
  {
   "cell_type": "markdown",
   "id": "ee70e345",
   "metadata": {
    "id": "ee70e345"
   },
   "source": [
    "#### Exercise 13 Looping Through a String"
   ]
  },
  {
   "cell_type": "code",
   "execution_count": 21,
   "id": "ca8b0c41",
   "metadata": {
    "colab": {
     "base_uri": "https://localhost:8080/"
    },
    "id": "ca8b0c41",
    "outputId": "8c8fba8a-9a5a-4a30-ec39-7173bcdb4c51"
   },
   "outputs": [
    {
     "name": "stdout",
     "output_type": "stream",
     "text": [
      "N\n",
      "O\n",
      "R\n",
      "T\n",
      "H\n",
      "E\n",
      "A\n",
      "S\n",
      "T\n",
      "E\n",
      "R\n",
      "N\n"
     ]
    }
   ],
   "source": [
    "for x in \"NORTHEASTERN\":\n",
    "    print(x)"
   ]
  },
  {
   "cell_type": "markdown",
   "id": "a6adc839",
   "metadata": {
    "id": "a6adc839"
   },
   "source": [
    "#### Exercise 14 String Length"
   ]
  },
  {
   "cell_type": "code",
   "execution_count": 22,
   "id": "e0b28c32",
   "metadata": {
    "colab": {
     "base_uri": "https://localhost:8080/"
    },
    "id": "e0b28c32",
    "outputId": "1df4b1e1-c9a6-4b09-bb14-9723335765b2"
   },
   "outputs": [
    {
     "name": "stdout",
     "output_type": "stream",
     "text": [
      "12\n"
     ]
    }
   ],
   "source": [
    "a = \"NORTHEASTERN\"\n",
    "\n",
    "# --- Added the code here ---\n",
    "print(len(a))\n",
    "# ---------------------------"
   ]
  },
  {
   "cell_type": "markdown",
   "id": "655fb2c9",
   "metadata": {
    "id": "655fb2c9"
   },
   "source": [
    "#### Exercise 15 Check String"
   ]
  },
  {
   "cell_type": "code",
   "execution_count": 22,
   "id": "dc425e9b",
   "metadata": {
    "colab": {
     "base_uri": "https://localhost:8080/"
    },
    "id": "dc425e9b",
    "outputId": "86271cc7-3faa-498d-9bac-9d338e506c82"
   },
   "outputs": [
    {
     "name": "stdout",
     "output_type": "stream",
     "text": [
      "True\n"
     ]
    }
   ],
   "source": [
    "txt = \"Data Analytics Engineering\"\n",
    "\n",
    "# --- Added the code here ---\n",
    "print(\"Engineering\" in txt)\n",
    "# ---------------------------"
   ]
  },
  {
   "cell_type": "code",
   "execution_count": 31,
   "id": "347e8d4b",
   "metadata": {
    "colab": {
     "base_uri": "https://localhost:8080/"
    },
    "id": "347e8d4b",
    "outputId": "0470c0b4-fc71-4775-cd70-fb73c6f720d3"
   },
   "outputs": [
    {
     "name": "stdout",
     "output_type": "stream",
     "text": [
      "Yes, 'Engineering' is present.\n"
     ]
    }
   ],
   "source": [
    "txt = \"Data Analytics Engineering\"\n",
    "\n",
    "# --- Added the code here ---\n",
    "if \"Engineering\" in txt:\n",
    "    print(\"Yes, 'Engineering' is present.\")\n",
    "# ---------------------------"
   ]
  },
  {
   "cell_type": "markdown",
   "id": "4b55c7db",
   "metadata": {
    "id": "4b55c7db"
   },
   "source": [
    "#### Exercise 16 Check if NOT"
   ]
  },
  {
   "cell_type": "code",
   "execution_count": 27,
   "id": "5d8ec708",
   "metadata": {
    "colab": {
     "base_uri": "https://localhost:8080/"
    },
    "id": "5d8ec708",
    "outputId": "c4c01ae9-1092-4d70-aaac-3669d9de5ad8"
   },
   "outputs": [
    {
     "name": "stdout",
     "output_type": "stream",
     "text": [
      "True\n"
     ]
    }
   ],
   "source": [
    "txt = \"Data Analytics Engineering\"\n",
    "\n",
    "# --- Added the code here ---\n",
    "print(\"NEU\" not in txt)\n",
    "# ---------------------------"
   ]
  },
  {
   "cell_type": "code",
   "execution_count": 30,
   "id": "10fee797",
   "metadata": {
    "colab": {
     "base_uri": "https://localhost:8080/"
    },
    "id": "10fee797",
    "outputId": "8e98f62f-c138-4cd2-b52d-6373aa370e91"
   },
   "outputs": [
    {
     "name": "stdout",
     "output_type": "stream",
     "text": [
      "No, 'NEU' is NOT present.\n"
     ]
    }
   ],
   "source": [
    "txt = \"Data Analytics Engineering\"\n",
    "\n",
    "# --- Added the code here ---\n",
    "if \"NEU\" not in txt:\n",
    "    print(\"No, 'NEU' is NOT present.\")\n",
    "# ---------------------------   "
   ]
  },
  {
   "cell_type": "markdown",
   "id": "c3451059",
   "metadata": {
    "id": "c3451059"
   },
   "source": [
    "#### Exercise 17 Slicing Strings"
   ]
  },
  {
   "cell_type": "markdown",
   "id": "00e7c3a5",
   "metadata": {
    "id": "00e7c3a5"
   },
   "source": [
    "![image.png](data:image/png;base64,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)"
   ]
  },
  {
   "cell_type": "code",
   "execution_count": 32,
   "id": "ef55828d",
   "metadata": {
    "colab": {
     "base_uri": "https://localhost:8080/"
    },
    "id": "ef55828d",
    "outputId": "bfce062c-764b-43de-a7eb-a867116dedb0"
   },
   "outputs": [
    {
     "name": "stdout",
     "output_type": "stream",
     "text": [
      "World\n"
     ]
    }
   ],
   "source": [
    "b = \"Hello, World!\"\n",
    "\n",
    "# --- Added the code here ---\n",
    "print(b[7:12])\n",
    "# ---------------------------"
   ]
  },
  {
   "cell_type": "markdown",
   "id": "599b72cf",
   "metadata": {
    "id": "599b72cf"
   },
   "source": [
    "#### Exercise 18 Slice From the Start"
   ]
  },
  {
   "cell_type": "code",
   "execution_count": 34,
   "id": "ed9b181c",
   "metadata": {
    "colab": {
     "base_uri": "https://localhost:8080/"
    },
    "id": "ed9b181c",
    "outputId": "1af3cc15-7f04-4c1a-e1cc-6ea3414f6212"
   },
   "outputs": [
    {
     "name": "stdout",
     "output_type": "stream",
     "text": [
      "Hello\n"
     ]
    }
   ],
   "source": [
    "b = \"Hello, World!\"\n",
    "# START\n",
    "# --- Added the code here ---\n",
    "print(b[:5])\n",
    "# ---------------------------"
   ]
  },
  {
   "cell_type": "markdown",
   "id": "40e54d00",
   "metadata": {
    "id": "40e54d00"
   },
   "source": [
    "#### Exercise 19 Slice To the End"
   ]
  },
  {
   "cell_type": "code",
   "execution_count": 36,
   "id": "c3d466a6",
   "metadata": {
    "colab": {
     "base_uri": "https://localhost:8080/"
    },
    "id": "c3d466a6",
    "outputId": "b6d0d62b-4184-4f14-b29e-9c78c75da479"
   },
   "outputs": [
    {
     "name": "stdout",
     "output_type": "stream",
     "text": [
      "World!\n"
     ]
    }
   ],
   "source": [
    "b = \"Hello, World!\"\n",
    "# Form the end no need to put the tota length\n",
    "# --- Added the code here ---\n",
    "print(b[7:])\n",
    "# ---------------------------"
   ]
  },
  {
   "cell_type": "markdown",
   "id": "408545e9",
   "metadata": {
    "id": "408545e9"
   },
   "source": [
    "#### Exercise 20 Negative Indexing"
   ]
  },
  {
   "cell_type": "code",
   "execution_count": 37,
   "id": "42f4b676",
   "metadata": {
    "colab": {
     "base_uri": "https://localhost:8080/"
    },
    "id": "42f4b676",
    "outputId": "3c748df4-ee0b-43aa-e6e7-c84b679b92d6"
   },
   "outputs": [
    {
     "name": "stdout",
     "output_type": "stream",
     "text": [
      "Analytics\n"
     ]
    }
   ],
   "source": [
    "b = \"DataAnalyticsEngineering\"\n",
    "\n",
    "# --- Added the code here ---\n",
    "print(b[-20:-11])\n",
    "# ---------------------------"
   ]
  },
  {
   "cell_type": "markdown",
   "id": "61342939",
   "metadata": {
    "id": "61342939"
   },
   "source": [
    "#### Exercise 21 Modify Strings"
   ]
  },
  {
   "cell_type": "markdown",
   "id": "20ada7b9",
   "metadata": {
    "id": "20ada7b9"
   },
   "source": [
    "#### Upper Case"
   ]
  },
  {
   "cell_type": "code",
   "execution_count": 38,
   "id": "b5fc91e5",
   "metadata": {
    "colab": {
     "base_uri": "https://localhost:8080/"
    },
    "id": "b5fc91e5",
    "outputId": "a6584bdf-90b4-4f6c-98ef-ea7e6d6d317b"
   },
   "outputs": [
    {
     "name": "stdout",
     "output_type": "stream",
     "text": [
      "NORTHEASTERN UNIVERSITY\n"
     ]
    }
   ],
   "source": [
    "a = \"Northeastern University\"\n",
    "\n",
    "# --- Added the code here ---\n",
    "print(a.upper())\n",
    "# ---------------------------"
   ]
  },
  {
   "cell_type": "markdown",
   "id": "f5604d58",
   "metadata": {
    "id": "f5604d58"
   },
   "source": [
    "#### Lower Case"
   ]
  },
  {
   "cell_type": "code",
   "execution_count": 39,
   "id": "ed42aab9",
   "metadata": {
    "colab": {
     "base_uri": "https://localhost:8080/"
    },
    "id": "ed42aab9",
    "outputId": "b417d1f2-ffb7-48bf-b8e3-8417d697ed10"
   },
   "outputs": [
    {
     "name": "stdout",
     "output_type": "stream",
     "text": [
      "northeastern university\n"
     ]
    }
   ],
   "source": [
    "a = \"NORTHEASTERN UNIVERSITY\"\n",
    "\n",
    "# --- Added the code here ---\n",
    "print(a.lower())\n",
    "# ---------------------------"
   ]
  },
  {
   "cell_type": "markdown",
   "id": "89bcd329",
   "metadata": {
    "id": "89bcd329"
   },
   "source": [
    "#### Remove Whitespace"
   ]
  },
  {
   "cell_type": "code",
   "execution_count": 40,
   "id": "1ed85ff8",
   "metadata": {
    "colab": {
     "base_uri": "https://localhost:8080/"
    },
    "id": "1ed85ff8",
    "outputId": "ca7fef82-498f-4b9c-d9b0-e07ce9926b8f"
   },
   "outputs": [
    {
     "name": "stdout",
     "output_type": "stream",
     "text": [
      "  Northeastern University   \n",
      "Northeastern University\n"
     ]
    }
   ],
   "source": [
    "a = \"  Northeastern University   \"\n",
    "print(a)\n",
    "# Removes spaces when used strip\n",
    "# --- Added the code here ---\n",
    "print(a.strip())\n",
    "# ---------------------------"
   ]
  },
  {
   "cell_type": "markdown",
   "id": "0dee5cdc",
   "metadata": {
    "id": "0dee5cdc"
   },
   "source": [
    "#### Replace String"
   ]
  },
  {
   "cell_type": "code",
   "execution_count": 41,
   "id": "f9089b50",
   "metadata": {
    "colab": {
     "base_uri": "https://localhost:8080/"
    },
    "id": "f9089b50",
    "outputId": "92631c3d-c1ec-4516-df85-f3239a5bfc1b"
   },
   "outputs": [
    {
     "name": "stdout",
     "output_type": "stream",
     "text": [
      "Northeastern College\n"
     ]
    }
   ],
   "source": [
    "a = \"Northeastern University\"\n",
    "\n",
    "# --- Added the code here ---\n",
    "print(a.replace(\"University\", \"College\"))\n",
    "# ---------------------------"
   ]
  },
  {
   "cell_type": "markdown",
   "id": "aa5d4362",
   "metadata": {
    "id": "aa5d4362"
   },
   "source": [
    "#### Split String"
   ]
  },
  {
   "cell_type": "code",
   "execution_count": 42,
   "id": "5ad8b579",
   "metadata": {
    "colab": {
     "base_uri": "https://localhost:8080/"
    },
    "id": "5ad8b579",
    "outputId": "8c67a0f8-addb-4cfb-d77d-71cd0a511420"
   },
   "outputs": [
    {
     "name": "stdout",
     "output_type": "stream",
     "text": [
      "['DAE', 'Northeastern University']\n"
     ]
    }
   ],
   "source": [
    "a = \"DAE,Northeastern University\"\n",
    "\n",
    "# --- Added the code here ---\n",
    "print(a.split(\",\"))\n",
    "# ---------------------------"
   ]
  },
  {
   "cell_type": "markdown",
   "id": "cbd245e3",
   "metadata": {
    "id": "cbd245e3"
   },
   "source": [
    "#### Exercise 22 String Concatenation"
   ]
  },
  {
   "cell_type": "code",
   "execution_count": 43,
   "id": "aa63bff7",
   "metadata": {
    "colab": {
     "base_uri": "https://localhost:8080/"
    },
    "id": "aa63bff7",
    "outputId": "fcd5c67f-33eb-4e0b-9008-5f84e3aee888"
   },
   "outputs": [
    {
     "name": "stdout",
     "output_type": "stream",
     "text": [
      "NortheasternUniversity\n"
     ]
    }
   ],
   "source": [
    "a = \"Northeastern\"\n",
    "b = \"University\"\n",
    "\n",
    "# --- Added the code here ---\n",
    "c = a + b \n",
    "# ---------------------------\n",
    "\n",
    "print(c)"
   ]
  },
  {
   "cell_type": "code",
   "execution_count": 44,
   "id": "45127f79",
   "metadata": {
    "colab": {
     "base_uri": "https://localhost:8080/"
    },
    "id": "45127f79",
    "outputId": "ebacaf72-637e-4118-8139-144c6bc6b223"
   },
   "outputs": [
    {
     "name": "stdout",
     "output_type": "stream",
     "text": [
      "Northeastern University\n"
     ]
    }
   ],
   "source": [
    "a = \"Northeastern\"\n",
    "b = \"University\"\n",
    "\n",
    "# --- Added the code here ---\n",
    "c = a + \" \" + b\n",
    "# ---------------------------\n",
    "\n",
    "print(c)"
   ]
  },
  {
   "cell_type": "markdown",
   "id": "0d89dc94",
   "metadata": {
    "id": "0d89dc94"
   },
   "source": [
    "#### Exercise 23 String Format"
   ]
  },
  {
   "cell_type": "code",
   "execution_count": 45,
   "id": "d3d521b1",
   "metadata": {
    "colab": {
     "base_uri": "https://localhost:8080/"
    },
    "id": "d3d521b1",
    "outputId": "17e43cc1-89f4-4901-b20b-bc9c8dc2b382"
   },
   "outputs": [
    {
     "name": "stdout",
     "output_type": "stream",
     "text": [
      "We are the DAE student, and we are the class of 2025\n"
     ]
    }
   ],
   "source": [
    "age = 2025\n",
    "txt = \"We are the DAE student, and we are the class of {}\"\n",
    "\n",
    "# --- Added the code here ---\n",
    "print(txt.format(age))\n",
    "# ---------------------------"
   ]
  },
  {
   "cell_type": "code",
   "execution_count": 23,
   "id": "be883266",
   "metadata": {
    "colab": {
     "base_uri": "https://localhost:8080/"
    },
    "id": "be883266",
    "outputId": "10fa28f7-9c36-4f0d-de58-5fa4de080a34"
   },
   "outputs": [
    {
     "name": "stdout",
     "output_type": "stream",
     "text": [
      "I want 3 pieces of item 567 for 49.95 dollars.\n"
     ]
    }
   ],
   "source": [
    "quantity = 3\n",
    "itemno = 567\n",
    "price = 49.95\n",
    "myorder = \"I want {} pieces of item {} for {} dollars.\"\n",
    "\n",
    "# --- Added the code here ---\n",
    "print(myorder.format(quantity, itemno, price))\n",
    "# ---------------------------"
   ]
  },
  {
   "cell_type": "code",
   "execution_count": 46,
   "id": "d86f4558",
   "metadata": {
    "colab": {
     "base_uri": "https://localhost:8080/"
    },
    "id": "d86f4558",
    "outputId": "40618c32-6b03-46a0-908f-dc2cea5031f4"
   },
   "outputs": [
    {
     "name": "stdout",
     "output_type": "stream",
     "text": [
      "I want to pay 49.95 dollars for 3 pieces of item 567.\n"
     ]
    }
   ],
   "source": [
    "quantity = 3\n",
    "itemno = 567\n",
    "price = 49.95\n",
    "\n",
    "# --- Added the code here ---\n",
    "myorder = \"I want to pay {2} dollars for {0} pieces of item {1}.\"\n",
    "# ---------------------------\n",
    "\n",
    "print(myorder.format(quantity, itemno, price))"
   ]
  },
  {
   "cell_type": "markdown",
   "id": "3f724e08",
   "metadata": {
    "id": "3f724e08"
   },
   "source": [
    "#### Exercise 24 Escape Character"
   ]
  },
  {
   "cell_type": "code",
   "execution_count": 47,
   "id": "47d8ced2",
   "metadata": {
    "colab": {
     "base_uri": "https://localhost:8080/"
    },
    "id": "47d8ced2",
    "outputId": "1f4bf607-4f5f-4cb1-cb89-d70851b9be57"
   },
   "outputs": [
    {
     "name": "stdout",
     "output_type": "stream",
     "text": [
      "We are the so-called \"Husky\" at Northeastern University.\n"
     ]
    }
   ],
   "source": [
    "# --- Added the code here ---\n",
    "txt = \"We are the so-called \\\"Husky\\\" at Northeastern University.\"\n",
    "# ---------------------------\n",
    "\n",
    "print(txt)"
   ]
  },
  {
   "cell_type": "markdown",
   "id": "5de997db",
   "metadata": {
    "id": "5de997db"
   },
   "source": [
    "### Python Booleans"
   ]
  },
  {
   "cell_type": "markdown",
   "id": "8b605386",
   "metadata": {
    "id": "8b605386"
   },
   "source": [
    "#### Exercise 25 Boolean Values"
   ]
  },
  {
   "cell_type": "code",
   "execution_count": 48,
   "id": "a7669aee",
   "metadata": {
    "colab": {
     "base_uri": "https://localhost:8080/"
    },
    "id": "a7669aee",
    "outputId": "bd90714f-4047-4b3c-a24d-2fbd8023ad11"
   },
   "outputs": [
    {
     "data": {
      "text/plain": [
       "False"
      ]
     },
     "execution_count": 48,
     "metadata": {},
     "output_type": "execute_result"
    }
   ],
   "source": [
    "1==2"
   ]
  },
  {
   "cell_type": "code",
   "execution_count": 49,
   "id": "735472d1",
   "metadata": {
    "colab": {
     "base_uri": "https://localhost:8080/"
    },
    "id": "735472d1",
    "outputId": "6d6fb201-3739-4d5f-ff99-83971e1d5e1f"
   },
   "outputs": [
    {
     "data": {
      "text/plain": [
       "False"
      ]
     },
     "execution_count": 49,
     "metadata": {},
     "output_type": "execute_result"
    }
   ],
   "source": [
    "x=\"aBC\"\n",
    "y=\"ABC\"\n",
    "x==y"
   ]
  },
  {
   "cell_type": "code",
   "execution_count": 25,
   "id": "5aa94e92",
   "metadata": {
    "id": "5aa94e92"
   },
   "outputs": [],
   "source": [
    "# Createing X variable where x = 2\n",
    "x=2"
   ]
  },
  {
   "cell_type": "code",
   "execution_count": 26,
   "id": "ba3b5f5f",
   "metadata": {
    "colab": {
     "base_uri": "https://localhost:8080/"
    },
    "id": "ba3b5f5f",
    "outputId": "6d1c66b8-420f-48ad-f9dd-bf867dba29c5"
   },
   "outputs": [
    {
     "data": {
      "text/plain": [
       "False"
      ]
     },
     "execution_count": 26,
     "metadata": {},
     "output_type": "execute_result"
    }
   ],
   "source": [
    "x<1 and x>3"
   ]
  },
  {
   "cell_type": "code",
   "execution_count": 27,
   "id": "989cec8b",
   "metadata": {
    "colab": {
     "base_uri": "https://localhost:8080/"
    },
    "id": "989cec8b",
    "outputId": "57a62b09-bd82-491a-adfc-88d537e04901"
   },
   "outputs": [
    {
     "data": {
      "text/plain": [
       "False"
      ]
     },
     "execution_count": 27,
     "metadata": {},
     "output_type": "execute_result"
    }
   ],
   "source": [
    "x<1 and x==3"
   ]
  },
  {
   "cell_type": "code",
   "execution_count": 28,
   "id": "15094851",
   "metadata": {
    "colab": {
     "base_uri": "https://localhost:8080/"
    },
    "id": "15094851",
    "outputId": "ad6ebe26-553a-41a3-96df-ccb825634acc"
   },
   "outputs": [
    {
     "data": {
      "text/plain": [
       "True"
      ]
     },
     "execution_count": 28,
     "metadata": {},
     "output_type": "execute_result"
    }
   ],
   "source": [
    "x<1 or x==2"
   ]
  },
  {
   "cell_type": "code",
   "execution_count": 53,
   "id": "049af2e4",
   "metadata": {
    "colab": {
     "base_uri": "https://localhost:8080/"
    },
    "id": "049af2e4",
    "outputId": "f7ec9a8d-687d-425a-ac5e-be29b1ca13b6"
   },
   "outputs": [
    {
     "data": {
      "text/plain": [
       "False"
      ]
     },
     "execution_count": 53,
     "metadata": {},
     "output_type": "execute_result"
    }
   ],
   "source": [
    "x=1\n",
    "y=2\n",
    "x is y"
   ]
  },
  {
   "cell_type": "code",
   "execution_count": 54,
   "id": "fc964c02",
   "metadata": {
    "colab": {
     "base_uri": "https://localhost:8080/"
    },
    "id": "fc964c02",
    "outputId": "8dbd4353-066b-4e83-80c6-dd5856a1415f"
   },
   "outputs": [
    {
     "data": {
      "text/plain": [
       "False"
      ]
     },
     "execution_count": 54,
     "metadata": {},
     "output_type": "execute_result"
    }
   ],
   "source": [
    "x=\"abcd\"\n",
    "y=\"abc\"\n",
    "x in y"
   ]
  },
  {
   "cell_type": "markdown",
   "id": "e133d7ce",
   "metadata": {
    "id": "e133d7ce"
   },
   "source": [
    "### Python Operators"
   ]
  },
  {
   "cell_type": "markdown",
   "id": "c2c5e779",
   "metadata": {
    "id": "c2c5e779"
   },
   "source": [
    "#### Python Arithmetic Operators"
   ]
  },
  {
   "attachments": {
    "Slide1.jpeg": {
     "image/jpeg": "[encoded data removed]"
    }
   },
   "cell_type": "markdown",
   "id": "d621dfb8",
   "metadata": {
    "id": "d621dfb8"
   },
   "source": [
    "![Slide1.jpeg](attachment:Slide1.jpeg)"
   ]
  },
  {
   "cell_type": "markdown",
   "id": "f4925624",
   "metadata": {
    "id": "f4925624"
   },
   "source": [
    "#### Exercise 26 Arithmetic Operators"
   ]
  },
  {
   "cell_type": "code",
   "execution_count": 55,
   "id": "46c040d4",
   "metadata": {
    "colab": {
     "base_uri": "https://localhost:8080/"
    },
    "id": "46c040d4",
    "outputId": "1fdcecca-427f-43af-f6d4-c399c1660031"
   },
   "outputs": [
    {
     "data": {
      "text/plain": [
       "2"
      ]
     },
     "execution_count": 55,
     "metadata": {},
     "output_type": "execute_result"
    }
   ],
   "source": [
    "# Addition\n",
    "1+1"
   ]
  },
  {
   "cell_type": "code",
   "execution_count": 56,
   "id": "feb95884",
   "metadata": {
    "colab": {
     "base_uri": "https://localhost:8080/"
    },
    "id": "feb95884",
    "outputId": "d8f25f1f-7557-4627-f09e-c092b0d10987"
   },
   "outputs": [
    {
     "data": {
      "text/plain": [
       "8"
      ]
     },
     "execution_count": 56,
     "metadata": {},
     "output_type": "execute_result"
    }
   ],
   "source": [
    "# Exponential\n",
    "2**3 "
   ]
  },
  {
   "cell_type": "code",
   "execution_count": 57,
   "id": "9df7d6e2",
   "metadata": {
    "colab": {
     "base_uri": "https://localhost:8080/"
    },
    "id": "9df7d6e2",
    "outputId": "2be001a0-62fd-43d5-80a6-b1c731dc037f"
   },
   "outputs": [
    {
     "data": {
      "text/plain": [
       "6"
      ]
     },
     "execution_count": 57,
     "metadata": {},
     "output_type": "execute_result"
    }
   ],
   "source": [
    "# Multiplication\n",
    "2*3"
   ]
  },
  {
   "cell_type": "markdown",
   "id": "13e30fe1",
   "metadata": {
    "id": "13e30fe1"
   },
   "source": [
    "#### Python Assignment Operators"
   ]
  },
  {
   "cell_type": "markdown",
   "id": "d5b3f9ea",
   "metadata": {
    "id": "d5b3f9ea"
   },
   "source": [
    "#### Exercise 27 Assignment Operators"
   ]
  },
  {
   "cell_type": "code",
   "execution_count": 58,
   "id": "198512f0",
   "metadata": {
    "colab": {
     "base_uri": "https://localhost:8080/"
    },
    "id": "198512f0",
    "outputId": "38e07006-c1f1-49a4-cba1-4ffb0b59144e"
   },
   "outputs": [
    {
     "name": "stdout",
     "output_type": "stream",
     "text": [
      "5\n"
     ]
    }
   ],
   "source": [
    "x = 5\n",
    "print(x)"
   ]
  },
  {
   "cell_type": "code",
   "execution_count": 59,
   "id": "944f90c1",
   "metadata": {
    "colab": {
     "base_uri": "https://localhost:8080/"
    },
    "id": "944f90c1",
    "outputId": "01feb749-4e11-433e-bd4a-04cdfade0c5c"
   },
   "outputs": [
    {
     "name": "stdout",
     "output_type": "stream",
     "text": [
      "8\n"
     ]
    }
   ],
   "source": [
    "x += 3    # x = 5 + 3\n",
    "print(x)"
   ]
  },
  {
   "cell_type": "code",
   "execution_count": 60,
   "id": "f69e36cf",
   "metadata": {
    "colab": {
     "base_uri": "https://localhost:8080/"
    },
    "id": "f69e36cf",
    "outputId": "9be02e2e-cb3c-45ae-c591-b6b0fc698ca6"
   },
   "outputs": [
    {
     "name": "stdout",
     "output_type": "stream",
     "text": [
      "1.0\n"
     ]
    }
   ],
   "source": [
    "x /= 8   # x = 8 / 8\n",
    "print(x)"
   ]
  },
  {
   "cell_type": "markdown",
   "id": "918836ba",
   "metadata": {
    "id": "918836ba"
   },
   "source": [
    "#### Python Comparison Operators"
   ]
  },
  {
   "cell_type": "markdown",
   "id": "880d2b2b",
   "metadata": {
    "id": "880d2b2b"
   },
   "source": [
    "#### Exercise 28 Comparison Operators"
   ]
  },
  {
   "cell_type": "code",
   "execution_count": 61,
   "id": "836bc3fc",
   "metadata": {
    "colab": {
     "base_uri": "https://localhost:8080/"
    },
    "id": "836bc3fc",
    "outputId": "d89683c8-fd23-4ed8-99e6-0e27c1a3d1e0"
   },
   "outputs": [
    {
     "data": {
      "text/plain": [
       "False"
      ]
     },
     "execution_count": 61,
     "metadata": {},
     "output_type": "execute_result"
    }
   ],
   "source": [
    "1 == 2"
   ]
  },
  {
   "cell_type": "code",
   "execution_count": 62,
   "id": "af791e45",
   "metadata": {
    "colab": {
     "base_uri": "https://localhost:8080/"
    },
    "id": "af791e45",
    "outputId": "6cd57ff1-18d8-4fca-cada-83206eadbe65"
   },
   "outputs": [
    {
     "data": {
      "text/plain": [
       "True"
      ]
     },
     "execution_count": 62,
     "metadata": {},
     "output_type": "execute_result"
    }
   ],
   "source": [
    "1 != 2"
   ]
  },
  {
   "cell_type": "code",
   "execution_count": 63,
   "id": "4430c458",
   "metadata": {
    "colab": {
     "base_uri": "https://localhost:8080/"
    },
    "id": "4430c458",
    "outputId": "c16fb00d-d8f7-45c7-b440-0d5f06a8175f"
   },
   "outputs": [
    {
     "data": {
      "text/plain": [
       "True"
      ]
     },
     "execution_count": 63,
     "metadata": {},
     "output_type": "execute_result"
    }
   ],
   "source": [
    "1 < 2"
   ]
  },
  {
   "cell_type": "code",
   "execution_count": 64,
   "id": "26ec8e04",
   "metadata": {
    "colab": {
     "base_uri": "https://localhost:8080/"
    },
    "id": "26ec8e04",
    "outputId": "37340b3e-fe93-440a-fb08-d89e901662d9"
   },
   "outputs": [
    {
     "data": {
      "text/plain": [
       "False"
      ]
     },
     "execution_count": 64,
     "metadata": {},
     "output_type": "execute_result"
    }
   ],
   "source": [
    "x = \"aBC\"\n",
    "y = \"ABC\"\n",
    "x == y"
   ]
  },
  {
   "cell_type": "markdown",
   "id": "de7391cb",
   "metadata": {
    "id": "de7391cb"
   },
   "source": [
    "### Python Lists"
   ]
  },
  {
   "cell_type": "markdown",
   "id": "5a0df6d1",
   "metadata": {
    "id": "5a0df6d1"
   },
   "source": [
    "#### Exercise 29 Creating a list"
   ]
  },
  {
   "cell_type": "markdown",
   "id": "c660ef94",
   "metadata": {
    "id": "c660ef94"
   },
   "source": [
    "![image.png](data:image/png;base64,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)"
   ]
  },
  {
   "cell_type": "code",
   "execution_count": 65,
   "id": "844bdcf9",
   "metadata": {
    "colab": {
     "base_uri": "https://localhost:8080/"
    },
    "id": "844bdcf9",
    "outputId": "e4d04b1d-0f5c-4ed3-8788-1e08f5c5169e"
   },
   "outputs": [
    {
     "name": "stdout",
     "output_type": "stream",
     "text": [
      "[100, 200, 300, 400, 500, 600, 700, 800, 900]\n"
     ]
    }
   ],
   "source": [
    "thislist = [100,200,300,400,500,600,700,800,900]\n",
    "print(thislist)\n",
    "# Index is zero for first item and n-1 for the last item"
   ]
  },
  {
   "cell_type": "markdown",
   "id": "fed733d1",
   "metadata": {
    "id": "fed733d1"
   },
   "source": [
    "![image.png](data:image/png;base64,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)"
   ]
  },
  {
   "cell_type": "code",
   "execution_count": 66,
   "id": "d6c532c9",
   "metadata": {
    "colab": {
     "base_uri": "https://localhost:8080/"
    },
    "id": "d6c532c9",
    "outputId": "7fd026a3-c902-40f2-de80-147270c86352"
   },
   "outputs": [
    {
     "name": "stdout",
     "output_type": "stream",
     "text": [
      "['apple', 'banana', 'cherry']\n"
     ]
    }
   ],
   "source": [
    "thislist = [\"apple\", \"banana\", \"cherry\"]\n",
    "print(thislist)"
   ]
  },
  {
   "cell_type": "code",
   "execution_count": 29,
   "id": "f50781b6",
   "metadata": {
    "colab": {
     "base_uri": "https://localhost:8080/"
    },
    "id": "f50781b6",
    "outputId": "bdbc2aaa-98d6-4ea7-bd21-54cedee0eab7"
   },
   "outputs": [
    {
     "data": {
      "text/plain": [
       "list"
      ]
     },
     "execution_count": 29,
     "metadata": {},
     "output_type": "execute_result"
    }
   ],
   "source": [
    "thislist = [\"apple\", \"banana\", \"cherry\"]\n",
    "type(thislist)"
   ]
  },
  {
   "cell_type": "code",
   "execution_count": 30,
   "id": "92f8e9cf",
   "metadata": {
    "colab": {
     "base_uri": "https://localhost:8080/"
    },
    "id": "92f8e9cf",
    "outputId": "5e64656e-5ec2-41a3-c57b-dcae9b9fccd8"
   },
   "outputs": [
    {
     "data": {
      "text/plain": [
       "list"
      ]
     },
     "execution_count": 30,
     "metadata": {},
     "output_type": "execute_result"
    }
   ],
   "source": [
    "thislist = [1,2,3]\n",
    "type(thislist)"
   ]
  },
  {
   "cell_type": "markdown",
   "id": "6eef1b9b",
   "metadata": {
    "id": "6eef1b9b"
   },
   "source": [
    "#### Exercise 30 Allow Duplicates"
   ]
  },
  {
   "cell_type": "code",
   "execution_count": 31,
   "id": "4c95e9e1",
   "metadata": {
    "colab": {
     "base_uri": "https://localhost:8080/"
    },
    "id": "4c95e9e1",
    "outputId": "926ad09b-1d94-43ba-8bc8-11ca710322d7"
   },
   "outputs": [
    {
     "name": "stdout",
     "output_type": "stream",
     "text": [
      "['apple', 'banana', 'cherry', 'apple', 'cherry']\n"
     ]
    }
   ],
   "source": [
    "thislist = [\"apple\", \"banana\", \"cherry\", \"apple\", \"cherry\"]\n",
    "print(thislist)"
   ]
  },
  {
   "cell_type": "markdown",
   "id": "4e8cbd07",
   "metadata": {
    "id": "4e8cbd07"
   },
   "source": [
    "#### Exercise 31 List Length"
   ]
  },
  {
   "cell_type": "code",
   "execution_count": 32,
   "id": "b2f91f75",
   "metadata": {
    "colab": {
     "base_uri": "https://localhost:8080/"
    },
    "id": "b2f91f75",
    "outputId": "ae385621-9a30-4ad5-98dd-c985b7687ecb"
   },
   "outputs": [
    {
     "name": "stdout",
     "output_type": "stream",
     "text": [
      "3\n"
     ]
    }
   ],
   "source": [
    "thislist = [\"apple\", \"banana\", \"cherry\"]\n",
    "\n",
    "# --- Added the code here ---\n",
    "print(len(thislist))\n",
    "# ---------------------------"
   ]
  },
  {
   "cell_type": "markdown",
   "id": "3b3706a6",
   "metadata": {
    "id": "3b3706a6"
   },
   "source": [
    "#### Exercise 32 List Items - Data Types"
   ]
  },
  {
   "cell_type": "code",
   "execution_count": 33,
   "id": "f4aaefe6",
   "metadata": {
    "colab": {
     "base_uri": "https://localhost:8080/"
    },
    "id": "f4aaefe6",
    "outputId": "e64c237b-3634-496c-93f2-02c090e4f85a"
   },
   "outputs": [
    {
     "name": "stdout",
     "output_type": "stream",
     "text": [
      "['apple', 'banana', 'cherry']\n"
     ]
    }
   ],
   "source": [
    "list1 = [\"apple\", \"banana\", \"cherry\"]\n",
    "print(list1)"
   ]
  },
  {
   "cell_type": "code",
   "execution_count": 34,
   "id": "aa560dea",
   "metadata": {
    "colab": {
     "base_uri": "https://localhost:8080/"
    },
    "id": "aa560dea",
    "outputId": "694b8fa7-972e-4c35-bdf5-f4121b9c66b9"
   },
   "outputs": [
    {
     "name": "stdout",
     "output_type": "stream",
     "text": [
      "[1, 5, 7, 9, 3]\n"
     ]
    }
   ],
   "source": [
    "list2 = [1, 5, 7, 9, 3]\n",
    "print(list2)"
   ]
  },
  {
   "cell_type": "code",
   "execution_count": 35,
   "id": "50c30d8f",
   "metadata": {
    "colab": {
     "base_uri": "https://localhost:8080/"
    },
    "id": "50c30d8f",
    "outputId": "2e31841a-caa9-4235-c49b-b3f0a0be8d68"
   },
   "outputs": [
    {
     "name": "stdout",
     "output_type": "stream",
     "text": [
      "[True, False, False]\n"
     ]
    }
   ],
   "source": [
    "list3 = [True, False, False]\n",
    "print(list3)"
   ]
  },
  {
   "cell_type": "code",
   "execution_count": 36,
   "id": "d83c6ab9",
   "metadata": {
    "colab": {
     "base_uri": "https://localhost:8080/"
    },
    "id": "d83c6ab9",
    "outputId": "404175f0-f4c3-42c0-9122-6d07128a2fe8"
   },
   "outputs": [
    {
     "name": "stdout",
     "output_type": "stream",
     "text": [
      "['abc', 34, True, 40, 'male']\n"
     ]
    }
   ],
   "source": [
    "list4 = [\"abc\", 34, True, 40, \"male\"]\n",
    "print(list4)"
   ]
  },
  {
   "cell_type": "markdown",
   "id": "c7f2dfb9",
   "metadata": {
    "id": "c7f2dfb9"
   },
   "source": [
    "#### Exercise 33 Access List Items"
   ]
  },
  {
   "cell_type": "code",
   "execution_count": 67,
   "id": "ad3b7c35",
   "metadata": {
    "colab": {
     "base_uri": "https://localhost:8080/"
    },
    "id": "ad3b7c35",
    "outputId": "c79f02ae-92f3-46bf-99a3-694d5915026e"
   },
   "outputs": [
    {
     "name": "stdout",
     "output_type": "stream",
     "text": [
      "banana\n"
     ]
    }
   ],
   "source": [
    "thislist = [\"apple\", \"banana\", \"cherry\"]\n",
    "\n",
    "# --- Added the code here ---\n",
    "print(thislist[1])\n",
    "# ---------------------------"
   ]
  },
  {
   "cell_type": "markdown",
   "id": "97850f30",
   "metadata": {
    "id": "97850f30"
   },
   "source": [
    "#### Negative Indexing:"
   ]
  },
  {
   "cell_type": "code",
   "execution_count": 68,
   "id": "07622d97",
   "metadata": {
    "colab": {
     "base_uri": "https://localhost:8080/"
    },
    "id": "07622d97",
    "outputId": "870a2997-883f-410d-c065-986cf8ba3806"
   },
   "outputs": [
    {
     "name": "stdout",
     "output_type": "stream",
     "text": [
      "cherry\n"
     ]
    }
   ],
   "source": [
    "thislist = [\"apple\", \"banana\", \"cherry\"]\n",
    "\n",
    "# --- Added the code here ---\n",
    "print(thislist[-1])\n",
    "# ---------------------------"
   ]
  },
  {
   "cell_type": "markdown",
   "id": "716a0dde",
   "metadata": {
    "id": "716a0dde"
   },
   "source": [
    "#### Range of Indexes"
   ]
  },
  {
   "cell_type": "code",
   "execution_count": 69,
   "id": "da585398",
   "metadata": {
    "colab": {
     "base_uri": "https://localhost:8080/"
    },
    "id": "da585398",
    "outputId": "c70636fe-b7f9-440e-e12a-4ce3ca82b978"
   },
   "outputs": [
    {
     "name": "stdout",
     "output_type": "stream",
     "text": [
      "['cherry', 'orange', 'kiwi']\n"
     ]
    }
   ],
   "source": [
    "thislist = [\"apple\", \"banana\", \"cherry\", \"orange\", \"kiwi\", \"melon\", \"mango\"]\n",
    "\n",
    "# --- Added the code here ---\n",
    "print(thislist[2:5])\n",
    "# ---------------------------"
   ]
  },
  {
   "cell_type": "code",
   "execution_count": 70,
   "id": "519c8e61",
   "metadata": {
    "colab": {
     "base_uri": "https://localhost:8080/"
    },
    "id": "519c8e61",
    "outputId": "a716c654-b64b-4f47-c6c9-98582f899710"
   },
   "outputs": [
    {
     "name": "stdout",
     "output_type": "stream",
     "text": [
      "['apple', 'banana', 'cherry', 'orange', 'kiwi']\n"
     ]
    }
   ],
   "source": [
    "thislist = [\"apple\", \"banana\", \"cherry\", \"orange\", \"kiwi\", \"melon\", \"mango\"]\n",
    "\n",
    "# --- Added the code here ---\n",
    "print(thislist[:5])\n",
    "# ---------------------------"
   ]
  },
  {
   "cell_type": "code",
   "execution_count": 71,
   "id": "bf469b13",
   "metadata": {
    "colab": {
     "base_uri": "https://localhost:8080/"
    },
    "id": "bf469b13",
    "outputId": "07e883c3-f668-40da-dc41-eb14f5c5fb80"
   },
   "outputs": [
    {
     "name": "stdout",
     "output_type": "stream",
     "text": [
      "['cherry', 'orange', 'kiwi', 'melon', 'mango']\n"
     ]
    }
   ],
   "source": [
    "thislist = [\"apple\", \"banana\", \"cherry\", \"orange\", \"kiwi\", \"melon\", \"mango\"]\n",
    "\n",
    "# --- Added the code here ---\n",
    "print(thislist[2:])\n",
    "# ---------------------------"
   ]
  },
  {
   "cell_type": "markdown",
   "id": "90c36ebf",
   "metadata": {
    "id": "90c36ebf"
   },
   "source": [
    "#### Range of Negative Indexes"
   ]
  },
  {
   "cell_type": "code",
   "execution_count": 37,
   "id": "a4a5ffe9",
   "metadata": {
    "colab": {
     "base_uri": "https://localhost:8080/"
    },
    "id": "a4a5ffe9",
    "outputId": "7b5af364-ce77-48e0-ba42-15d794b4e3da"
   },
   "outputs": [
    {
     "name": "stdout",
     "output_type": "stream",
     "text": [
      "['orange', 'kiwi', 'melon']\n"
     ]
    }
   ],
   "source": [
    "thislist = [\"apple\", \"banana\", \"cherry\", \"orange\", \"kiwi\", \"melon\", \"mango\"]\n",
    "\n",
    "# --- Added the code here ---\n",
    "print(thislist[-4:-1])\n",
    "# ---------------------------"
   ]
  },
  {
   "cell_type": "markdown",
   "id": "0c6fa59f",
   "metadata": {
    "id": "0c6fa59f"
   },
   "source": [
    "#### Exercise 34 Check if Item Exists"
   ]
  },
  {
   "cell_type": "code",
   "execution_count": 74,
   "id": "b2f72b10",
   "metadata": {
    "colab": {
     "base_uri": "https://localhost:8080/"
    },
    "id": "b2f72b10",
    "outputId": "3e7775cf-bfe9-4c35-d85b-7d4dac977f11"
   },
   "outputs": [
    {
     "name": "stdout",
     "output_type": "stream",
     "text": [
      "Yes, 'apple' is in the fruits list\n"
     ]
    }
   ],
   "source": [
    "thislist = [\"apple\", \"banana\", \"cherry\"]\n",
    "\n",
    "# --- Added the code here ---\n",
    "if \"apple\" in thislist:\n",
    "    print(\"Yes, 'apple' is in the fruits list\")\n",
    "# ---------------------------"
   ]
  },
  {
   "cell_type": "markdown",
   "id": "332bc7c1",
   "metadata": {
    "id": "332bc7c1"
   },
   "source": [
    "#### Exercise 35 Change Item Value"
   ]
  },
  {
   "cell_type": "code",
   "execution_count": 75,
   "id": "29695dc8",
   "metadata": {
    "colab": {
     "base_uri": "https://localhost:8080/"
    },
    "id": "29695dc8",
    "outputId": "7e3f28ce-2524-4ae9-ec01-0927f674e566"
   },
   "outputs": [
    {
     "name": "stdout",
     "output_type": "stream",
     "text": [
      "['apple', 'banana', 'blackcurrant']\n"
     ]
    }
   ],
   "source": [
    "thislist = [\"apple\", \"banana\", \"cherry\"]\n",
    "# Use the index number and replace theitem that is to be changed\n",
    "\n",
    "# --- Added the code here ---\n",
    "thislist[2] = \"blackcurrant\"\n",
    "# ---------------------------\n",
    "\n",
    "print(thislist)"
   ]
  },
  {
   "cell_type": "markdown",
   "id": "a4f60cda",
   "metadata": {
    "id": "a4f60cda"
   },
   "source": [
    "#### Change a Range of Item Values"
   ]
  },
  {
   "cell_type": "code",
   "execution_count": 76,
   "id": "d265ccc5",
   "metadata": {
    "colab": {
     "base_uri": "https://localhost:8080/"
    },
    "id": "d265ccc5",
    "outputId": "c0f34a2b-15bc-473e-d65d-5810c4819dcf"
   },
   "outputs": [
    {
     "name": "stdout",
     "output_type": "stream",
     "text": [
      "['apple', 'blackcurrant', 'watermelon', 'orange', 'kiwi', 'mango']\n"
     ]
    }
   ],
   "source": [
    "thislist = [\"apple\", \"banana\", \"cherry\", \"orange\", \"kiwi\", \"mango\"]\n",
    "# Put the index numbers in to the places where you want to change the items\n",
    "# --- Added the code here ---\n",
    "thislist[1:3] = [\"blackcurrant\", \"watermelon\"]\n",
    "# ---------------------------\n",
    "\n",
    "print(thislist)"
   ]
  },
  {
   "cell_type": "code",
   "execution_count": 77,
   "id": "90a49bd1",
   "metadata": {
    "colab": {
     "base_uri": "https://localhost:8080/"
    },
    "id": "90a49bd1",
    "outputId": "2bd731e1-d56d-45e3-a104-259f0cf2d875"
   },
   "outputs": [
    {
     "name": "stdout",
     "output_type": "stream",
     "text": [
      "['blackcurrant', 'watermelon', 'banana', 'cherry']\n"
     ]
    }
   ],
   "source": [
    "thislist = [\"apple\", \"banana\", \"cherry\"]\n",
    "\n",
    "# --- Added the code here ---\n",
    "thislist[0:1] = [\"blackcurrant\", \"watermelon\"]\n",
    "# ---------------------------\n",
    "\n",
    "print(thislist)"
   ]
  },
  {
   "cell_type": "code",
   "execution_count": 78,
   "id": "816cf296",
   "metadata": {
    "colab": {
     "base_uri": "https://localhost:8080/"
    },
    "id": "816cf296",
    "outputId": "8b6debc8-0897-4653-fc48-ca064c2b3a07"
   },
   "outputs": [
    {
     "name": "stdout",
     "output_type": "stream",
     "text": [
      "['apple', 'watermelon']\n"
     ]
    }
   ],
   "source": [
    "thislist = [\"apple\", \"banana\", \"cherry\"]\n",
    "\n",
    "# --- Added the code here ---\n",
    "thislist[1:3] = [\"watermelon\"]\n",
    "# ---------------------------\n",
    "\n",
    "print(thislist)"
   ]
  },
  {
   "cell_type": "markdown",
   "id": "c2c834e5",
   "metadata": {
    "id": "c2c834e5"
   },
   "source": [
    "#### Exercise 36 Insert Items"
   ]
  },
  {
   "cell_type": "code",
   "execution_count": 79,
   "id": "8766d0e7",
   "metadata": {
    "colab": {
     "base_uri": "https://localhost:8080/"
    },
    "id": "8766d0e7",
    "outputId": "8851fceb-a26c-408e-941c-e898a1e1931a"
   },
   "outputs": [
    {
     "name": "stdout",
     "output_type": "stream",
     "text": [
      "['apple', 'banana', 'Muskmelon', 'cherry']\n"
     ]
    }
   ],
   "source": [
    "thislist = [\"apple\", \"banana\", \"cherry\"]\n",
    "# Insert the itemin the place where you want to put\n",
    "# --- Added the code here ---\n",
    "thislist.insert(2, \"Muskmelon\")\n",
    "# ---------------------------\n",
    "\n",
    "print(thislist)"
   ]
  },
  {
   "cell_type": "markdown",
   "id": "b53b3217",
   "metadata": {
    "id": "b53b3217"
   },
   "source": [
    "#### Exercise 37 Extend List"
   ]
  },
  {
   "cell_type": "code",
   "execution_count": 80,
   "id": "f278f0bf",
   "metadata": {
    "colab": {
     "base_uri": "https://localhost:8080/"
    },
    "id": "f278f0bf",
    "outputId": "614da681-d1ef-41bd-8ce9-49badf62f169"
   },
   "outputs": [
    {
     "name": "stdout",
     "output_type": "stream",
     "text": [
      "['apple', 'banana', 'cherry', 'mango', 'pineapple', 'papaya']\n"
     ]
    }
   ],
   "source": [
    "thislist = [\"apple\", \"banana\", \"cherry\"]\n",
    "tropical = [\"mango\", \"pineapple\", \"papaya\"]\n",
    "\n",
    "# --- Added the code here ---\n",
    "thislist.extend(tropical)\n",
    "# ---------------------------\n",
    "\n",
    "print(thislist)"
   ]
  },
  {
   "cell_type": "markdown",
   "id": "3c4d1d02",
   "metadata": {
    "id": "3c4d1d02"
   },
   "source": [
    "#### Exercise 38 Remove Specified Item"
   ]
  },
  {
   "cell_type": "code",
   "execution_count": 82,
   "id": "2572c54a",
   "metadata": {
    "colab": {
     "base_uri": "https://localhost:8080/"
    },
    "id": "2572c54a",
    "outputId": "5953ba62-ba3e-4ba6-b36f-aff32c02b8ae"
   },
   "outputs": [
    {
     "name": "stdout",
     "output_type": "stream",
     "text": [
      "['apple', 'cherry']\n"
     ]
    }
   ],
   "source": [
    "thislist = [\"apple\", \"banana\", \"cherry\"]\n",
    "\n",
    "# --- Added the code here ---\n",
    "thislist.remove(\"banana\")\n",
    "# ---------------------------\n",
    "\n",
    "print(thislist)"
   ]
  },
  {
   "cell_type": "code",
   "execution_count": 83,
   "id": "69448fbd",
   "metadata": {
    "colab": {
     "base_uri": "https://localhost:8080/"
    },
    "id": "69448fbd",
    "outputId": "2ba34419-3188-46fb-cf91-a4c38c0b4116"
   },
   "outputs": [
    {
     "name": "stdout",
     "output_type": "stream",
     "text": [
      "['apple', 'cherry', 'banana', 'kiwi']\n"
     ]
    }
   ],
   "source": [
    "thislist = [\"apple\", \"banana\", \"cherry\", \"banana\", \"kiwi\"]\n",
    "\n",
    "# --- Added the code here ---\n",
    "thislist.remove(\"banana\")\n",
    "# ---------------------------\n",
    "\n",
    "print(thislist)"
   ]
  },
  {
   "cell_type": "markdown",
   "id": "a7493056",
   "metadata": {
    "id": "a7493056"
   },
   "source": [
    "#### Exercise 39 Remove Specified Index"
   ]
  },
  {
   "cell_type": "code",
   "execution_count": 85,
   "id": "61e8de3a",
   "metadata": {
    "colab": {
     "base_uri": "https://localhost:8080/"
    },
    "id": "61e8de3a",
    "outputId": "6a67ca89-f2da-44bf-dece-a733618e83b7"
   },
   "outputs": [
    {
     "name": "stdout",
     "output_type": "stream",
     "text": [
      "['apple', 'cherry']\n"
     ]
    }
   ],
   "source": [
    "thislist = [\"apple\", \"banana\", \"cherry\"]\n",
    "# enter theindex number to be put in the pop function to remove it from the list\n",
    "# --- Added the code here ---\n",
    "thislist.pop(1)\n",
    "# ---------------------------\n",
    "\n",
    "print(thislist)"
   ]
  },
  {
   "cell_type": "code",
   "execution_count": 38,
   "id": "54a6a158",
   "metadata": {
    "colab": {
     "base_uri": "https://localhost:8080/"
    },
    "id": "54a6a158",
    "outputId": "b463af57-f161-480d-9997-4cf90ba24e2f"
   },
   "outputs": [
    {
     "name": "stdout",
     "output_type": "stream",
     "text": [
      "['apple', 'banana']\n"
     ]
    }
   ],
   "source": [
    "thislist = [\"apple\", \"banana\", \"cherry\"]\n",
    "# --- Added the code here ---\n",
    "thislist.pop()\n",
    "# ---------------------------\n",
    "print(thislist)"
   ]
  },
  {
   "cell_type": "markdown",
   "id": "6f9900cd",
   "metadata": {
    "id": "6f9900cd"
   },
   "source": [
    "#### Exercise 40 Remove the list"
   ]
  },
  {
   "cell_type": "code",
   "execution_count": 39,
   "id": "92566938",
   "metadata": {
    "id": "92566938"
   },
   "outputs": [],
   "source": [
    "thislist = [\"apple\", \"banana\", \"cherry\"]\n",
    "\n",
    "# --- Added the code here ---\n",
    "del thislist\n",
    "# ---------------------------"
   ]
  },
  {
   "cell_type": "code",
   "execution_count": null,
   "id": "8da2978c",
   "metadata": {
    "id": "8da2978c"
   },
   "outputs": [],
   "source": [
    "#print(thislist)"
   ]
  },
  {
   "cell_type": "markdown",
   "id": "a6cc7fbb",
   "metadata": {
    "id": "a6cc7fbb"
   },
   "source": [
    "#### Exercise 41 Clear the List"
   ]
  },
  {
   "cell_type": "code",
   "execution_count": 40,
   "id": "606cac70",
   "metadata": {
    "colab": {
     "base_uri": "https://localhost:8080/"
    },
    "id": "606cac70",
    "outputId": "1c8ec076-02f3-4cae-dd33-5e0dcec657c8"
   },
   "outputs": [
    {
     "name": "stdout",
     "output_type": "stream",
     "text": [
      "[]\n"
     ]
    }
   ],
   "source": [
    "thislist = [\"apple\", \"banana\", \"cherry\"]\n",
    "\n",
    "# --- Added the code here ---\n",
    "thislist.clear()\n",
    "# ---------------------------\n",
    "\n",
    "print(thislist)"
   ]
  },
  {
   "cell_type": "markdown",
   "id": "58441e3f",
   "metadata": {
    "id": "58441e3f"
   },
   "source": [
    "#### Exercise 42 Sort Lists"
   ]
  },
  {
   "cell_type": "code",
   "execution_count": 89,
   "id": "b7a3c8d3",
   "metadata": {
    "colab": {
     "base_uri": "https://localhost:8080/"
    },
    "id": "b7a3c8d3",
    "outputId": "9ea72ebb-91aa-43da-e122-00e881c1bf51"
   },
   "outputs": [
    {
     "name": "stdout",
     "output_type": "stream",
     "text": [
      "['banana', 'kiwi', 'mango', 'orange', 'pineapple']\n"
     ]
    }
   ],
   "source": [
    "thislist = [\"orange\", \"mango\", \"kiwi\", \"pineapple\", \"banana\"]\n",
    "\n",
    "# --- Added the code here ---\n",
    "thislist.sort()\n",
    "# ---------------------------\n",
    "\n",
    "print(thislist)"
   ]
  },
  {
   "cell_type": "code",
   "execution_count": 93,
   "id": "dc283d0f",
   "metadata": {
    "colab": {
     "base_uri": "https://localhost:8080/"
    },
    "id": "dc283d0f",
    "outputId": "2a4a8703-2eea-45fe-c5bb-dab3852ef80f"
   },
   "outputs": [
    {
     "name": "stdout",
     "output_type": "stream",
     "text": [
      "[100, 82, 65, 50, 23]\n"
     ]
    }
   ],
   "source": [
    "thislist = [100, 50, 65, 82, 23]\n",
    "thislist.sort(reverse = True)\n",
    "print(thislist)"
   ]
  },
  {
   "cell_type": "markdown",
   "id": "6482de1a",
   "metadata": {
    "id": "6482de1a"
   },
   "source": [
    "#### Sort Descending"
   ]
  },
  {
   "cell_type": "code",
   "execution_count": 41,
   "id": "c8192f9f",
   "metadata": {
    "colab": {
     "base_uri": "https://localhost:8080/"
    },
    "id": "c8192f9f",
    "outputId": "4047b200-88fe-4cb3-c9c4-11fc33931453"
   },
   "outputs": [
    {
     "name": "stdout",
     "output_type": "stream",
     "text": [
      "['pineapple', 'orange', 'mango', 'kiwi', 'banana']\n"
     ]
    }
   ],
   "source": [
    "thislist = [\"orange\", \"mango\", \"kiwi\", \"pineapple\", \"banana\"]\n",
    "\n",
    "# --- Added the code here ---\n",
    "thislist.sort(reverse = True)\n",
    "# ---------------------------\n",
    "\n",
    "print(thislist)"
   ]
  },
  {
   "cell_type": "code",
   "execution_count": 42,
   "id": "f5b9a793",
   "metadata": {
    "colab": {
     "base_uri": "https://localhost:8080/"
    },
    "id": "f5b9a793",
    "outputId": "6768823a-9b42-4e13-97c5-1ead014c11a5"
   },
   "outputs": [
    {
     "name": "stdout",
     "output_type": "stream",
     "text": [
      "[100, 82, 65, 50, 23]\n"
     ]
    }
   ],
   "source": [
    "thislist = [100, 50, 65, 82, 23]\n",
    "thislist.sort(reverse = True)\n",
    "print(thislist)"
   ]
  },
  {
   "cell_type": "markdown",
   "id": "e31c4d42",
   "metadata": {
    "id": "e31c4d42"
   },
   "source": [
    "#### Exercise 43 Reverse Order"
   ]
  },
  {
   "cell_type": "code",
   "execution_count": 43,
   "id": "e20ed6be",
   "metadata": {
    "colab": {
     "base_uri": "https://localhost:8080/"
    },
    "id": "e20ed6be",
    "outputId": "9fbcc11c-7c12-4aac-937f-87989637ef40"
   },
   "outputs": [
    {
     "name": "stdout",
     "output_type": "stream",
     "text": [
      "['cherry', 'Kiwi', 'Orange', 'banana']\n"
     ]
    }
   ],
   "source": [
    "thislist = [\"banana\", \"Orange\", \"Kiwi\", \"cherry\"]\n",
    "\n",
    "# --- Added the code here ---\n",
    "thislist.reverse()\n",
    "# ---------------------------\n",
    "\n",
    "print(thislist)"
   ]
  },
  {
   "cell_type": "markdown",
   "id": "2869d046",
   "metadata": {
    "id": "2869d046"
   },
   "source": [
    "#### Exercise 44 Copy a List"
   ]
  },
  {
   "cell_type": "code",
   "execution_count": 95,
   "id": "4786bfea",
   "metadata": {
    "colab": {
     "base_uri": "https://localhost:8080/"
    },
    "id": "4786bfea",
    "outputId": "ea62bbc9-a32b-41dc-b005-f13401aedf7f"
   },
   "outputs": [
    {
     "name": "stdout",
     "output_type": "stream",
     "text": [
      "['apple', 'banana', 'cherry']\n",
      "['apple', 'banana', 'cherry']\n"
     ]
    }
   ],
   "source": [
    "thislist = [\"apple\", \"banana\", \"cherry\"]\n",
    "\n",
    "# --- Added the code here ---\n",
    "mylist = thislist.copy()\n",
    "# ---------------------------\n",
    "\n",
    "print(thislist)\n",
    "print(mylist)"
   ]
  },
  {
   "cell_type": "code",
   "execution_count": 96,
   "id": "88b684bc",
   "metadata": {
    "colab": {
     "base_uri": "https://localhost:8080/"
    },
    "id": "88b684bc",
    "outputId": "c44c73a3-798c-40f6-cb0f-a5a550fc2917"
   },
   "outputs": [
    {
     "name": "stdout",
     "output_type": "stream",
     "text": [
      "['apple', 'banana', 'cherry']\n",
      "['apple', 'banana', 'cherry']\n"
     ]
    }
   ],
   "source": [
    "thislist = [\"apple\", \"banana\", \"cherry\"]\n",
    "\n",
    "# --- Added the code here ---\n",
    "mylist = list((thislist))\n",
    "# ---------------------------\n",
    "\n",
    "print(thislist)\n",
    "print(mylist)"
   ]
  },
  {
   "cell_type": "markdown",
   "id": "27cec16c",
   "metadata": {
    "id": "27cec16c"
   },
   "source": [
    "#### Exercise 45 Join Lists"
   ]
  },
  {
   "cell_type": "code",
   "execution_count": 98,
   "id": "7d11e25a",
   "metadata": {
    "colab": {
     "base_uri": "https://localhost:8080/"
    },
    "id": "7d11e25a",
    "outputId": "20809096-76cc-426a-a675-52a8613a8eb9"
   },
   "outputs": [
    {
     "name": "stdout",
     "output_type": "stream",
     "text": [
      "['a', 'b', 'c', 1, 2, 3]\n"
     ]
    }
   ],
   "source": [
    "list1 = [\"a\", \"b\", \"c\"]\n",
    "list2 = [1, 2, 3]\n",
    "\n",
    "# --- Added the code here ---\n",
    "list3 = list1 + list2\n",
    "# ---------------------------\n",
    "\n",
    "print(list3)"
   ]
  },
  {
   "cell_type": "code",
   "execution_count": 45,
   "id": "edd66044",
   "metadata": {
    "colab": {
     "base_uri": "https://localhost:8080/"
    },
    "id": "edd66044",
    "outputId": "229a9b1e-e35d-42a6-aac8-86e0fe6eb0b9"
   },
   "outputs": [
    {
     "name": "stdout",
     "output_type": "stream",
     "text": [
      "['a', 'b', 'c', 1, 2, 3]\n"
     ]
    }
   ],
   "source": [
    "list1 = [\"a\", \"b\" , \"c\"]\n",
    "list2 = [1, 2, 3]\n",
    "\n",
    "# --- Added the code here ---\n",
    "for x in list2:\n",
    "    list1.append(x)\n",
    "# ---------------------------\n",
    "\n",
    "print(list1)"
   ]
  },
  {
   "cell_type": "code",
   "execution_count": 44,
   "id": "75ff9014",
   "metadata": {
    "colab": {
     "base_uri": "https://localhost:8080/"
    },
    "id": "75ff9014",
    "outputId": "7b7d19dd-ebb1-463c-e106-b4b157068d43"
   },
   "outputs": [
    {
     "name": "stdout",
     "output_type": "stream",
     "text": [
      "['a', 'b', 'c', 1, 2, 3]\n"
     ]
    }
   ],
   "source": [
    "list1 = [\"a\", \"b\" , \"c\"]\n",
    "list2 = [1, 2, 3]\n",
    "\n",
    "# --- Added the code here ---\n",
    "list1.extend(list2)\n",
    "# ---------------------------\n",
    "\n",
    "print(list1)"
   ]
  },
  {
   "cell_type": "markdown",
   "id": "30775e59",
   "metadata": {
    "id": "30775e59"
   },
   "source": [
    "-----"
   ]
  },
  {
   "cell_type": "markdown",
   "id": "01c485f5",
   "metadata": {
    "id": "01c485f5"
   },
   "source": [
    "#### Revised Date: July 18, 2024"
   ]
  }
 ],
 "metadata": {
  "colab": {
   "provenance": []
  },
  "kernelspec": {
   "display_name": "Python 3 (ipykernel)",
   "language": "python",
   "name": "python3"
  },
  "language_info": {
   "codemirror_mode": {
    "name": "ipython",
    "version": 3
   },
   "file_extension": ".py",
   "mimetype": "text/x-python",
   "name": "python",
   "nbconvert_exporter": "python",
   "pygments_lexer": "ipython3",
   "version": "3.11.5"
  }
 },
 "nbformat": 4,
 "nbformat_minor": 5
}
